{
 "cells": [
  {
   "cell_type": "markdown",
   "metadata": {},
   "source": [
    "# Chat API\n",
    "\n",
    "* Connecting to Claude's API via [claudette](https://claudette.answer.ai/) for chat completion, and `openai` for text-to-speech (TTS)."
   ]
  },
  {
   "cell_type": "code",
   "execution_count": 1,
   "metadata": {},
   "outputs": [],
   "source": [
    "#| default_exp chat"
   ]
  },
  {
   "cell_type": "code",
   "execution_count": 2,
   "metadata": {},
   "outputs": [],
   "source": [
    "#| hide\n",
    "from nbdev.showdoc import *"
   ]
  },
  {
   "cell_type": "code",
   "execution_count": 3,
   "metadata": {},
   "outputs": [],
   "source": [
    "#| export\n",
    "import claudette\n",
    "from pathlib import Path"
   ]
  },
  {
   "cell_type": "markdown",
   "metadata": {},
   "source": [
    "* Claudette provides models, which is a list of models currently available from the SDK."
   ]
  },
  {
   "cell_type": "code",
   "execution_count": 5,
   "metadata": {},
   "outputs": [
    {
     "data": {
      "text/plain": [
       "['claude-3-opus-20240229',\n",
       " 'claude-3-7-sonnet-20250219',\n",
       " 'claude-3-5-sonnet-20241022',\n",
       " 'claude-3-haiku-20240307',\n",
       " 'claude-3-5-haiku-20241022']"
      ]
     },
     "execution_count": 5,
     "metadata": {},
     "output_type": "execute_result"
    }
   ],
   "source": [
    "claudette.models"
   ]
  },
  {
   "cell_type": "code",
   "execution_count": 6,
   "metadata": {},
   "outputs": [
    {
     "data": {
      "text/plain": [
       "'claude-3-7-sonnet-20250219'"
      ]
     },
     "execution_count": 6,
     "metadata": {},
     "output_type": "execute_result"
    }
   ],
   "source": [
    "# using Sonnet 3.5\n",
    "model = claudette.models[1]\n",
    "model"
   ]
  },
  {
   "cell_type": "code",
   "execution_count": 7,
   "metadata": {},
   "outputs": [
    {
     "ename": "TypeError",
     "evalue": "\"Could not resolve authentication method. Expected either api_key or auth_token to be set. Or for one of the `X-Api-Key` or `Authorization` headers to be explicitly omitted\"",
     "output_type": "error",
     "traceback": [
      "\u001b[1;31m---------------------------------------------------------------------------\u001b[0m",
      "\u001b[1;31mTypeError\u001b[0m                                 Traceback (most recent call last)",
      "Cell \u001b[1;32mIn[7], line 3\u001b[0m\n\u001b[0;32m      1\u001b[0m system_prompt \u001b[38;5;241m=\u001b[39m \u001b[38;5;124m\"\"\"\u001b[39m\u001b[38;5;124mYou are a helpful and concise assistant.\u001b[39m\u001b[38;5;124m\"\"\"\u001b[39m\n\u001b[0;32m      2\u001b[0m chat \u001b[38;5;241m=\u001b[39m claudette\u001b[38;5;241m.\u001b[39mChat(model, sp\u001b[38;5;241m=\u001b[39msystem_prompt)\n\u001b[1;32m----> 3\u001b[0m \u001b[43mchat\u001b[49m\u001b[43m(\u001b[49m\u001b[38;5;124;43m\"\u001b[39;49m\u001b[38;5;124;43mWhat\u001b[39;49m\u001b[38;5;124;43m'\u001b[39;49m\u001b[38;5;124;43ms the climate like in November in the UK?\u001b[39;49m\u001b[38;5;124;43m\"\u001b[39;49m\u001b[43m)\u001b[49m\n",
      "File \u001b[1;32md:\\ProgramData\\Anaconda3.9\\envs\\wingman\\Lib\\site-packages\\claudette\\core.py:394\u001b[0m, in \u001b[0;36m__call__\u001b[1;34m(self, pr, temp, maxtok, stream, prefill, tool_choice, **kw)\u001b[0m\n\u001b[0;32m    392\u001b[0m \u001b[38;5;28;01mif\u001b[39;00m temp \u001b[38;5;129;01mis\u001b[39;00m \u001b[38;5;28;01mNone\u001b[39;00m: temp\u001b[38;5;241m=\u001b[39m\u001b[38;5;28mself\u001b[39m\u001b[38;5;241m.\u001b[39mtemp\n\u001b[0;32m    393\u001b[0m \u001b[38;5;28mself\u001b[39m\u001b[38;5;241m.\u001b[39m_append_pr(pr)\n\u001b[1;32m--> 394\u001b[0m res \u001b[38;5;241m=\u001b[39m \u001b[38;5;28;43mself\u001b[39;49m\u001b[38;5;241;43m.\u001b[39;49m\u001b[43mc\u001b[49m\u001b[43m(\u001b[49m\u001b[38;5;28;43mself\u001b[39;49m\u001b[38;5;241;43m.\u001b[39;49m\u001b[43mh\u001b[49m\u001b[43m,\u001b[49m\u001b[43m \u001b[49m\u001b[43mstream\u001b[49m\u001b[38;5;241;43m=\u001b[39;49m\u001b[43mstream\u001b[49m\u001b[43m,\u001b[49m\u001b[43m \u001b[49m\u001b[43mprefill\u001b[49m\u001b[38;5;241;43m=\u001b[39;49m\u001b[43mprefill\u001b[49m\u001b[43m,\u001b[49m\u001b[43m \u001b[49m\u001b[43msp\u001b[49m\u001b[38;5;241;43m=\u001b[39;49m\u001b[38;5;28;43mself\u001b[39;49m\u001b[38;5;241;43m.\u001b[39;49m\u001b[43msp\u001b[49m\u001b[43m,\u001b[49m\u001b[43m \u001b[49m\u001b[43mtemp\u001b[49m\u001b[38;5;241;43m=\u001b[39;49m\u001b[43mtemp\u001b[49m\u001b[43m,\u001b[49m\u001b[43m \u001b[49m\u001b[43mmaxtok\u001b[49m\u001b[38;5;241;43m=\u001b[39;49m\u001b[43mmaxtok\u001b[49m\u001b[43m,\u001b[49m\n\u001b[0;32m    395\u001b[0m \u001b[43m             \u001b[49m\u001b[43mtools\u001b[49m\u001b[38;5;241;43m=\u001b[39;49m\u001b[38;5;28;43mself\u001b[39;49m\u001b[38;5;241;43m.\u001b[39;49m\u001b[43mtools\u001b[49m\u001b[43m,\u001b[49m\u001b[43m \u001b[49m\u001b[43mtool_choice\u001b[49m\u001b[38;5;241;43m=\u001b[39;49m\u001b[43mtool_choice\u001b[49m\u001b[43m,\u001b[49m\u001b[38;5;241;43m*\u001b[39;49m\u001b[38;5;241;43m*\u001b[39;49m\u001b[43mkw\u001b[49m\u001b[43m)\u001b[49m\n\u001b[0;32m    396\u001b[0m \u001b[38;5;28;01mif\u001b[39;00m stream: \u001b[38;5;28;01mreturn\u001b[39;00m \u001b[38;5;28mself\u001b[39m\u001b[38;5;241m.\u001b[39m_stream(res)\n\u001b[0;32m    397\u001b[0m \u001b[38;5;28mself\u001b[39m\u001b[38;5;241m.\u001b[39mh \u001b[38;5;241m+\u001b[39m\u001b[38;5;241m=\u001b[39m mk_toolres(\u001b[38;5;28mself\u001b[39m\u001b[38;5;241m.\u001b[39mc\u001b[38;5;241m.\u001b[39mresult, ns\u001b[38;5;241m=\u001b[39m\u001b[38;5;28mself\u001b[39m\u001b[38;5;241m.\u001b[39mtools)\n",
      "File \u001b[1;32md:\\ProgramData\\Anaconda3.9\\envs\\wingman\\Lib\\site-packages\\claudette\\core.py:291\u001b[0m, in \u001b[0;36m__call__\u001b[1;34m(self, msgs, sp, temp, maxtok, prefill, stream, stop, tools, tool_choice, **kwargs)\u001b[0m\n\u001b[0;32m    289\u001b[0m \u001b[38;5;28;01mif\u001b[39;00m \u001b[38;5;28many\u001b[39m(t \u001b[38;5;241m==\u001b[39m \u001b[38;5;124m'\u001b[39m\u001b[38;5;124mimage\u001b[39m\u001b[38;5;124m'\u001b[39m \u001b[38;5;28;01mfor\u001b[39;00m t \u001b[38;5;129;01min\u001b[39;00m get_types(msgs)): \u001b[38;5;28;01massert\u001b[39;00m \u001b[38;5;129;01mnot\u001b[39;00m \u001b[38;5;28mself\u001b[39m\u001b[38;5;241m.\u001b[39mtext_only, \u001b[38;5;124mf\u001b[39m\u001b[38;5;124m\"\u001b[39m\u001b[38;5;124mImages are not supported by the current model type: \u001b[39m\u001b[38;5;132;01m{\u001b[39;00m\u001b[38;5;28mself\u001b[39m\u001b[38;5;241m.\u001b[39mmodel\u001b[38;5;132;01m}\u001b[39;00m\u001b[38;5;124m\"\u001b[39m\n\u001b[0;32m    290\u001b[0m \u001b[38;5;28;01mif\u001b[39;00m stream: \u001b[38;5;28;01mreturn\u001b[39;00m \u001b[38;5;28mself\u001b[39m\u001b[38;5;241m.\u001b[39m_stream(msgs, prefill\u001b[38;5;241m=\u001b[39mprefill, max_tokens\u001b[38;5;241m=\u001b[39mmaxtok, system\u001b[38;5;241m=\u001b[39msp, temperature\u001b[38;5;241m=\u001b[39mtemp, \u001b[38;5;241m*\u001b[39m\u001b[38;5;241m*\u001b[39mkwargs)\n\u001b[1;32m--> 291\u001b[0m res \u001b[38;5;241m=\u001b[39m \u001b[38;5;28;43mself\u001b[39;49m\u001b[38;5;241;43m.\u001b[39;49m\u001b[43mc\u001b[49m\u001b[38;5;241;43m.\u001b[39;49m\u001b[43mmessages\u001b[49m\u001b[38;5;241;43m.\u001b[39;49m\u001b[43mcreate\u001b[49m\u001b[43m(\u001b[49m\u001b[43mmodel\u001b[49m\u001b[38;5;241;43m=\u001b[39;49m\u001b[38;5;28;43mself\u001b[39;49m\u001b[38;5;241;43m.\u001b[39;49m\u001b[43mmodel\u001b[49m\u001b[43m,\u001b[49m\u001b[43m \u001b[49m\u001b[43mmessages\u001b[49m\u001b[38;5;241;43m=\u001b[39;49m\u001b[43mmsgs\u001b[49m\u001b[43m,\u001b[49m\u001b[43m \u001b[49m\u001b[43mmax_tokens\u001b[49m\u001b[38;5;241;43m=\u001b[39;49m\u001b[43mmaxtok\u001b[49m\u001b[43m,\u001b[49m\u001b[43m \u001b[49m\u001b[43msystem\u001b[49m\u001b[38;5;241;43m=\u001b[39;49m\u001b[43msp\u001b[49m\u001b[43m,\u001b[49m\u001b[43m \u001b[49m\u001b[43mtemperature\u001b[49m\u001b[38;5;241;43m=\u001b[39;49m\u001b[43mtemp\u001b[49m\u001b[43m,\u001b[49m\u001b[43m \u001b[49m\u001b[38;5;241;43m*\u001b[39;49m\u001b[38;5;241;43m*\u001b[39;49m\u001b[43mkwargs\u001b[49m\u001b[43m)\u001b[49m\n\u001b[0;32m    292\u001b[0m \u001b[38;5;28;01mreturn\u001b[39;00m \u001b[38;5;28mself\u001b[39m\u001b[38;5;241m.\u001b[39m_log(res, prefill, msgs, maxtok, sp, temp, stream\u001b[38;5;241m=\u001b[39mstream, stop\u001b[38;5;241m=\u001b[39mstop, \u001b[38;5;241m*\u001b[39m\u001b[38;5;241m*\u001b[39mkwargs)\n",
      "File \u001b[1;32md:\\ProgramData\\Anaconda3.9\\envs\\wingman\\Lib\\site-packages\\anthropic\\_utils\\_utils.py:275\u001b[0m, in \u001b[0;36mrequired_args.<locals>.inner.<locals>.wrapper\u001b[1;34m(*args, **kwargs)\u001b[0m\n\u001b[0;32m    273\u001b[0m             msg \u001b[38;5;241m=\u001b[39m \u001b[38;5;124mf\u001b[39m\u001b[38;5;124m\"\u001b[39m\u001b[38;5;124mMissing required argument: \u001b[39m\u001b[38;5;132;01m{\u001b[39;00mquote(missing[\u001b[38;5;241m0\u001b[39m])\u001b[38;5;132;01m}\u001b[39;00m\u001b[38;5;124m\"\u001b[39m\n\u001b[0;32m    274\u001b[0m     \u001b[38;5;28;01mraise\u001b[39;00m \u001b[38;5;167;01mTypeError\u001b[39;00m(msg)\n\u001b[1;32m--> 275\u001b[0m \u001b[38;5;28;01mreturn\u001b[39;00m \u001b[43mfunc\u001b[49m\u001b[43m(\u001b[49m\u001b[38;5;241;43m*\u001b[39;49m\u001b[43margs\u001b[49m\u001b[43m,\u001b[49m\u001b[43m \u001b[49m\u001b[38;5;241;43m*\u001b[39;49m\u001b[38;5;241;43m*\u001b[39;49m\u001b[43mkwargs\u001b[49m\u001b[43m)\u001b[49m\n",
      "File \u001b[1;32md:\\ProgramData\\Anaconda3.9\\envs\\wingman\\Lib\\site-packages\\anthropic\\resources\\messages\\messages.py:953\u001b[0m, in \u001b[0;36mMessages.create\u001b[1;34m(self, max_tokens, messages, model, metadata, stop_sequences, stream, system, temperature, thinking, tool_choice, tools, top_k, top_p, extra_headers, extra_query, extra_body, timeout)\u001b[0m\n\u001b[0;32m    946\u001b[0m \u001b[38;5;28;01mif\u001b[39;00m model \u001b[38;5;129;01min\u001b[39;00m DEPRECATED_MODELS:\n\u001b[0;32m    947\u001b[0m     warnings\u001b[38;5;241m.\u001b[39mwarn(\n\u001b[0;32m    948\u001b[0m         \u001b[38;5;124mf\u001b[39m\u001b[38;5;124m\"\u001b[39m\u001b[38;5;124mThe model \u001b[39m\u001b[38;5;124m'\u001b[39m\u001b[38;5;132;01m{\u001b[39;00mmodel\u001b[38;5;132;01m}\u001b[39;00m\u001b[38;5;124m'\u001b[39m\u001b[38;5;124m is deprecated and will reach end-of-life on \u001b[39m\u001b[38;5;132;01m{\u001b[39;00mDEPRECATED_MODELS[model]\u001b[38;5;132;01m}\u001b[39;00m\u001b[38;5;124m.\u001b[39m\u001b[38;5;130;01m\\n\u001b[39;00m\u001b[38;5;124mPlease migrate to a newer model. Visit https://docs.anthropic.com/en/docs/resources/model-deprecations for more information.\u001b[39m\u001b[38;5;124m\"\u001b[39m,\n\u001b[0;32m    949\u001b[0m         \u001b[38;5;167;01mDeprecationWarning\u001b[39;00m,\n\u001b[0;32m    950\u001b[0m         stacklevel\u001b[38;5;241m=\u001b[39m\u001b[38;5;241m3\u001b[39m,\n\u001b[0;32m    951\u001b[0m     )\n\u001b[1;32m--> 953\u001b[0m \u001b[38;5;28;01mreturn\u001b[39;00m \u001b[38;5;28;43mself\u001b[39;49m\u001b[38;5;241;43m.\u001b[39;49m\u001b[43m_post\u001b[49m\u001b[43m(\u001b[49m\n\u001b[0;32m    954\u001b[0m \u001b[43m    \u001b[49m\u001b[38;5;124;43m\"\u001b[39;49m\u001b[38;5;124;43m/v1/messages\u001b[39;49m\u001b[38;5;124;43m\"\u001b[39;49m\u001b[43m,\u001b[49m\n\u001b[0;32m    955\u001b[0m \u001b[43m    \u001b[49m\u001b[43mbody\u001b[49m\u001b[38;5;241;43m=\u001b[39;49m\u001b[43mmaybe_transform\u001b[49m\u001b[43m(\u001b[49m\n\u001b[0;32m    956\u001b[0m \u001b[43m        \u001b[49m\u001b[43m{\u001b[49m\n\u001b[0;32m    957\u001b[0m \u001b[43m            \u001b[49m\u001b[38;5;124;43m\"\u001b[39;49m\u001b[38;5;124;43mmax_tokens\u001b[39;49m\u001b[38;5;124;43m\"\u001b[39;49m\u001b[43m:\u001b[49m\u001b[43m \u001b[49m\u001b[43mmax_tokens\u001b[49m\u001b[43m,\u001b[49m\n\u001b[0;32m    958\u001b[0m \u001b[43m            \u001b[49m\u001b[38;5;124;43m\"\u001b[39;49m\u001b[38;5;124;43mmessages\u001b[39;49m\u001b[38;5;124;43m\"\u001b[39;49m\u001b[43m:\u001b[49m\u001b[43m \u001b[49m\u001b[43mmessages\u001b[49m\u001b[43m,\u001b[49m\n\u001b[0;32m    959\u001b[0m \u001b[43m            \u001b[49m\u001b[38;5;124;43m\"\u001b[39;49m\u001b[38;5;124;43mmodel\u001b[39;49m\u001b[38;5;124;43m\"\u001b[39;49m\u001b[43m:\u001b[49m\u001b[43m \u001b[49m\u001b[43mmodel\u001b[49m\u001b[43m,\u001b[49m\n\u001b[0;32m    960\u001b[0m \u001b[43m            \u001b[49m\u001b[38;5;124;43m\"\u001b[39;49m\u001b[38;5;124;43mmetadata\u001b[39;49m\u001b[38;5;124;43m\"\u001b[39;49m\u001b[43m:\u001b[49m\u001b[43m \u001b[49m\u001b[43mmetadata\u001b[49m\u001b[43m,\u001b[49m\n\u001b[0;32m    961\u001b[0m \u001b[43m            \u001b[49m\u001b[38;5;124;43m\"\u001b[39;49m\u001b[38;5;124;43mstop_sequences\u001b[39;49m\u001b[38;5;124;43m\"\u001b[39;49m\u001b[43m:\u001b[49m\u001b[43m \u001b[49m\u001b[43mstop_sequences\u001b[49m\u001b[43m,\u001b[49m\n\u001b[0;32m    962\u001b[0m \u001b[43m            \u001b[49m\u001b[38;5;124;43m\"\u001b[39;49m\u001b[38;5;124;43mstream\u001b[39;49m\u001b[38;5;124;43m\"\u001b[39;49m\u001b[43m:\u001b[49m\u001b[43m \u001b[49m\u001b[43mstream\u001b[49m\u001b[43m,\u001b[49m\n\u001b[0;32m    963\u001b[0m \u001b[43m            \u001b[49m\u001b[38;5;124;43m\"\u001b[39;49m\u001b[38;5;124;43msystem\u001b[39;49m\u001b[38;5;124;43m\"\u001b[39;49m\u001b[43m:\u001b[49m\u001b[43m \u001b[49m\u001b[43msystem\u001b[49m\u001b[43m,\u001b[49m\n\u001b[0;32m    964\u001b[0m \u001b[43m            \u001b[49m\u001b[38;5;124;43m\"\u001b[39;49m\u001b[38;5;124;43mtemperature\u001b[39;49m\u001b[38;5;124;43m\"\u001b[39;49m\u001b[43m:\u001b[49m\u001b[43m \u001b[49m\u001b[43mtemperature\u001b[49m\u001b[43m,\u001b[49m\n\u001b[0;32m    965\u001b[0m \u001b[43m            \u001b[49m\u001b[38;5;124;43m\"\u001b[39;49m\u001b[38;5;124;43mthinking\u001b[39;49m\u001b[38;5;124;43m\"\u001b[39;49m\u001b[43m:\u001b[49m\u001b[43m \u001b[49m\u001b[43mthinking\u001b[49m\u001b[43m,\u001b[49m\n\u001b[0;32m    966\u001b[0m \u001b[43m            \u001b[49m\u001b[38;5;124;43m\"\u001b[39;49m\u001b[38;5;124;43mtool_choice\u001b[39;49m\u001b[38;5;124;43m\"\u001b[39;49m\u001b[43m:\u001b[49m\u001b[43m \u001b[49m\u001b[43mtool_choice\u001b[49m\u001b[43m,\u001b[49m\n\u001b[0;32m    967\u001b[0m \u001b[43m            \u001b[49m\u001b[38;5;124;43m\"\u001b[39;49m\u001b[38;5;124;43mtools\u001b[39;49m\u001b[38;5;124;43m\"\u001b[39;49m\u001b[43m:\u001b[49m\u001b[43m \u001b[49m\u001b[43mtools\u001b[49m\u001b[43m,\u001b[49m\n\u001b[0;32m    968\u001b[0m \u001b[43m            \u001b[49m\u001b[38;5;124;43m\"\u001b[39;49m\u001b[38;5;124;43mtop_k\u001b[39;49m\u001b[38;5;124;43m\"\u001b[39;49m\u001b[43m:\u001b[49m\u001b[43m \u001b[49m\u001b[43mtop_k\u001b[49m\u001b[43m,\u001b[49m\n\u001b[0;32m    969\u001b[0m \u001b[43m            \u001b[49m\u001b[38;5;124;43m\"\u001b[39;49m\u001b[38;5;124;43mtop_p\u001b[39;49m\u001b[38;5;124;43m\"\u001b[39;49m\u001b[43m:\u001b[49m\u001b[43m \u001b[49m\u001b[43mtop_p\u001b[49m\u001b[43m,\u001b[49m\n\u001b[0;32m    970\u001b[0m \u001b[43m        \u001b[49m\u001b[43m}\u001b[49m\u001b[43m,\u001b[49m\n\u001b[0;32m    971\u001b[0m \u001b[43m        \u001b[49m\u001b[43mmessage_create_params\u001b[49m\u001b[38;5;241;43m.\u001b[39;49m\u001b[43mMessageCreateParams\u001b[49m\u001b[43m,\u001b[49m\n\u001b[0;32m    972\u001b[0m \u001b[43m    \u001b[49m\u001b[43m)\u001b[49m\u001b[43m,\u001b[49m\n\u001b[0;32m    973\u001b[0m \u001b[43m    \u001b[49m\u001b[43moptions\u001b[49m\u001b[38;5;241;43m=\u001b[39;49m\u001b[43mmake_request_options\u001b[49m\u001b[43m(\u001b[49m\n\u001b[0;32m    974\u001b[0m \u001b[43m        \u001b[49m\u001b[43mextra_headers\u001b[49m\u001b[38;5;241;43m=\u001b[39;49m\u001b[43mextra_headers\u001b[49m\u001b[43m,\u001b[49m\u001b[43m \u001b[49m\u001b[43mextra_query\u001b[49m\u001b[38;5;241;43m=\u001b[39;49m\u001b[43mextra_query\u001b[49m\u001b[43m,\u001b[49m\u001b[43m \u001b[49m\u001b[43mextra_body\u001b[49m\u001b[38;5;241;43m=\u001b[39;49m\u001b[43mextra_body\u001b[49m\u001b[43m,\u001b[49m\u001b[43m \u001b[49m\u001b[43mtimeout\u001b[49m\u001b[38;5;241;43m=\u001b[39;49m\u001b[43mtimeout\u001b[49m\n\u001b[0;32m    975\u001b[0m \u001b[43m    \u001b[49m\u001b[43m)\u001b[49m\u001b[43m,\u001b[49m\n\u001b[0;32m    976\u001b[0m \u001b[43m    \u001b[49m\u001b[43mcast_to\u001b[49m\u001b[38;5;241;43m=\u001b[39;49m\u001b[43mMessage\u001b[49m\u001b[43m,\u001b[49m\n\u001b[0;32m    977\u001b[0m \u001b[43m    \u001b[49m\u001b[43mstream\u001b[49m\u001b[38;5;241;43m=\u001b[39;49m\u001b[43mstream\u001b[49m\u001b[43m \u001b[49m\u001b[38;5;129;43;01mor\u001b[39;49;00m\u001b[43m \u001b[49m\u001b[38;5;28;43;01mFalse\u001b[39;49;00m\u001b[43m,\u001b[49m\n\u001b[0;32m    978\u001b[0m \u001b[43m    \u001b[49m\u001b[43mstream_cls\u001b[49m\u001b[38;5;241;43m=\u001b[39;49m\u001b[43mStream\u001b[49m\u001b[43m[\u001b[49m\u001b[43mRawMessageStreamEvent\u001b[49m\u001b[43m]\u001b[49m\u001b[43m,\u001b[49m\n\u001b[0;32m    979\u001b[0m \u001b[43m\u001b[49m\u001b[43m)\u001b[49m\n",
      "File \u001b[1;32md:\\ProgramData\\Anaconda3.9\\envs\\wingman\\Lib\\site-packages\\anthropic\\_base_client.py:1336\u001b[0m, in \u001b[0;36mSyncAPIClient.post\u001b[1;34m(self, path, cast_to, body, options, files, stream, stream_cls)\u001b[0m\n\u001b[0;32m   1322\u001b[0m \u001b[38;5;28;01mdef\u001b[39;00m\u001b[38;5;250m \u001b[39m\u001b[38;5;21mpost\u001b[39m(\n\u001b[0;32m   1323\u001b[0m     \u001b[38;5;28mself\u001b[39m,\n\u001b[0;32m   1324\u001b[0m     path: \u001b[38;5;28mstr\u001b[39m,\n\u001b[1;32m   (...)\u001b[0m\n\u001b[0;32m   1331\u001b[0m     stream_cls: \u001b[38;5;28mtype\u001b[39m[_StreamT] \u001b[38;5;241m|\u001b[39m \u001b[38;5;28;01mNone\u001b[39;00m \u001b[38;5;241m=\u001b[39m \u001b[38;5;28;01mNone\u001b[39;00m,\n\u001b[0;32m   1332\u001b[0m ) \u001b[38;5;241m-\u001b[39m\u001b[38;5;241m>\u001b[39m ResponseT \u001b[38;5;241m|\u001b[39m _StreamT:\n\u001b[0;32m   1333\u001b[0m     opts \u001b[38;5;241m=\u001b[39m FinalRequestOptions\u001b[38;5;241m.\u001b[39mconstruct(\n\u001b[0;32m   1334\u001b[0m         method\u001b[38;5;241m=\u001b[39m\u001b[38;5;124m\"\u001b[39m\u001b[38;5;124mpost\u001b[39m\u001b[38;5;124m\"\u001b[39m, url\u001b[38;5;241m=\u001b[39mpath, json_data\u001b[38;5;241m=\u001b[39mbody, files\u001b[38;5;241m=\u001b[39mto_httpx_files(files), \u001b[38;5;241m*\u001b[39m\u001b[38;5;241m*\u001b[39moptions\n\u001b[0;32m   1335\u001b[0m     )\n\u001b[1;32m-> 1336\u001b[0m     \u001b[38;5;28;01mreturn\u001b[39;00m cast(ResponseT, \u001b[38;5;28;43mself\u001b[39;49m\u001b[38;5;241;43m.\u001b[39;49m\u001b[43mrequest\u001b[49m\u001b[43m(\u001b[49m\u001b[43mcast_to\u001b[49m\u001b[43m,\u001b[49m\u001b[43m \u001b[49m\u001b[43mopts\u001b[49m\u001b[43m,\u001b[49m\u001b[43m \u001b[49m\u001b[43mstream\u001b[49m\u001b[38;5;241;43m=\u001b[39;49m\u001b[43mstream\u001b[49m\u001b[43m,\u001b[49m\u001b[43m \u001b[49m\u001b[43mstream_cls\u001b[49m\u001b[38;5;241;43m=\u001b[39;49m\u001b[43mstream_cls\u001b[49m\u001b[43m)\u001b[49m)\n",
      "File \u001b[1;32md:\\ProgramData\\Anaconda3.9\\envs\\wingman\\Lib\\site-packages\\anthropic\\_base_client.py:1013\u001b[0m, in \u001b[0;36mSyncAPIClient.request\u001b[1;34m(self, cast_to, options, remaining_retries, stream, stream_cls)\u001b[0m\n\u001b[0;32m   1010\u001b[0m \u001b[38;5;28;01melse\u001b[39;00m:\n\u001b[0;32m   1011\u001b[0m     retries_taken \u001b[38;5;241m=\u001b[39m \u001b[38;5;241m0\u001b[39m\n\u001b[1;32m-> 1013\u001b[0m \u001b[38;5;28;01mreturn\u001b[39;00m \u001b[38;5;28;43mself\u001b[39;49m\u001b[38;5;241;43m.\u001b[39;49m\u001b[43m_request\u001b[49m\u001b[43m(\u001b[49m\n\u001b[0;32m   1014\u001b[0m \u001b[43m    \u001b[49m\u001b[43mcast_to\u001b[49m\u001b[38;5;241;43m=\u001b[39;49m\u001b[43mcast_to\u001b[49m\u001b[43m,\u001b[49m\n\u001b[0;32m   1015\u001b[0m \u001b[43m    \u001b[49m\u001b[43moptions\u001b[49m\u001b[38;5;241;43m=\u001b[39;49m\u001b[43moptions\u001b[49m\u001b[43m,\u001b[49m\n\u001b[0;32m   1016\u001b[0m \u001b[43m    \u001b[49m\u001b[43mstream\u001b[49m\u001b[38;5;241;43m=\u001b[39;49m\u001b[43mstream\u001b[49m\u001b[43m,\u001b[49m\n\u001b[0;32m   1017\u001b[0m \u001b[43m    \u001b[49m\u001b[43mstream_cls\u001b[49m\u001b[38;5;241;43m=\u001b[39;49m\u001b[43mstream_cls\u001b[49m\u001b[43m,\u001b[49m\n\u001b[0;32m   1018\u001b[0m \u001b[43m    \u001b[49m\u001b[43mretries_taken\u001b[49m\u001b[38;5;241;43m=\u001b[39;49m\u001b[43mretries_taken\u001b[49m\u001b[43m,\u001b[49m\n\u001b[0;32m   1019\u001b[0m \u001b[43m\u001b[49m\u001b[43m)\u001b[49m\n",
      "File \u001b[1;32md:\\ProgramData\\Anaconda3.9\\envs\\wingman\\Lib\\site-packages\\anthropic\\_base_client.py:1039\u001b[0m, in \u001b[0;36mSyncAPIClient._request\u001b[1;34m(self, cast_to, options, retries_taken, stream, stream_cls)\u001b[0m\n\u001b[0;32m   1036\u001b[0m options \u001b[38;5;241m=\u001b[39m \u001b[38;5;28mself\u001b[39m\u001b[38;5;241m.\u001b[39m_prepare_options(options)\n\u001b[0;32m   1038\u001b[0m remaining_retries \u001b[38;5;241m=\u001b[39m options\u001b[38;5;241m.\u001b[39mget_max_retries(\u001b[38;5;28mself\u001b[39m\u001b[38;5;241m.\u001b[39mmax_retries) \u001b[38;5;241m-\u001b[39m retries_taken\n\u001b[1;32m-> 1039\u001b[0m request \u001b[38;5;241m=\u001b[39m \u001b[38;5;28;43mself\u001b[39;49m\u001b[38;5;241;43m.\u001b[39;49m\u001b[43m_build_request\u001b[49m\u001b[43m(\u001b[49m\u001b[43moptions\u001b[49m\u001b[43m,\u001b[49m\u001b[43m \u001b[49m\u001b[43mretries_taken\u001b[49m\u001b[38;5;241;43m=\u001b[39;49m\u001b[43mretries_taken\u001b[49m\u001b[43m)\u001b[49m\n\u001b[0;32m   1040\u001b[0m \u001b[38;5;28mself\u001b[39m\u001b[38;5;241m.\u001b[39m_prepare_request(request)\n\u001b[0;32m   1042\u001b[0m kwargs: HttpxSendArgs \u001b[38;5;241m=\u001b[39m {}\n",
      "File \u001b[1;32md:\\ProgramData\\Anaconda3.9\\envs\\wingman\\Lib\\site-packages\\anthropic\\_base_client.py:487\u001b[0m, in \u001b[0;36mBaseClient._build_request\u001b[1;34m(self, options, retries_taken)\u001b[0m\n\u001b[0;32m    484\u001b[0m     \u001b[38;5;28;01melse\u001b[39;00m:\n\u001b[0;32m    485\u001b[0m         \u001b[38;5;28;01mraise\u001b[39;00m \u001b[38;5;167;01mRuntimeError\u001b[39;00m(\u001b[38;5;124mf\u001b[39m\u001b[38;5;124m\"\u001b[39m\u001b[38;5;124mUnexpected JSON data type, \u001b[39m\u001b[38;5;132;01m{\u001b[39;00m\u001b[38;5;28mtype\u001b[39m(json_data)\u001b[38;5;132;01m}\u001b[39;00m\u001b[38;5;124m, cannot merge with `extra_body`\u001b[39m\u001b[38;5;124m\"\u001b[39m)\n\u001b[1;32m--> 487\u001b[0m headers \u001b[38;5;241m=\u001b[39m \u001b[38;5;28;43mself\u001b[39;49m\u001b[38;5;241;43m.\u001b[39;49m\u001b[43m_build_headers\u001b[49m\u001b[43m(\u001b[49m\u001b[43moptions\u001b[49m\u001b[43m,\u001b[49m\u001b[43m \u001b[49m\u001b[43mretries_taken\u001b[49m\u001b[38;5;241;43m=\u001b[39;49m\u001b[43mretries_taken\u001b[49m\u001b[43m)\u001b[49m\n\u001b[0;32m    488\u001b[0m params \u001b[38;5;241m=\u001b[39m _merge_mappings(\u001b[38;5;28mself\u001b[39m\u001b[38;5;241m.\u001b[39mdefault_query, options\u001b[38;5;241m.\u001b[39mparams)\n\u001b[0;32m    489\u001b[0m content_type \u001b[38;5;241m=\u001b[39m headers\u001b[38;5;241m.\u001b[39mget(\u001b[38;5;124m\"\u001b[39m\u001b[38;5;124mContent-Type\u001b[39m\u001b[38;5;124m\"\u001b[39m)\n",
      "File \u001b[1;32md:\\ProgramData\\Anaconda3.9\\envs\\wingman\\Lib\\site-packages\\anthropic\\_base_client.py:428\u001b[0m, in \u001b[0;36mBaseClient._build_headers\u001b[1;34m(self, options, retries_taken)\u001b[0m\n\u001b[0;32m    418\u001b[0m custom_headers \u001b[38;5;241m=\u001b[39m options\u001b[38;5;241m.\u001b[39mheaders \u001b[38;5;129;01mor\u001b[39;00m {}\n\u001b[0;32m    419\u001b[0m headers_dict \u001b[38;5;241m=\u001b[39m _merge_mappings(\n\u001b[0;32m    420\u001b[0m     {\n\u001b[0;32m    421\u001b[0m         \u001b[38;5;124m\"\u001b[39m\u001b[38;5;124mx-stainless-timeout\u001b[39m\u001b[38;5;124m\"\u001b[39m: \u001b[38;5;28mstr\u001b[39m(options\u001b[38;5;241m.\u001b[39mtimeout\u001b[38;5;241m.\u001b[39mread)\n\u001b[1;32m   (...)\u001b[0m\n\u001b[0;32m    426\u001b[0m     custom_headers,\n\u001b[0;32m    427\u001b[0m )\n\u001b[1;32m--> 428\u001b[0m \u001b[38;5;28;43mself\u001b[39;49m\u001b[38;5;241;43m.\u001b[39;49m\u001b[43m_validate_headers\u001b[49m\u001b[43m(\u001b[49m\u001b[43mheaders_dict\u001b[49m\u001b[43m,\u001b[49m\u001b[43m \u001b[49m\u001b[43mcustom_headers\u001b[49m\u001b[43m)\u001b[49m\n\u001b[0;32m    430\u001b[0m \u001b[38;5;66;03m# headers are case-insensitive while dictionaries are not.\u001b[39;00m\n\u001b[0;32m    431\u001b[0m headers \u001b[38;5;241m=\u001b[39m httpx\u001b[38;5;241m.\u001b[39mHeaders(headers_dict)\n",
      "File \u001b[1;32md:\\ProgramData\\Anaconda3.9\\envs\\wingman\\Lib\\site-packages\\anthropic\\_client.py:180\u001b[0m, in \u001b[0;36mAnthropic._validate_headers\u001b[1;34m(self, headers, custom_headers)\u001b[0m\n\u001b[0;32m    177\u001b[0m \u001b[38;5;28;01mif\u001b[39;00m \u001b[38;5;28misinstance\u001b[39m(custom_headers\u001b[38;5;241m.\u001b[39mget(\u001b[38;5;124m\"\u001b[39m\u001b[38;5;124mAuthorization\u001b[39m\u001b[38;5;124m\"\u001b[39m), Omit):\n\u001b[0;32m    178\u001b[0m     \u001b[38;5;28;01mreturn\u001b[39;00m\n\u001b[1;32m--> 180\u001b[0m \u001b[38;5;28;01mraise\u001b[39;00m \u001b[38;5;167;01mTypeError\u001b[39;00m(\n\u001b[0;32m    181\u001b[0m     \u001b[38;5;124m'\u001b[39m\u001b[38;5;124m\"\u001b[39m\u001b[38;5;124mCould not resolve authentication method. Expected either api_key or auth_token to be set. Or for one of the `X-Api-Key` or `Authorization` headers to be explicitly omitted\u001b[39m\u001b[38;5;124m\"\u001b[39m\u001b[38;5;124m'\u001b[39m\n\u001b[0;32m    182\u001b[0m )\n",
      "\u001b[1;31mTypeError\u001b[0m: \"Could not resolve authentication method. Expected either api_key or auth_token to be set. Or for one of the `X-Api-Key` or `Authorization` headers to be explicitly omitted\""
     ]
    }
   ],
   "source": [
    "system_prompt = \"\"\"You are a helpful and concise assistant.\"\"\"\n",
    "chat = claudette.Chat(model, sp=system_prompt)\n",
    "chat(\"What's the climate like in November in the UK?\")"
   ]
  },
  {
   "cell_type": "code",
   "execution_count": 9,
   "metadata": {},
   "outputs": [
    {
     "data": {
      "text/markdown": [
       "In London during November, the days get progressively shorter. At the start of November, sunrise is around 6:45 AM and sunset around 4:30 PM. By the end of November, sunrise is around 7:30 AM and sunset around 4:00 PM. This means daylight hours decrease from about 9.75 hours to 8 hours throughout the month.\n",
       "\n",
       "<details>\n",
       "\n",
       "- id: `msg_01UCj6XyxCXhHYf8PpRXZF5n`\n",
       "- content: `[{'citations': None, 'text': 'In London during November, the days get progressively shorter. At the start of November, sunrise is around 6:45 AM and sunset around 4:30 PM. By the end of November, sunrise is around 7:30 AM and sunset around 4:00 PM. This means daylight hours decrease from about 9.75 hours to 8 hours throughout the month.', 'type': 'text'}]`\n",
       "- model: `claude-3-5-sonnet-20241022`\n",
       "- role: `assistant`\n",
       "- stop_reason: `end_turn`\n",
       "- stop_sequence: `None`\n",
       "- type: `message`\n",
       "- usage: `{'cache_creation_input_tokens': 0, 'cache_read_input_tokens': 0, 'input_tokens': 122, 'output_tokens': 88}`\n",
       "\n",
       "</details>"
      ],
      "text/plain": [
       "Message(id='msg_01UCj6XyxCXhHYf8PpRXZF5n', content=[TextBlock(citations=None, text='In London during November, the days get progressively shorter. At the start of November, sunrise is around 6:45 AM and sunset around 4:30 PM. By the end of November, sunrise is around 7:30 AM and sunset around 4:00 PM. This means daylight hours decrease from about 9.75 hours to 8 hours throughout the month.', type='text')], model='claude-3-5-sonnet-20241022', role='assistant', stop_reason='end_turn', stop_sequence=None, type='message', usage=In: 122; Out: 88; Cache create: 0; Cache read: 0; Total: 210)"
      ]
     },
     "execution_count": 9,
     "metadata": {},
     "output_type": "execute_result"
    }
   ],
   "source": [
    "r = chat(\"What are the sunrise and sunset times in London during this month?\")\n",
    "r"
   ]
  },
  {
   "cell_type": "code",
   "execution_count": 11,
   "metadata": {},
   "outputs": [
    {
     "data": {
      "text/markdown": [
       "According to Epicurus,  it's to seek happiness and peace of mind through friendship, living simply, and avoiding fear and pain.\n",
       "\n",
       "<details>\n",
       "\n",
       "- id: `msg_01ETi8mSdi3sjbszPqjNmw98`\n",
       "- content: `[{'citations': None, 'text': \"According to Epicurus,  it's to seek happiness and peace of mind through friendship, living simply, and avoiding fear and pain.\", 'type': 'text'}]`\n",
       "- model: `claude-3-5-sonnet-20241022`\n",
       "- role: `assistant`\n",
       "- stop_reason: `end_turn`\n",
       "- stop_sequence: `None`\n",
       "- type: `message`\n",
       "- usage: `{'cache_creation_input_tokens': 0, 'cache_read_input_tokens': 0, 'input_tokens': 300, 'output_tokens': 25}`\n",
       "\n",
       "</details>"
      ],
      "text/plain": [
       "Message(id='msg_01ETi8mSdi3sjbszPqjNmw98', content=[TextBlock(citations=None, text=\"According to Epicurus,  it's to seek happiness and peace of mind through friendship, living simply, and avoiding fear and pain.\", type='text')], model='claude-3-5-sonnet-20241022', role='assistant', stop_reason='end_turn', stop_sequence=None, type='message', usage=In: 300; Out: 25; Cache create: 0; Cache read: 0; Total: 325)"
      ]
     },
     "execution_count": 11,
     "metadata": {},
     "output_type": "execute_result"
    }
   ],
   "source": [
    "chat(\"Concisely, what is the meaning of life?\",\n",
    "     prefill='According to Epicurus,')"
   ]
  },
  {
   "cell_type": "markdown",
   "metadata": {},
   "source": [
    " * Add `stream=True` to stream the results as soon as they arrive"
   ]
  },
  {
   "cell_type": "code",
   "execution_count": 12,
   "metadata": {},
   "outputs": [
    {
     "name": "stdout",
     "output_type": "stream",
     "text": [
      "It was in Epicurus' \"Letter to Menoeceus\" and other surviving fragments of his writings, though most of his works were lost. His philosophy is mainly known through later writers and his student Lucretius' poem \"On the Nature of Things.\""
     ]
    }
   ],
   "source": [
    "for o in chat(\"Concisely, what book was that in?\", prefill='It was in', stream=True):\n",
    "    print(o, end='')"
   ]
  },
  {
   "cell_type": "markdown",
   "metadata": {},
   "source": [
    "### Prompt caching\n",
    "\n",
    "If you use `mk_msg(msg, cache=True)`, then the message is cached using Claude’s [prompt caching](https://docs.anthropic.com/en/docs/build-with-claude/prompt-caching) feature."
   ]
  },
  {
   "cell_type": "code",
   "execution_count": 32,
   "metadata": {},
   "outputs": [
    {
     "data": {
      "text/markdown": [
       "Based on the README, this project appears to be an essential study guide on Socrates and the Socratic Method. Its purpose is to provide a comprehensive overview of:\n",
       "\n",
       "1. Socrates' life and philosophical beliefs\n",
       "2. The Socratic Method and how it works\n",
       "3. Key components of Socratic questioning\n",
       "4. Famous examples and applications of the method\n",
       "5. Socrates' impact and legacy\n",
       "6. Common criticisms and limitations of the Socratic approach\n",
       "\n",
       "The guide aims to offer a concise yet thorough resource for understanding Socrates' philosophy and his influential method of inquiry.\n",
       "\n",
       "<details>\n",
       "\n",
       "- id: `msg_01QgK9MRHYHNVU4kCZa8vB4i`\n",
       "- content: `[{'text': \"Based on the README, this project appears to be an essential study guide on Socrates and the Socratic Method. Its purpose is to provide a comprehensive overview of:\\n\\n1. Socrates' life and philosophical beliefs\\n2. The Socratic Method and how it works\\n3. Key components of Socratic questioning\\n4. Famous examples and applications of the method\\n5. Socrates' impact and legacy\\n6. Common criticisms and limitations of the Socratic approach\\n\\nThe guide aims to offer a concise yet thorough resource for understanding Socrates' philosophy and his influential method of inquiry.\", 'type': 'text'}]`\n",
       "- model: `claude-3-5-sonnet-20240620`\n",
       "- role: `assistant`\n",
       "- stop_reason: `end_turn`\n",
       "- stop_sequence: `None`\n",
       "- type: `message`\n",
       "- usage: `{'input_tokens': 4, 'output_tokens': 132, 'cache_creation_input_tokens': 1230, 'cache_read_input_tokens': 0}`\n",
       "\n",
       "</details>"
      ],
      "text/plain": [
       "Message(id='msg_01QgK9MRHYHNVU4kCZa8vB4i', content=[TextBlock(text=\"Based on the README, this project appears to be an essential study guide on Socrates and the Socratic Method. Its purpose is to provide a comprehensive overview of:\\n\\n1. Socrates' life and philosophical beliefs\\n2. The Socratic Method and how it works\\n3. Key components of Socratic questioning\\n4. Famous examples and applications of the method\\n5. Socrates' impact and legacy\\n6. Common criticisms and limitations of the Socratic approach\\n\\nThe guide aims to offer a concise yet thorough resource for understanding Socrates' philosophy and his influential method of inquiry.\", type='text')], model='claude-3-5-sonnet-20240620', role='assistant', stop_reason='end_turn', stop_sequence=None, type='message', usage=In: 4; Out: 132; Cache create: 1230; Cache read: 0; Total: 1366)"
      ]
     },
     "execution_count": 32,
     "metadata": {},
     "output_type": "execute_result"
    }
   ],
   "source": [
    "from pathlib import Path\n",
    "\n",
    "nbtxt = Path('..\\\\templates\\\\socrates.md').read_text()\n",
    "msg = f'''<README>\n",
    "{nbtxt}\n",
    "</README>\n",
    "In brief, what is the purpose of this project based on the readme?'''\n",
    "r = chat(mk_msg(msg, cache=True))\n",
    "r"
   ]
  },
  {
   "cell_type": "code",
   "execution_count": 33,
   "metadata": {},
   "outputs": [
    {
     "name": "stdout",
     "output_type": "stream",
     "text": [
      "Usage(input_tokens=4, output_tokens=132, cache_creation_input_tokens=1230, cache_read_input_tokens=0)\n"
     ]
    }
   ],
   "source": [
    "print(r.usage)"
   ]
  },
  {
   "cell_type": "code",
   "execution_count": 34,
   "metadata": {},
   "outputs": [
    {
     "data": {
      "text/markdown": [
       "Based on the information provided in the README, two key quotes attributed to Socrates are:\n",
       "\n",
       "1. \"The unexamined life is not worth living\"\n",
       "\n",
       "2. \"I know that I know nothing\" (This is a paraphrase of the idea that knowledge of one's own ignorance is true wisdom)\n",
       "\n",
       "These quotes reflect core aspects of Socrates' philosophical beliefs, emphasizing the importance of self-examination and intellectual humility.\n",
       "\n",
       "<details>\n",
       "\n",
       "- id: `msg_0184TMuc1N1CPcd2Ct9N57ht`\n",
       "- content: `[{'text': 'Based on the information provided in the README, two key quotes attributed to Socrates are:\\n\\n1. \"The unexamined life is not worth living\"\\n\\n2. \"I know that I know nothing\" (This is a paraphrase of the idea that knowledge of one\\'s own ignorance is true wisdom)\\n\\nThese quotes reflect core aspects of Socrates\\' philosophical beliefs, emphasizing the importance of self-examination and intellectual humility.', 'type': 'text'}]`\n",
       "- model: `claude-3-5-sonnet-20240620`\n",
       "- role: `assistant`\n",
       "- stop_reason: `end_turn`\n",
       "- stop_sequence: `None`\n",
       "- type: `message`\n",
       "- usage: `{'input_tokens': 149, 'output_tokens': 97, 'cache_creation_input_tokens': 0, 'cache_read_input_tokens': 1230}`\n",
       "\n",
       "</details>"
      ],
      "text/plain": [
       "Message(id='msg_0184TMuc1N1CPcd2Ct9N57ht', content=[TextBlock(text='Based on the information provided in the README, two key quotes attributed to Socrates are:\\n\\n1. \"The unexamined life is not worth living\"\\n\\n2. \"I know that I know nothing\" (This is a paraphrase of the idea that knowledge of one\\'s own ignorance is true wisdom)\\n\\nThese quotes reflect core aspects of Socrates\\' philosophical beliefs, emphasizing the importance of self-examination and intellectual humility.', type='text')], model='claude-3-5-sonnet-20240620', role='assistant', stop_reason='end_turn', stop_sequence=None, type='message', usage=In: 149; Out: 97; Cache create: 0; Cache read: 1230; Total: 1476)"
      ]
     },
     "execution_count": 34,
     "metadata": {},
     "output_type": "execute_result"
    }
   ],
   "source": [
    "r = chat('What key quotes are attributed to Socrates?')\n",
    "r"
   ]
  },
  {
   "cell_type": "code",
   "execution_count": 35,
   "metadata": {},
   "outputs": [
    {
     "name": "stdout",
     "output_type": "stream",
     "text": [
      "Usage(input_tokens=149, output_tokens=97, cache_creation_input_tokens=0, cache_read_input_tokens=1230)\n"
     ]
    }
   ],
   "source": [
    "print(r.usage)"
   ]
  },
  {
   "cell_type": "markdown",
   "metadata": {},
   "source": [
    "### Character prompt"
   ]
  },
  {
   "cell_type": "code",
   "execution_count": 16,
   "metadata": {},
   "outputs": [],
   "source": [
    "#| export\n",
    "\n",
    "def create_system_prompt(context_path=\"..\\\\templates\\\\socrates.md\"):\n",
    "    character_prompt = \"\"\"\n",
    "    In this scenario you are an expert interviewer. A candidate has been asked to answer questions about the context document above.\n",
    "    Start by quickly introducing yourself and setting the scene, then move quickly into the questions. \n",
    "    The first response should be a single simple question, getting progressively more difficult.\n",
    "    Each corresponding response should first start with a short comment on the accuracy of the answer, do not be afraid to be critical.\n",
    "    Then provide an improved answer, still using concise and spontaneous language where possible.\n",
    "\n",
    "    Responses should be in the following format:\n",
    "    [ANSWER EVALUATION]  \n",
    "        {Quick evaluation of the answer}\n",
    "        {If incorrect:} \\\\nExample: You said: ... Correction: ...} \\\\n\n",
    "    [/ANSWER EVALUATION]\n",
    "\n",
    "    [IMPROVED ANSWER] \\\\n\n",
    "        {Answer structured in first person}\n",
    "    [/IMPROVED ANSWER]\n",
    "\n",
    "    Next question: \\\\n ...\n",
    "    \"\"\"\n",
    "\n",
    "    nbtxt = Path(context_path).read_text()\n",
    "    msg = f'''<README>\n",
    "    {nbtxt}\n",
    "    </README>\n",
    "    {character_prompt}'''\n",
    "\n",
    "    return msg\n"
   ]
  },
  {
   "cell_type": "code",
   "execution_count": 17,
   "metadata": {},
   "outputs": [
    {
     "name": "stdout",
     "output_type": "stream",
     "text": [
      "<README>\n",
      "    # Socrates & The Socratic Method: Essential Study Guide\n",
      "\n",
      "## Who Was Socrates (470-399 BCE)\n",
      "- Ancient Greek philosopher considered one of Western philosophy's founding fathers\n",
      "- Never wrote anything down; known through writings of his students, primarily Plato\n",
      "- Executed by drinking hemlock after being convicted of \"corrupting the youth\" and \"impiety\"\n",
      "- Married to Xanthippe, worked as a stonemason before becoming a philosopher\n",
      "- Served as a soldier in the Peloponnesian War, known for his physical and mental endurance\n",
      "\n",
      "## Core Philosophical Beliefs\n",
      "- \"The unexamined life is not worth living\"\n",
      "- Knowledge of one's own ignorance is true wisdom (\"I know that I know nothing\")\n",
      "- Virtue is knowledge; evil stems from ignorance\n",
      "- Care of the soul is paramount to material pursuits\n",
      "- Truth and wisdom come from rigorous logical examination\n",
      "\n",
      "## The Socratic Method Explained\n",
      "1. Initial Position\n",
      "   - Begin with someone's claim to knowledge\n",
      "   - Accept this claim temporarily for examination\n",
      "\n",
      "2. Systematic Questioning\n",
      "   - Ask probing questions about the claim\n",
      "   - Expose contradictions and inconsistencies\n",
      "   - Challenge underlying assumptions\n",
      "\n",
      "3. Critical Analysis\n",
      "   - Break down complex ideas into simpler parts\n",
      "   - Examine logical consequences of each position\n",
      "   - Identify gaps in reasoning\n",
      "\n",
      "4. Reaching Aporia\n",
      "   - Lead to a state of productive confusion\n",
      "   - Demonstrate the limitations of current understanding\n",
      "   - Create openness to new knowledge\n",
      "\n",
      "## Key Components of Socratic Questioning\n",
      "- Clarifying Questions\n",
      "  \"What exactly do you mean by...?\"\n",
      "  \"Can you give an example of...?\"\n",
      "\n",
      "- Assumption Questions\n",
      "  \"What are you assuming here?\"\n",
      "  \"Why do you think this assumption holds true?\"\n",
      "\n",
      "- Evidence Questions\n",
      "  \"What is the evidence for this view?\"\n",
      "  \"How do you know this is true?\"\n",
      "\n",
      "- Implication Questions\n",
      "  \"What would be the consequences of this?\"\n",
      "  \"How does this affect...?\"\n",
      "\n",
      "- Alternative Viewpoint Questions\n",
      "  \"What would someone who disagrees say?\"\n",
      "  \"Is there another way to look at this?\"\n",
      "\n",
      "## Famous Examples & Applications\n",
      "- Euthyphro Dialogue: Examining the nature of piety and morality\n",
      "- Meno Dialogue: Investigating whether virtue can be taught\n",
      "- Republic: Exploring justice through systematic questioning\n",
      "- Modern Applications: Law schools, critical thinking education, psychological therapy\n",
      "\n",
      "## Impact & Legacy\n",
      "- Foundation of Western philosophical inquiry\n",
      "- Basis for scientific method and critical thinking\n",
      "- Influence on modern education and pedagogy\n",
      "- Model for intellectual humility and rigorous examination\n",
      "- Cornerstone of philosophical ethics and moral reasoning\n",
      "\n",
      "## Common Criticisms & Limitations\n",
      "- Can be perceived as aggressive or confrontational\n",
      "- May lead to excessive skepticism\n",
      "- Risk of paralysis by analysis\n",
      "- Potential for manipulation through leading questions\n",
      "- Can be time-consuming and psychologically demanding\n",
      "    </README>\n",
      "    \n",
      "    In this scenario you are an expert interviewer. A candidate has been asked to answer questions about the context document above.\n",
      "    Start by quickly introducing yourself and setting the scene, then move quickly into the questions. \n",
      "    The first response should be a single simple question, getting progressively more difficult.\n",
      "    Each corresponding response should first start with a short comment on the accuracy of the answer, do not be afraid to be critical.\n",
      "    Then provide an improved answer, still using concise and spontaneous language where possible.\n",
      "\n",
      "    Responses should be in the following format:\n",
      "    [ANSWER EVALUATION]  \n",
      "        {Quick evaluation of the answer}\n",
      "        {If incorrect:} \\nExample: You said: ... Correction: ...} \\n\n",
      "    [/ANSWER EVALUATION]\n",
      "\n",
      "    [IMPROVED ANSWER] \\n\n",
      "        {Answer structured in first person}\n",
      "    [/IMPROVED ANSWER]\n",
      "\n",
      "    Next question: \\n ...\n",
      "    \n"
     ]
    }
   ],
   "source": [
    "system_prompt = create_system_prompt()\n",
    "print(system_prompt)"
   ]
  },
  {
   "cell_type": "code",
   "execution_count": 19,
   "metadata": {},
   "outputs": [
    {
     "data": {
      "text/markdown": [
       "Hello, I'm Dr. Sophia Thinkwell, and I'll be conducting your interview today on Socrates and the Socratic Method. We'll start with some basic questions and gradually increase the difficulty. Are you ready to begin?\n",
       "\n",
       "Let's start with a simple question: When did Socrates live?\n",
       "\n",
       "<details>\n",
       "\n",
       "- id: `msg_01XEjLwxdiXxH5hAE8d2QPpG`\n",
       "- content: `[{'text': \"Hello, I'm Dr. Sophia Thinkwell, and I'll be conducting your interview today on Socrates and the Socratic Method. We'll start with some basic questions and gradually increase the difficulty. Are you ready to begin?\\n\\nLet's start with a simple question: When did Socrates live?\", 'type': 'text'}]`\n",
       "- model: `claude-3-5-sonnet-20240620`\n",
       "- role: `assistant`\n",
       "- stop_reason: `end_turn`\n",
       "- stop_sequence: `None`\n",
       "- type: `message`\n",
       "- usage: `{'input_tokens': 4, 'output_tokens': 70, 'cache_creation_input_tokens': 1763, 'cache_read_input_tokens': 0}`\n",
       "\n",
       "</details>"
      ],
      "text/plain": [
       "Message(id='msg_01XEjLwxdiXxH5hAE8d2QPpG', content=[TextBlock(text=\"Hello, I'm Dr. Sophia Thinkwell, and I'll be conducting your interview today on Socrates and the Socratic Method. We'll start with some basic questions and gradually increase the difficulty. Are you ready to begin?\\n\\nLet's start with a simple question: When did Socrates live?\", type='text')], model='claude-3-5-sonnet-20240620', role='assistant', stop_reason='end_turn', stop_sequence=None, type='message', usage=In: 4; Out: 70; Cache create: 1763; Cache read: 0; Total: 1837)"
      ]
     },
     "execution_count": 19,
     "metadata": {},
     "output_type": "execute_result"
    }
   ],
   "source": [
    "prefill_msg = \"\"\"Hello, I'm Dr. Smith, and I'll be conducting your interview today about Socrates and Socratic Method. Let's dive right in.\n",
    "First question: Who was Socrates, and when did he live?\"\"\"\n",
    "\n",
    "chat = claudette.Chat(model, sp=system_prompt)\n",
    "r = chat(claudette.mk_msg(system_prompt, cache=True, prefill=prefill_msg))\n",
    "r"
   ]
  },
  {
   "cell_type": "code",
   "execution_count": 20,
   "metadata": {},
   "outputs": [
    {
     "name": "stdout",
     "output_type": "stream",
     "text": [
      "Usage(input_tokens=4, output_tokens=70, cache_creation_input_tokens=1763, cache_read_input_tokens=0)\n"
     ]
    }
   ],
   "source": [
    "print(r.usage)"
   ]
  },
  {
   "cell_type": "code",
   "execution_count": 21,
   "metadata": {},
   "outputs": [
    {
     "data": {
      "text/markdown": [
       "[ANSWER EVALUATION]\n",
       "    Your answer contains some correct elements but also significant inaccuracies.\n",
       "    You said: \"Maybe 2000 BC.\" Correction: Socrates lived from 470-399 BCE, not 2000 BC.\n",
       "    You correctly mentioned that he never wrote anything down and that Plato was his student who recorded his ideas.\n",
       "[/ANSWER EVALUATION]\n",
       "\n",
       "[IMPROVED ANSWER]\n",
       "Socrates lived from 470 to 399 BCE, during the classical period of ancient Greece. You're absolutely right that he never wrote anything down himself. His ideas and methods are known to us primarily through the writings of his students, most notably Plato. This is why Socrates is often studied through Plato's dialogues, where he features as the main character.\n",
       "[/IMPROVED ANSWER]\n",
       "\n",
       "Next question:\n",
       "Can you briefly explain what the Socratic Method is?\n",
       "\n",
       "<details>\n",
       "\n",
       "- id: `msg_01QWMhCL3EXfWWcAuWRxR2NC`\n",
       "- content: `[{'text': '[ANSWER EVALUATION]\\n    Your answer contains some correct elements but also significant inaccuracies.\\n    You said: \"Maybe 2000 BC.\" Correction: Socrates lived from 470-399 BCE, not 2000 BC.\\n    You correctly mentioned that he never wrote anything down and that Plato was his student who recorded his ideas.\\n[/ANSWER EVALUATION]\\n\\n[IMPROVED ANSWER]\\nSocrates lived from 470 to 399 BCE, during the classical period of ancient Greece. You\\'re absolutely right that he never wrote anything down himself. His ideas and methods are known to us primarily through the writings of his students, most notably Plato. This is why Socrates is often studied through Plato\\'s dialogues, where he features as the main character.\\n[/IMPROVED ANSWER]\\n\\nNext question:\\nCan you briefly explain what the Socratic Method is?', 'type': 'text'}]`\n",
       "- model: `claude-3-5-sonnet-20240620`\n",
       "- role: `assistant`\n",
       "- stop_reason: `end_turn`\n",
       "- stop_sequence: `None`\n",
       "- type: `message`\n",
       "- usage: `{'input_tokens': 121, 'output_tokens': 207, 'cache_creation_input_tokens': 0, 'cache_read_input_tokens': 1763}`\n",
       "\n",
       "</details>"
      ],
      "text/plain": [
       "Message(id='msg_01QWMhCL3EXfWWcAuWRxR2NC', content=[TextBlock(text='[ANSWER EVALUATION]\\n    Your answer contains some correct elements but also significant inaccuracies.\\n    You said: \"Maybe 2000 BC.\" Correction: Socrates lived from 470-399 BCE, not 2000 BC.\\n    You correctly mentioned that he never wrote anything down and that Plato was his student who recorded his ideas.\\n[/ANSWER EVALUATION]\\n\\n[IMPROVED ANSWER]\\nSocrates lived from 470 to 399 BCE, during the classical period of ancient Greece. You\\'re absolutely right that he never wrote anything down himself. His ideas and methods are known to us primarily through the writings of his students, most notably Plato. This is why Socrates is often studied through Plato\\'s dialogues, where he features as the main character.\\n[/IMPROVED ANSWER]\\n\\nNext question:\\nCan you briefly explain what the Socratic Method is?', type='text')], model='claude-3-5-sonnet-20240620', role='assistant', stop_reason='end_turn', stop_sequence=None, type='message', usage=In: 121; Out: 207; Cache create: 0; Cache read: 1763; Total: 2091)"
      ]
     },
     "execution_count": 21,
     "metadata": {},
     "output_type": "execute_result"
    }
   ],
   "source": [
    "r = chat('Scorates lived a long time ago in the greek classical period. Maybe 2000 BC. He was a great philosopher however never wrote anything down, that was left to one of his students, Plato')\n",
    "r"
   ]
  },
  {
   "cell_type": "code",
   "execution_count": 68,
   "metadata": {},
   "outputs": [
    {
     "data": {
      "text/markdown": [
       "<ANSWER EVALUATION>\n",
       "    Partially correct, but lacking specificity and structure.\n",
       "    You've touched on some aspects, but missed key components and the systematic nature of the method.\n",
       "</ANSWER EVALUATION>\n",
       "\n",
       "<IMPROVED ANSWER>\n",
       "The Socratic Method is indeed about questioning, but it's more structured than that. Let me break it down:\n",
       "\n",
       "1. We start with someone's claim to knowledge. This is the initial position.\n",
       "\n",
       "2. Then we move into systematic questioning. This is where we probe the claim, expose contradictions, and challenge assumptions, as you mentioned.\n",
       "\n",
       "3. Next comes critical analysis. We break down complex ideas, examine logical consequences, and identify gaps in reasoning.\n",
       "\n",
       "4. Finally, we aim to reach a state called 'aporia' - a kind of productive confusion. This demonstrates the limitations of current understanding and opens the person up to new knowledge.\n",
       "\n",
       "Throughout this process, we use different types of questions - clarifying questions, assumption questions, evidence questions, implication questions, and alternative viewpoint questions. These help us examine the problem from different perspectives, as you correctly pointed out.\n",
       "</IMPROVED ANSWER>\n",
       "\n",
       "Next question:\n",
       "Can you give an example of how the Socratic Method might be applied in a modern context?\n",
       "\n",
       "<details>\n",
       "\n",
       "- id: `msg_019Zw82TDMmZLdzN6v8uuRCH`\n",
       "- content: `[{'text': \"<ANSWER EVALUATION>\\n    Partially correct, but lacking specificity and structure.\\n    You've touched on some aspects, but missed key components and the systematic nature of the method.\\n</ANSWER EVALUATION>\\n\\n<IMPROVED ANSWER>\\nThe Socratic Method is indeed about questioning, but it's more structured than that. Let me break it down:\\n\\n1. We start with someone's claim to knowledge. This is the initial position.\\n\\n2. Then we move into systematic questioning. This is where we probe the claim, expose contradictions, and challenge assumptions, as you mentioned.\\n\\n3. Next comes critical analysis. We break down complex ideas, examine logical consequences, and identify gaps in reasoning.\\n\\n4. Finally, we aim to reach a state called 'aporia' - a kind of productive confusion. This demonstrates the limitations of current understanding and opens the person up to new knowledge.\\n\\nThroughout this process, we use different types of questions - clarifying questions, assumption questions, evidence questions, implication questions, and alternative viewpoint questions. These help us examine the problem from different perspectives, as you correctly pointed out.\\n</IMPROVED ANSWER>\\n\\nNext question:\\nCan you give an example of how the Socratic Method might be applied in a modern context?\", 'type': 'text'}]`\n",
       "- model: `claude-3-5-sonnet-20240620`\n",
       "- role: `assistant`\n",
       "- stop_reason: `end_turn`\n",
       "- stop_sequence: `None`\n",
       "- type: `message`\n",
       "- usage: `{'input_tokens': 1194, 'output_tokens': 274, 'cache_creation_input_tokens': 0, 'cache_read_input_tokens': 0}`\n",
       "\n",
       "</details>"
      ],
      "text/plain": [
       "Message(id='msg_019Zw82TDMmZLdzN6v8uuRCH', content=[TextBlock(text=\"<ANSWER EVALUATION>\\n    Partially correct, but lacking specificity and structure.\\n    You've touched on some aspects, but missed key components and the systematic nature of the method.\\n</ANSWER EVALUATION>\\n\\n<IMPROVED ANSWER>\\nThe Socratic Method is indeed about questioning, but it's more structured than that. Let me break it down:\\n\\n1. We start with someone's claim to knowledge. This is the initial position.\\n\\n2. Then we move into systematic questioning. This is where we probe the claim, expose contradictions, and challenge assumptions, as you mentioned.\\n\\n3. Next comes critical analysis. We break down complex ideas, examine logical consequences, and identify gaps in reasoning.\\n\\n4. Finally, we aim to reach a state called 'aporia' - a kind of productive confusion. This demonstrates the limitations of current understanding and opens the person up to new knowledge.\\n\\nThroughout this process, we use different types of questions - clarifying questions, assumption questions, evidence questions, implication questions, and alternative viewpoint questions. These help us examine the problem from different perspectives, as you correctly pointed out.\\n</IMPROVED ANSWER>\\n\\nNext question:\\nCan you give an example of how the Socratic Method might be applied in a modern context?\", type='text')], model='claude-3-5-sonnet-20240620', role='assistant', stop_reason='end_turn', stop_sequence=None, type='message', usage=In: 1194; Out: 274; Cache create: 0; Cache read: 0; Total: 1468)"
      ]
     },
     "execution_count": 68,
     "metadata": {},
     "output_type": "execute_result"
    }
   ],
   "source": [
    "r = chat('The core components are questioning the fundamentals of knowledge, assumptions, and trying to understand the problem from different perspectives.')\n",
    "r"
   ]
  },
  {
   "cell_type": "code",
   "execution_count": null,
   "metadata": {},
   "outputs": [],
   "source": []
  },
  {
   "cell_type": "code",
   "execution_count": 23,
   "metadata": {},
   "outputs": [],
   "source": [
    "#| hide\n",
    "import nbdev; nbdev.nbdev_export()"
   ]
  },
  {
   "cell_type": "code",
   "execution_count": null,
   "metadata": {},
   "outputs": [],
   "source": []
  }
 ],
 "metadata": {
  "kernelspec": {
   "display_name": "wingman",
   "language": "python",
   "name": "python3"
  },
  "language_info": {
   "codemirror_mode": {
    "name": "ipython",
    "version": 3
   },
   "file_extension": ".py",
   "mimetype": "text/x-python",
   "name": "python",
   "nbconvert_exporter": "python",
   "pygments_lexer": "ipython3",
   "version": "3.11.11"
  }
 },
 "nbformat": 4,
 "nbformat_minor": 4
}
