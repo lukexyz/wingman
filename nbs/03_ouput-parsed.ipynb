{
 "cells": [
  {
   "cell_type": "markdown",
   "metadata": {},
   "source": [
    "# Chat API\n",
    "\n",
    "* Connecting to Claude's API via [claudette](https://claudette.answer.ai/) for chat completion, \n",
    "* Extracting JSON and rules to populate gradio UI"
   ]
  },
  {
   "cell_type": "code",
   "execution_count": 1,
   "metadata": {},
   "outputs": [],
   "source": [
    "#| default_exp chat"
   ]
  },
  {
   "cell_type": "code",
   "execution_count": 2,
   "metadata": {},
   "outputs": [],
   "source": [
    "#| hide\n",
    "from nbdev.showdoc import *"
   ]
  },
  {
   "cell_type": "code",
   "execution_count": 3,
   "metadata": {},
   "outputs": [],
   "source": [
    "#| export\n",
    "import claudette\n",
    "from pathlib import Path\n",
    "import re"
   ]
  },
  {
   "cell_type": "markdown",
   "metadata": {},
   "source": [
    "* Claudette provides models, which is a list of models currently available from the SDK."
   ]
  },
  {
   "cell_type": "code",
   "execution_count": 4,
   "metadata": {},
   "outputs": [
    {
     "name": "stdout",
     "output_type": "stream",
     "text": [
      "claude-3-opus-20240229\n",
      "claude-3-7-sonnet-20250219\n",
      "claude-3-5-sonnet-20241022\n",
      "claude-3-haiku-20240307\n",
      "claude-3-5-haiku-20241022\n",
      "\n",
      "Chosen model: claude-3-haiku-20240307\n"
     ]
    }
   ],
   "source": [
    "[print(m) for m in claudette.models]\n",
    "# using Sonnet 3.5\n",
    "model = claudette.models[3]\n",
    "print(f'\\nChosen model: {model}')"
   ]
  },
  {
   "cell_type": "code",
   "execution_count": 5,
   "metadata": {},
   "outputs": [
    {
     "name": "stdout",
     "output_type": "stream",
     "text": [
      "key exists ☑\n"
     ]
    }
   ],
   "source": [
    "import os\n",
    "api_key = os.getenv('ANTHROPIC_API_KEY')\n",
    "if api_key: print('key exists ☑')"
   ]
  },
  {
   "cell_type": "code",
   "execution_count": 6,
   "metadata": {},
   "outputs": [
    {
     "ename": "FileNotFoundError",
     "evalue": "[Errno 2] No such file or directory: 'docs\\\\analytics.md'",
     "output_type": "error",
     "traceback": [
      "\u001b[1;31m---------------------------------------------------------------------------\u001b[0m",
      "\u001b[1;31mFileNotFoundError\u001b[0m                         Traceback (most recent call last)",
      "Cell \u001b[1;32mIn[6], line 2\u001b[0m\n\u001b[0;32m      1\u001b[0m context_file \u001b[38;5;241m=\u001b[39m Path(\u001b[38;5;124m'\u001b[39m\u001b[38;5;124mdocs/analytics.md\u001b[39m\u001b[38;5;124m'\u001b[39m)\n\u001b[1;32m----> 2\u001b[0m context_media \u001b[38;5;241m=\u001b[39m \u001b[43mcontext_file\u001b[49m\u001b[38;5;241;43m.\u001b[39;49m\u001b[43mread_text\u001b[49m\u001b[43m(\u001b[49m\u001b[43mencoding\u001b[49m\u001b[38;5;241;43m=\u001b[39;49m\u001b[38;5;124;43m'\u001b[39;49m\u001b[38;5;124;43mutf-8\u001b[39;49m\u001b[38;5;124;43m'\u001b[39;49m\u001b[43m)\u001b[49m\n\u001b[0;32m      4\u001b[0m system_prompt \u001b[38;5;241m=\u001b[39m \u001b[38;5;124m\"\"\"\u001b[39m\u001b[38;5;124mYou are a helpful and concise assistant.\u001b[39m\u001b[38;5;124m\"\"\"\u001b[39m\n\u001b[0;32m      6\u001b[0m chat \u001b[38;5;241m=\u001b[39m claudette\u001b[38;5;241m.\u001b[39mChat(model, sp\u001b[38;5;241m=\u001b[39msystem_prompt)\n",
      "File \u001b[1;32md:\\ProgramData\\Anaconda3.9\\envs\\wingman\\Lib\\pathlib.py:1058\u001b[0m, in \u001b[0;36mPath.read_text\u001b[1;34m(self, encoding, errors)\u001b[0m\n\u001b[0;32m   1054\u001b[0m \u001b[38;5;250m\u001b[39m\u001b[38;5;124;03m\"\"\"\u001b[39;00m\n\u001b[0;32m   1055\u001b[0m \u001b[38;5;124;03mOpen the file in text mode, read it, and close the file.\u001b[39;00m\n\u001b[0;32m   1056\u001b[0m \u001b[38;5;124;03m\"\"\"\u001b[39;00m\n\u001b[0;32m   1057\u001b[0m encoding \u001b[38;5;241m=\u001b[39m io\u001b[38;5;241m.\u001b[39mtext_encoding(encoding)\n\u001b[1;32m-> 1058\u001b[0m \u001b[38;5;28;01mwith\u001b[39;00m \u001b[38;5;28;43mself\u001b[39;49m\u001b[38;5;241;43m.\u001b[39;49m\u001b[43mopen\u001b[49m\u001b[43m(\u001b[49m\u001b[43mmode\u001b[49m\u001b[38;5;241;43m=\u001b[39;49m\u001b[38;5;124;43m'\u001b[39;49m\u001b[38;5;124;43mr\u001b[39;49m\u001b[38;5;124;43m'\u001b[39;49m\u001b[43m,\u001b[49m\u001b[43m \u001b[49m\u001b[43mencoding\u001b[49m\u001b[38;5;241;43m=\u001b[39;49m\u001b[43mencoding\u001b[49m\u001b[43m,\u001b[49m\u001b[43m \u001b[49m\u001b[43merrors\u001b[49m\u001b[38;5;241;43m=\u001b[39;49m\u001b[43merrors\u001b[49m\u001b[43m)\u001b[49m \u001b[38;5;28;01mas\u001b[39;00m f:\n\u001b[0;32m   1059\u001b[0m     \u001b[38;5;28;01mreturn\u001b[39;00m f\u001b[38;5;241m.\u001b[39mread()\n",
      "File \u001b[1;32md:\\ProgramData\\Anaconda3.9\\envs\\wingman\\Lib\\pathlib.py:1044\u001b[0m, in \u001b[0;36mPath.open\u001b[1;34m(self, mode, buffering, encoding, errors, newline)\u001b[0m\n\u001b[0;32m   1042\u001b[0m \u001b[38;5;28;01mif\u001b[39;00m \u001b[38;5;124m\"\u001b[39m\u001b[38;5;124mb\u001b[39m\u001b[38;5;124m\"\u001b[39m \u001b[38;5;129;01mnot\u001b[39;00m \u001b[38;5;129;01min\u001b[39;00m mode:\n\u001b[0;32m   1043\u001b[0m     encoding \u001b[38;5;241m=\u001b[39m io\u001b[38;5;241m.\u001b[39mtext_encoding(encoding)\n\u001b[1;32m-> 1044\u001b[0m \u001b[38;5;28;01mreturn\u001b[39;00m io\u001b[38;5;241m.\u001b[39mopen(\u001b[38;5;28mself\u001b[39m, mode, buffering, encoding, errors, newline)\n",
      "\u001b[1;31mFileNotFoundError\u001b[0m: [Errno 2] No such file or directory: 'docs\\\\analytics.md'"
     ]
    }
   ],
   "source": [
    "\n",
    "context_file = Path('docs/analytics.md')\n",
    "context_media = context_file.read_text(encoding='utf-8')\n",
    "\n",
    "system_prompt = \"\"\"You are a helpful and concise assistant.\"\"\"\n",
    "\n",
    "chat = claudette.Chat(model, sp=system_prompt)\n",
    "response = chat(\"\"\"Can you come up with 10 realistic questions a hiring manager might ask in an opening interview?  the job title for this role is: SENIOR RESEARCH ANALYST,\n",
    "            Do not add any additional commentary, just list 10 questions only. Start each question with a new line starting like:\n",
    "                [Q1] ... \n",
    "                [Q2] ...\n",
    "                My resume is in the project docs, the core competencies for a senior analyst are below:\n",
    "                {context_media}\"\"\")\n"
   ]
  },
  {
   "cell_type": "code",
   "execution_count": 53,
   "metadata": {},
   "outputs": [
    {
     "data": {
      "text/markdown": [
       "[Q1] Can you tell me about your background and experience as a research analyst?\n",
       "\n",
       "[Q2] What are your key strengths and how do they make you a good fit for this senior research analyst role?\n",
       "\n",
       "[Q3] Can you describe a complex research project you've worked on and your specific contributions?\n",
       "\n",
       "[Q4] How do you stay up-to-date with industry trends and developments relevant to this role?\n",
       "\n",
       "[Q5] Can you provide an example of a time when you had to present your research findings to a client or stakeholder?\n",
       "\n",
       "[Q6] How do you approach data analysis and interpretation to draw meaningful insights?\n",
       "\n",
       "[Q7] What experience do you have in using data visualization tools to present research findings?\n",
       "\n",
       "[Q8] Can you share a time when you had to navigate a challenging research-related problem or obstacle?\n",
       "\n",
       "[Q9] How do you ensure the quality and accuracy of your research outputs?\n",
       "\n",
       "[Q10] What are your long-term career goals and how does this senior research analyst role fit into your professional development?\n",
       "\n",
       "<details>\n",
       "<summary>History</summary>\n",
       "\n",
       "**user**: C\n",
       "\n",
       "**assistant**: [Q1] Can you tell me about your background and experience as a research analyst?\n",
       "\n",
       "[Q2] What are your key strengths and how do they make you a good fit for this senior research analyst role?\n",
       "\n",
       "[Q3] Can you describe a complex research project you've worked on and your specific contributions?\n",
       "\n",
       "[Q4] How do you stay up-to-date with industry trends and developments relevant to this role?\n",
       "\n",
       "[Q5] Can you provide an example of a time when you had to present your research findings to a client or stakeholder?\n",
       "\n",
       "[Q6] How do you approach data analysis and interpretation to draw meaningful insights?\n",
       "\n",
       "[Q7] What experience do you have in using data visualization tools to present research findings?\n",
       "\n",
       "[Q8] Can you share a time when you had to navigate a challenging research-related problem or obstacle?\n",
       "\n",
       "[Q9] How do you ensure the quality and accuracy of your research outputs?\n",
       "\n",
       "[Q10] What are your long-term career goals and how does this senior research analyst role fit into your professional development?\n",
       "</details>\n",
       "\n",
       "| Metric | Count | Cost (USD) |\n",
       "|--------|------:|-----:|\n",
       "| Input tokens | 122 | 0.000030 |\n",
       "| Output tokens | 228 | 0.000285 |\n",
       "| Cache tokens | 0 | 0.000000 |\n",
       "| **Total** | **350** | **$0.000316** |"
      ],
      "text/plain": [
       "<claudette.core.Chat at 0x1ba21b23f10>"
      ]
     },
     "execution_count": 53,
     "metadata": {},
     "output_type": "execute_result"
    }
   ],
   "source": [
    "chat"
   ]
  },
  {
   "cell_type": "markdown",
   "metadata": {},
   "source": [
    "## More directly testing on Mock Interviews:"
   ]
  },
  {
   "cell_type": "code",
   "execution_count": null,
   "metadata": {},
   "outputs": [],
   "source": [
    "#| export\n",
    "\n",
    "INTERVIEW_INSTRUCTIONS = \"\"\"Can you walk through each of the interview question from the. file, one by one, and I \n",
    "will reply directly to them in the response, as in a mock interview. I want you to set up the following sections \n",
    "with line breaks between them \n",
    "\n",
    "----- ANSWER EVAL ----- {Summarise user input answer concisely and into a few bullet points, (depending on length). \n",
    "This section will be displayed in Markdown, so format appropriately.\n",
    "Use headings GOOD, with a small numbered list of what is considered high-quality response. \n",
    "Use heading BAD, critique of where the answer went wrong, think about verbosity, clarity, what kind of thing should be \n",
    "answered in a high level interview, for a very senior position like this. You must be brutally honest. Don't be mean,\n",
    "be don't flounder around worring about hurt feelings. It's very important this feedback is sharp and accurate. Add some \n",
    "humour if you feel it might soften the tone - but it's essential you are concise.]\n",
    "\n",
    "[RESPONSE METRICS] Here please return a json object with these metrics as keys and a score rating between 0-10 (1 d.p.). \n",
    "This is mostly for fun but do the best you can with it. The metrics:\n",
    "* Linguistic Clarity\n",
    "* Confidence\n",
    "* Technical Expertise\n",
    "* Strategic Thinking\n",
    "* Impact Demonstration\n",
    "* Industry Understanding\n",
    "[ENDJSON]\n",
    "\n",
    "----- REWRITEN ----- \n",
    "Use the above notes to write a first-in-class script for the question. Use the same general facts as the actual answer, \n",
    "but don't be afraid to add in external context to the answer if your descretion requires it. This is a fictional exercise \n",
    "and we want the answer to be an example of a perfect answer. Use bold to highly key words and phrases in the answer, and \n",
    "keep it conversational in tone. It needs to be spoken out loud, so avoid literary flourishes that would only exist on paper. \n",
    "It's incredibly important to use your own discretion and not be too verbose! If the question only requires a short answer,\n",
    "then answer it as succinctly as possibly. If the user gives a short answer, match that kind of vibe, but of course include\n",
    "additional padding so it conforms to a professionally acceptable length. \n",
    "----- END ----- \n",
    "If the users answers the question in the response the evaluate it like above, and then ask to move on to the next question. \n",
    "For each question and answer repeat the same instructions.\"\"\""
   ]
  },
  {
   "cell_type": "code",
   "execution_count": 21,
   "metadata": {},
   "outputs": [
    {
     "data": {
      "text/markdown": [
       "[Q1] Can you walk me through your relevant work experience as a research analyst?\n",
       "\n",
       "<details>\n",
       "\n",
       "- id: `msg_01S1gYrMsFaD5nouZySSMm28`\n",
       "- content: `[{'citations': None, 'text': '[Q1] Can you walk me through your relevant work experience as a research analyst?', 'type': 'text'}]`\n",
       "- model: `claude-3-haiku-20240307`\n",
       "- role: `assistant`\n",
       "- stop_reason: `end_turn`\n",
       "- stop_sequence: `None`\n",
       "- type: `message`\n",
       "- usage: `{'cache_creation_input_tokens': 0, 'cache_read_input_tokens': 0, 'input_tokens': 755, 'output_tokens': 21}`\n",
       "\n",
       "</details>"
      ],
      "text/plain": [
       "Message(id='msg_01S1gYrMsFaD5nouZySSMm28', content=[TextBlock(citations=None, text='[Q1] Can you walk me through your relevant work experience as a research analyst?', type='text')], model='claude-3-haiku-20240307', role='assistant', stop_reason='end_turn', stop_sequence=None, type='message', usage=In: 755; Out: 21; Cache create: 0; Cache read: 0; Total: 776)"
      ]
     },
     "execution_count": 21,
     "metadata": {},
     "output_type": "execute_result"
    }
   ],
   "source": [
    "chat(INTERVIEW_INSTRUCTIONS)"
   ]
  },
  {
   "cell_type": "code",
   "execution_count": 22,
   "metadata": {},
   "outputs": [
    {
     "data": {
      "text/markdown": [
       "----- ANSWER EVAL -----\n",
       "\n",
       "**GOOD**:\n",
       "1. Provided a high-level overview of relevant work experience as a research analyst.\n",
       "2. Conveyed confidence in handling challenging situations.\n",
       "\n",
       "**BAD**:\n",
       "1. The response is quite vague and lacks specific details about the candidate's work experience.\n",
       "2. The language used is informal and does not reflect the professionalism expected for a senior-level position.\n",
       "3. The answer does not demonstrate the depth of knowledge and expertise required for a senior research analyst role.\n",
       "\n",
       "[RESPONSE METRICS]\n",
       "{\n",
       "  \"Linguistic Clarity\": 3.0,\n",
       "  \"Confidence\": 5.0,\n",
       "  \"Technical Expertise\": 2.0,\n",
       "  \"Strategic Thinking\": 2.0,\n",
       "  \"Impact Demonstration\": 2.0,\n",
       "  \"Industry Understanding\": 2.0\n",
       "}\n",
       "\n",
       "----- REWRITTEN -----\n",
       "\n",
       "**As a senior research analyst, I have extensive experience in conducting in-depth market research, data analysis, and providing strategic insights to support key business decisions.** During my time at [Previous Employer], I led a team of analysts in a comprehensive study of the competitive landscape within our industry. This involved gathering and synthesizing data from multiple sources, including industry reports, customer surveys, and internal sales data. \n",
       "\n",
       "**I was able to identify emerging trends and pain points that our clients were facing, which allowed us to develop targeted solutions that delivered significant value.** For example, I spearheaded a project to analyze customer churn patterns, which led to the implementation of a proactive customer retention program that improved our client retention rate by 15% over the course of a year.\n",
       "\n",
       "**Throughout my career, I have honed my skills in leveraging advanced data analysis tools and techniques to uncover meaningful insights that drive business growth.** I am proficient in statistical modeling, data visualization, and presenting complex findings to both technical and non-technical stakeholders in a clear and compelling manner. **My ability to translate data into actionable recommendations has been instrumental in helping my previous employers make informed, data-driven decisions.**\n",
       "\n",
       "----- END -----\n",
       "\n",
       "[Q2] How do you stay up-to-date with the latest industry trends and developments?\n",
       "\n",
       "<details>\n",
       "\n",
       "- id: `msg_01P7hvJ9Tr7kUUCVhzTwGiWL`\n",
       "- content: `[{'citations': None, 'text': '----- ANSWER EVAL -----\\n\\n**GOOD**:\\n1. Provided a high-level overview of relevant work experience as a research analyst.\\n2. Conveyed confidence in handling challenging situations.\\n\\n**BAD**:\\n1. The response is quite vague and lacks specific details about the candidate\\'s work experience.\\n2. The language used is informal and does not reflect the professionalism expected for a senior-level position.\\n3. The answer does not demonstrate the depth of knowledge and expertise required for a senior research analyst role.\\n\\n[RESPONSE METRICS]\\n{\\n  \"Linguistic Clarity\": 3.0,\\n  \"Confidence\": 5.0,\\n  \"Technical Expertise\": 2.0,\\n  \"Strategic Thinking\": 2.0,\\n  \"Impact Demonstration\": 2.0,\\n  \"Industry Understanding\": 2.0\\n}\\n\\n----- REWRITTEN -----\\n\\n**As a senior research analyst, I have extensive experience in conducting in-depth market research, data analysis, and providing strategic insights to support key business decisions.** During my time at [Previous Employer], I led a team of analysts in a comprehensive study of the competitive landscape within our industry. This involved gathering and synthesizing data from multiple sources, including industry reports, customer surveys, and internal sales data. \\n\\n**I was able to identify emerging trends and pain points that our clients were facing, which allowed us to develop targeted solutions that delivered significant value.** For example, I spearheaded a project to analyze customer churn patterns, which led to the implementation of a proactive customer retention program that improved our client retention rate by 15% over the course of a year.\\n\\n**Throughout my career, I have honed my skills in leveraging advanced data analysis tools and techniques to uncover meaningful insights that drive business growth.** I am proficient in statistical modeling, data visualization, and presenting complex findings to both technical and non-technical stakeholders in a clear and compelling manner. **My ability to translate data into actionable recommendations has been instrumental in helping my previous employers make informed, data-driven decisions.**\\n\\n----- END -----\\n\\n[Q2] How do you stay up-to-date with the latest industry trends and developments?', 'type': 'text'}]`\n",
       "- model: `claude-3-haiku-20240307`\n",
       "- role: `assistant`\n",
       "- stop_reason: `end_turn`\n",
       "- stop_sequence: `None`\n",
       "- type: `message`\n",
       "- usage: `{'cache_creation_input_tokens': 0, 'cache_read_input_tokens': 0, 'input_tokens': 816, 'output_tokens': 488}`\n",
       "\n",
       "</details>"
      ],
      "text/plain": [
       "Message(id='msg_01P7hvJ9Tr7kUUCVhzTwGiWL', content=[TextBlock(citations=None, text='----- ANSWER EVAL -----\\n\\n**GOOD**:\\n1. Provided a high-level overview of relevant work experience as a research analyst.\\n2. Conveyed confidence in handling challenging situations.\\n\\n**BAD**:\\n1. The response is quite vague and lacks specific details about the candidate\\'s work experience.\\n2. The language used is informal and does not reflect the professionalism expected for a senior-level position.\\n3. The answer does not demonstrate the depth of knowledge and expertise required for a senior research analyst role.\\n\\n[RESPONSE METRICS]\\n{\\n  \"Linguistic Clarity\": 3.0,\\n  \"Confidence\": 5.0,\\n  \"Technical Expertise\": 2.0,\\n  \"Strategic Thinking\": 2.0,\\n  \"Impact Demonstration\": 2.0,\\n  \"Industry Understanding\": 2.0\\n}\\n\\n----- REWRITTEN -----\\n\\n**As a senior research analyst, I have extensive experience in conducting in-depth market research, data analysis, and providing strategic insights to support key business decisions.** During my time at [Previous Employer], I led a team of analysts in a comprehensive study of the competitive landscape within our industry. This involved gathering and synthesizing data from multiple sources, including industry reports, customer surveys, and internal sales data. \\n\\n**I was able to identify emerging trends and pain points that our clients were facing, which allowed us to develop targeted solutions that delivered significant value.** For example, I spearheaded a project to analyze customer churn patterns, which led to the implementation of a proactive customer retention program that improved our client retention rate by 15% over the course of a year.\\n\\n**Throughout my career, I have honed my skills in leveraging advanced data analysis tools and techniques to uncover meaningful insights that drive business growth.** I am proficient in statistical modeling, data visualization, and presenting complex findings to both technical and non-technical stakeholders in a clear and compelling manner. **My ability to translate data into actionable recommendations has been instrumental in helping my previous employers make informed, data-driven decisions.**\\n\\n----- END -----\\n\\n[Q2] How do you stay up-to-date with the latest industry trends and developments?', type='text')], model='claude-3-haiku-20240307', role='assistant', stop_reason='end_turn', stop_sequence=None, type='message', usage=In: 816; Out: 488; Cache create: 0; Cache read: 0; Total: 1304)"
      ]
     },
     "execution_count": 22,
     "metadata": {},
     "output_type": "execute_result"
    }
   ],
   "source": [
    "user_reply = \"Yeah, when I was working as a research analyst, it was pretty tight. Lots of people asked me some pretty hard questions and I, you know, I just crushed it\"\n",
    "c = chat(user_reply)\n",
    "c"
   ]
  },
  {
   "cell_type": "markdown",
   "metadata": {},
   "source": [
    "# Test Mechanic – Inline `Gradio UI`"
   ]
  },
  {
   "cell_type": "code",
   "execution_count": 7,
   "metadata": {},
   "outputs": [
    {
     "ename": "NameError",
     "evalue": "name 'c' is not defined",
     "output_type": "error",
     "traceback": [
      "\u001b[1;31m---------------------------------------------------------------------------\u001b[0m",
      "\u001b[1;31mNameError\u001b[0m                                 Traceback (most recent call last)",
      "Cell \u001b[1;32mIn[7], line 2\u001b[0m\n\u001b[0;32m      1\u001b[0m \u001b[38;5;66;03m# access claudette messages\u001b[39;00m\n\u001b[1;32m----> 2\u001b[0m \u001b[43mc\u001b[49m\u001b[38;5;241m.\u001b[39mcontent[\u001b[38;5;241m0\u001b[39m]\u001b[38;5;241m.\u001b[39mtext\n",
      "\u001b[1;31mNameError\u001b[0m: name 'c' is not defined"
     ]
    }
   ],
   "source": [
    "# access claudette messages\n",
    "c.content[0].text"
   ]
  },
  {
   "cell_type": "code",
   "execution_count": 8,
   "metadata": {},
   "outputs": [
    {
     "ename": "FileNotFoundError",
     "evalue": "[Errno 2] No such file or directory: 'docs\\\\analytics.md'",
     "output_type": "error",
     "traceback": [
      "\u001b[1;31m---------------------------------------------------------------------------\u001b[0m",
      "\u001b[1;31mFileNotFoundError\u001b[0m                         Traceback (most recent call last)",
      "Cell \u001b[1;32mIn[8], line 4\u001b[0m\n\u001b[0;32m      1\u001b[0m \u001b[38;5;28;01mimport\u001b[39;00m\u001b[38;5;250m \u001b[39m\u001b[38;5;21;01mgradio\u001b[39;00m\u001b[38;5;250m \u001b[39m\u001b[38;5;28;01mas\u001b[39;00m\u001b[38;5;250m \u001b[39m\u001b[38;5;21;01mgr\u001b[39;00m\n\u001b[0;32m      3\u001b[0m context_file \u001b[38;5;241m=\u001b[39m Path(\u001b[38;5;124m'\u001b[39m\u001b[38;5;124mdocs/analytics.md\u001b[39m\u001b[38;5;124m'\u001b[39m)\n\u001b[1;32m----> 4\u001b[0m context_media \u001b[38;5;241m=\u001b[39m \u001b[43mcontext_file\u001b[49m\u001b[38;5;241;43m.\u001b[39;49m\u001b[43mread_text\u001b[49m\u001b[43m(\u001b[49m\u001b[43mencoding\u001b[49m\u001b[38;5;241;43m=\u001b[39;49m\u001b[38;5;124;43m'\u001b[39;49m\u001b[38;5;124;43mutf-8\u001b[39;49m\u001b[38;5;124;43m'\u001b[39;49m\u001b[43m)\u001b[49m\n\u001b[0;32m      5\u001b[0m system_prompt \u001b[38;5;241m=\u001b[39m \u001b[38;5;124m\"\"\"\u001b[39m\u001b[38;5;124mYou are a helpful and concise assistant.\u001b[39m\u001b[38;5;124m\"\"\"\u001b[39m\n\u001b[0;32m      6\u001b[0m model \u001b[38;5;241m=\u001b[39m claudette\u001b[38;5;241m.\u001b[39mmodels[\u001b[38;5;241m3\u001b[39m]\n",
      "File \u001b[1;32md:\\ProgramData\\Anaconda3.9\\envs\\wingman\\Lib\\pathlib.py:1058\u001b[0m, in \u001b[0;36mPath.read_text\u001b[1;34m(self, encoding, errors)\u001b[0m\n\u001b[0;32m   1054\u001b[0m \u001b[38;5;250m\u001b[39m\u001b[38;5;124;03m\"\"\"\u001b[39;00m\n\u001b[0;32m   1055\u001b[0m \u001b[38;5;124;03mOpen the file in text mode, read it, and close the file.\u001b[39;00m\n\u001b[0;32m   1056\u001b[0m \u001b[38;5;124;03m\"\"\"\u001b[39;00m\n\u001b[0;32m   1057\u001b[0m encoding \u001b[38;5;241m=\u001b[39m io\u001b[38;5;241m.\u001b[39mtext_encoding(encoding)\n\u001b[1;32m-> 1058\u001b[0m \u001b[38;5;28;01mwith\u001b[39;00m \u001b[38;5;28;43mself\u001b[39;49m\u001b[38;5;241;43m.\u001b[39;49m\u001b[43mopen\u001b[49m\u001b[43m(\u001b[49m\u001b[43mmode\u001b[49m\u001b[38;5;241;43m=\u001b[39;49m\u001b[38;5;124;43m'\u001b[39;49m\u001b[38;5;124;43mr\u001b[39;49m\u001b[38;5;124;43m'\u001b[39;49m\u001b[43m,\u001b[49m\u001b[43m \u001b[49m\u001b[43mencoding\u001b[49m\u001b[38;5;241;43m=\u001b[39;49m\u001b[43mencoding\u001b[49m\u001b[43m,\u001b[49m\u001b[43m \u001b[49m\u001b[43merrors\u001b[49m\u001b[38;5;241;43m=\u001b[39;49m\u001b[43merrors\u001b[49m\u001b[43m)\u001b[49m \u001b[38;5;28;01mas\u001b[39;00m f:\n\u001b[0;32m   1059\u001b[0m     \u001b[38;5;28;01mreturn\u001b[39;00m f\u001b[38;5;241m.\u001b[39mread()\n",
      "File \u001b[1;32md:\\ProgramData\\Anaconda3.9\\envs\\wingman\\Lib\\pathlib.py:1044\u001b[0m, in \u001b[0;36mPath.open\u001b[1;34m(self, mode, buffering, encoding, errors, newline)\u001b[0m\n\u001b[0;32m   1042\u001b[0m \u001b[38;5;28;01mif\u001b[39;00m \u001b[38;5;124m\"\u001b[39m\u001b[38;5;124mb\u001b[39m\u001b[38;5;124m\"\u001b[39m \u001b[38;5;129;01mnot\u001b[39;00m \u001b[38;5;129;01min\u001b[39;00m mode:\n\u001b[0;32m   1043\u001b[0m     encoding \u001b[38;5;241m=\u001b[39m io\u001b[38;5;241m.\u001b[39mtext_encoding(encoding)\n\u001b[1;32m-> 1044\u001b[0m \u001b[38;5;28;01mreturn\u001b[39;00m io\u001b[38;5;241m.\u001b[39mopen(\u001b[38;5;28mself\u001b[39m, mode, buffering, encoding, errors, newline)\n",
      "\u001b[1;31mFileNotFoundError\u001b[0m: [Errno 2] No such file or directory: 'docs\\\\analytics.md'"
     ]
    }
   ],
   "source": [
    "import gradio as gr\n",
    "\n",
    "context_file = Path('docs/analytics.md')\n",
    "context_media = context_file.read_text(encoding='utf-8')\n",
    "system_prompt = \"\"\"You are a helpful and concise assistant.\"\"\"\n",
    "model = claudette.models[3]\n",
    "\n",
    "chat = claudette.Chat(model, sp=system_prompt)\n",
    "response = chat(\"\"\"Can you come up with 10 realistic questions a hiring manager might ask in an opening interview?  the job title for this role is: SENIOR RESEARCH ANALYST,\n",
    "            Do not add any additional commentary, just list 10 questions only. Start each question with a new line starting like:\n",
    "                [Q1] ... \n",
    "                [Q2] ...\n",
    "                My resume is in the project docs, the core competencies for a senior analyst are below:\n",
    "                {context_media}\"\"\")\n",
    "\n",
    "def respond(user_message, history):\n",
    "    print(\"Messages received so far:\", user_message)  # Print to see outside gradio\n",
    "    c = chat(f'System message: {INTERVIEW_INSTRUCTIONS}, User: {user_message}')\n",
    "    return c.content[0].text \n",
    "\n",
    "chatbot = gr.ChatInterface(\n",
    "    fn=respond,\n",
    "    examples=[\"Hello Neo.. let's begin.\"],\n",
    "    theme=\"default\"\n",
    ")\n",
    "\n",
    "chatbot.launch(inline=True) "
   ]
  },
  {
   "cell_type": "code",
   "execution_count": 79,
   "metadata": {},
   "outputs": [
    {
     "data": {
      "text/plain": [
       "'----- ANSWER EVAL -----\\n\\n**GOOD**:\\n1. Provided a high-level overview of relevant work experience as a research analyst.\\n2. Conveyed confidence in handling challenging situations.\\n\\n**BAD**:\\n1. The response is quite vague and lacks specific details about the candidate\\'s work experience.\\n2. The language used is informal and does not reflect the professionalism expected for a senior-level position.\\n3. The answer does not demonstrate the depth of knowledge and expertise required for a senior research analyst role.\\n\\n[RESPONSE METRICS]\\n{\\n  \"Linguistic Clarity\": 3.0,\\n  \"Confidence\": 5.0,\\n  \"Technical Expertise\": 2.0,\\n  \"Strategic Thinking\": 2.0,\\n  \"Impact Demonstration\": 2.0,\\n  \"Industry Understanding\": 2.0\\n}\\n\\n----- REWRITTEN -----\\n\\n**As a senior research analyst, I have extensive experience in conducting in-depth market research, data analysis, and providing strategic insights to support key business decisions.** During my time at [Previous Employer], I led a team of analysts in a comprehensive study of the competitive landscape within our industry. This involved gathering and synthesizing data from multiple sources, including industry reports, customer surveys, and internal sales data. \\n\\n**I was able to identify emerging trends and pain points that our clients were facing, which allowed us to develop targeted solutions that delivered significant value.** For example, I spearheaded a project to analyze customer churn patterns, which led to the implementation of a proactive customer retention program that improved our client retention rate by 15% over the course of a year.\\n\\n**Throughout my career, I have honed my skills in leveraging advanced data analysis tools and techniques to uncover meaningful insights that drive business growth.** I am proficient in statistical modeling, data visualization, and presenting complex findings to both technical and non-technical stakeholders in a clear and compelling manner. **My ability to translate data into actionable recommendations has been instrumental in helping my previous employers make informed, data-driven decisions.**\\n\\n----- END -----\\n\\n[Q2] How do you stay up-to-date with the latest industry trends and developments?'"
      ]
     },
     "execution_count": 79,
     "metadata": {},
     "output_type": "execute_result"
    }
   ],
   "source": [
    "c.content[0].text"
   ]
  },
  {
   "cell_type": "code",
   "execution_count": 90,
   "metadata": {},
   "outputs": [],
   "source": [
    "#| export\n",
    "import json \n",
    "\n",
    "def extract_metrics(c):\n",
    "    s1 = (c.content[0].text.split('[RESPONSE METRICS]')[1])\n",
    "    s2 = s1.split(\"}\")[0] + \"}\"\n",
    "    return json.loads(s2)"
   ]
  },
  {
   "cell_type": "code",
   "execution_count": 95,
   "metadata": {},
   "outputs": [
    {
     "data": {
      "text/plain": [
       "{'Linguistic Clarity': 3.0,\n",
       " 'Confidence': 5.0,\n",
       " 'Technical Expertise': 2.0,\n",
       " 'Strategic Thinking': 2.0,\n",
       " 'Impact Demonstration': 2.0,\n",
       " 'Industry Understanding': 2.0}"
      ]
     },
     "execution_count": 95,
     "metadata": {},
     "output_type": "execute_result"
    }
   ],
   "source": [
    "kpis = extract_metrics(c)\n",
    "kpis"
   ]
  },
  {
   "cell_type": "code",
   "execution_count": 100,
   "metadata": {},
   "outputs": [
    {
     "name": "stdout",
     "output_type": "stream",
     "text": [
      "* Running on local URL:  http://127.0.0.1:7887\n",
      "\n",
      "To create a public link, set `share=True` in `launch()`.\n"
     ]
    },
    {
     "data": {
      "text/html": [
       "<div><iframe src=\"http://127.0.0.1:7887/\" width=\"100%\" height=\"500\" allow=\"autoplay; camera; microphone; clipboard-read; clipboard-write;\" frameborder=\"0\" allowfullscreen></iframe></div>"
      ],
      "text/plain": [
       "<IPython.core.display.HTML object>"
      ]
     },
     "metadata": {},
     "output_type": "display_data"
    },
    {
     "data": {
      "text/plain": []
     },
     "execution_count": 100,
     "metadata": {},
     "output_type": "execute_result"
    }
   ],
   "source": [
    "def create_dashboard(initial_metrics=None):\n",
    "    initial_metrics = initial_metrics or {}\n",
    "    \n",
    "    with gr.Blocks() as demo:\n",
    "        # Dict to store all number components\n",
    "        number_components = {}\n",
    "        \n",
    "        # Create all metrics in a single row\n",
    "        with gr.Row():\n",
    "            for metric_name, value in initial_metrics.items():\n",
    "                number_components[metric_name] = gr.Number(\n",
    "                    label=metric_name,\n",
    "                    value=value,  # Use the original value without rounding\n",
    "                    precision=1,  # Set display precision to 1 decimal\n",
    "                    info=\"rating/10\"\n",
    "                )\n",
    "        \n",
    "        # Function to update metrics\n",
    "        def update_metrics(new_metrics):\n",
    "            # Create any new metrics that didn't exist before\n",
    "            for metric_name in new_metrics:\n",
    "                if metric_name not in number_components:\n",
    "                    with gr.Row():\n",
    "                        number_components[metric_name] = gr.Number(\n",
    "                            label=metric_name,\n",
    "                            value=new_metrics[metric_name],\n",
    "                            precision=2,  # Set display precision\n",
    "                            info=\"rating/10\"\n",
    "                        )\n",
    "            \n",
    "            # Update all existing metrics\n",
    "            return [comp.update(value=new_metrics.get(k, 0.0)) for k, comp in number_components.items()]\n",
    "    \n",
    "    return demo, update_metrics, number_components\n",
    "\n",
    "demo, update_metrics, components = create_dashboard(kpis)\n",
    "demo.launch(inline=True)"
   ]
  },
  {
   "cell_type": "code",
   "execution_count": null,
   "metadata": {},
   "outputs": [],
   "source": []
  },
  {
   "cell_type": "code",
   "execution_count": 54,
   "metadata": {},
   "outputs": [],
   "source": [
    "#| hide\n",
    "import nbdev; nbdev.nbdev_export()"
   ]
  },
  {
   "cell_type": "code",
   "execution_count": null,
   "metadata": {},
   "outputs": [],
   "source": []
  }
 ],
 "metadata": {
  "kernelspec": {
   "display_name": "wingman",
   "language": "python",
   "name": "python3"
  },
  "language_info": {
   "codemirror_mode": {
    "name": "ipython",
    "version": 3
   },
   "file_extension": ".py",
   "mimetype": "text/x-python",
   "name": "python",
   "nbconvert_exporter": "python",
   "pygments_lexer": "ipython3",
   "version": "3.11.11"
  }
 },
 "nbformat": 4,
 "nbformat_minor": 4
}
