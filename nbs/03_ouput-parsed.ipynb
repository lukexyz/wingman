{
 "cells": [
  {
   "cell_type": "markdown",
   "metadata": {},
   "source": [
    "# Chat API\n",
    "\n",
    "* Connecting to Claude's API via [claudette](https://claudette.answer.ai/) for chat completion, \n",
    "* Extracting JSON and rules to populate gradio UI"
   ]
  },
  {
   "cell_type": "code",
   "execution_count": 2,
   "metadata": {},
   "outputs": [],
   "source": [
    "#| default_exp chat"
   ]
  },
  {
   "cell_type": "code",
   "execution_count": 3,
   "metadata": {},
   "outputs": [],
   "source": [
    "#| hide\n",
    "from nbdev.showdoc import *"
   ]
  },
  {
   "cell_type": "code",
   "execution_count": 4,
   "metadata": {},
   "outputs": [],
   "source": [
    "#| export\n",
    "import claudette\n",
    "from pathlib import Path\n",
    "import re"
   ]
  },
  {
   "cell_type": "markdown",
   "metadata": {},
   "source": [
    "* Claudette provides models, which is a list of models currently available from the SDK."
   ]
  },
  {
   "cell_type": "code",
   "execution_count": 5,
   "metadata": {},
   "outputs": [
    {
     "name": "stdout",
     "output_type": "stream",
     "text": [
      "claude-3-opus-20240229\n",
      "claude-3-7-sonnet-20250219\n",
      "claude-3-5-sonnet-20241022\n",
      "claude-3-haiku-20240307\n",
      "claude-3-5-haiku-20241022\n",
      "\n",
      "Chosen model: claude-3-haiku-20240307\n"
     ]
    }
   ],
   "source": [
    "[print(m) for m in claudette.models]\n",
    "# using Sonnet 3.5\n",
    "model = claudette.models[3]\n",
    "print(f'\\nChosen model: {model}')"
   ]
  },
  {
   "cell_type": "code",
   "execution_count": 6,
   "metadata": {},
   "outputs": [
    {
     "name": "stdout",
     "output_type": "stream",
     "text": [
      "key exists ☑\n"
     ]
    }
   ],
   "source": [
    "import os\n",
    "api_key = os.getenv('ANTHROPIC_API_KEY')\n",
    "if api_key: print('key exists ☑')"
   ]
  },
  {
   "cell_type": "code",
   "execution_count": 52,
   "metadata": {},
   "outputs": [],
   "source": [
    "\n",
    "context_file = Path('docs/analytics.md')\n",
    "context_media = context_file.read_text(encoding='utf-8')\n",
    "\n",
    "system_prompt = \"\"\"You are a helpful and concise assistant.\"\"\"\n",
    "\n",
    "chat = claudette.Chat(model, sp=system_prompt)\n",
    "response = chat(\"\"\"Can you come up with 10 realistic questions a hiring manager might ask in an opening interview?  the job title for this role is: SENIOR RESEARCH ANALYST,\n",
    "            Do not add any additional commentary, just list 10 questions only. Start each question with a new line starting like:\n",
    "                [Q1] ... \n",
    "                [Q2] ...\n",
    "                My resume is in the project docs, the core competencies for a senior analyst are below:\n",
    "                {context_media}\"\"\")\n"
   ]
  },
  {
   "cell_type": "code",
   "execution_count": 53,
   "metadata": {},
   "outputs": [
    {
     "data": {
      "text/markdown": [
       "[Q1] Can you tell me about your background and experience as a research analyst?\n",
       "\n",
       "[Q2] What are your key strengths and how do they make you a good fit for this senior research analyst role?\n",
       "\n",
       "[Q3] Can you describe a complex research project you've worked on and your specific contributions?\n",
       "\n",
       "[Q4] How do you stay up-to-date with industry trends and developments relevant to this role?\n",
       "\n",
       "[Q5] Can you provide an example of a time when you had to present your research findings to a client or stakeholder?\n",
       "\n",
       "[Q6] How do you approach data analysis and interpretation to draw meaningful insights?\n",
       "\n",
       "[Q7] What experience do you have in using data visualization tools to present research findings?\n",
       "\n",
       "[Q8] Can you share a time when you had to navigate a challenging research-related problem or obstacle?\n",
       "\n",
       "[Q9] How do you ensure the quality and accuracy of your research outputs?\n",
       "\n",
       "[Q10] What are your long-term career goals and how does this senior research analyst role fit into your professional development?\n",
       "\n",
       "<details>\n",
       "<summary>History</summary>\n",
       "\n",
       "**user**: C\n",
       "\n",
       "**assistant**: [Q1] Can you tell me about your background and experience as a research analyst?\n",
       "\n",
       "[Q2] What are your key strengths and how do they make you a good fit for this senior research analyst role?\n",
       "\n",
       "[Q3] Can you describe a complex research project you've worked on and your specific contributions?\n",
       "\n",
       "[Q4] How do you stay up-to-date with industry trends and developments relevant to this role?\n",
       "\n",
       "[Q5] Can you provide an example of a time when you had to present your research findings to a client or stakeholder?\n",
       "\n",
       "[Q6] How do you approach data analysis and interpretation to draw meaningful insights?\n",
       "\n",
       "[Q7] What experience do you have in using data visualization tools to present research findings?\n",
       "\n",
       "[Q8] Can you share a time when you had to navigate a challenging research-related problem or obstacle?\n",
       "\n",
       "[Q9] How do you ensure the quality and accuracy of your research outputs?\n",
       "\n",
       "[Q10] What are your long-term career goals and how does this senior research analyst role fit into your professional development?\n",
       "</details>\n",
       "\n",
       "| Metric | Count | Cost (USD) |\n",
       "|--------|------:|-----:|\n",
       "| Input tokens | 122 | 0.000030 |\n",
       "| Output tokens | 228 | 0.000285 |\n",
       "| Cache tokens | 0 | 0.000000 |\n",
       "| **Total** | **350** | **$0.000316** |"
      ],
      "text/plain": [
       "<claudette.core.Chat at 0x1ba21b23f10>"
      ]
     },
     "execution_count": 53,
     "metadata": {},
     "output_type": "execute_result"
    }
   ],
   "source": [
    "chat"
   ]
  },
  {
   "cell_type": "markdown",
   "metadata": {},
   "source": [
    "## More directly testing on Mock Interviews:"
   ]
  },
  {
   "cell_type": "code",
   "execution_count": 20,
   "metadata": {},
   "outputs": [],
   "source": [
    "#| export\n",
    "\n",
    "INTERVIEW_INSTRUCTIONS = \"\"\"Can you walk through each of the interview question from the. file, one by one, and I \n",
    "will reply directly to them in the response, as in a mock interview. I want you to set up the following sections \n",
    "with line breaks between them \n",
    "\n",
    "----- ANSWER EVAL ----- {Summarise user input answer concisely and into a few bullet points, (depending on length). \n",
    "This section will be displayed in Markdown, so format appropriately.\n",
    "Use headings GOOD, with a small numbered list of what is considered high-quality response. \n",
    "Use heading BAD, critique of where the answer went wrong, think about verbosity, clarity, what kind of thing should be \n",
    "answered in a high level interview, for a very senior position like this.]\n",
    "\n",
    "[RESPONSE METRICS] Here please return a json object with these metrics as keys and a score rating between 0-10 (1 d.p.). \n",
    "This is mostly for fun but do the best you can with it. The metrics:\n",
    "* Linguistic Clarity\n",
    "* Confidence\n",
    "* Technical Expertise\n",
    "* Strategic Thinking\n",
    "* Impact Demonstration\n",
    "* Industry Understanding\n",
    "[ENDJSON]\n",
    "\n",
    "----- REWRITEN ----- \n",
    "Use the above notes to write a first-in-class script for the question. Use the same general facts as the actual answer, \n",
    "but don't be afraid to add in external context to the answer if your descretion requires it. This is a fictional exercise \n",
    "and we want the answer to be an example of a perfect answer. Use bold to highly key words and phrases in the answer, and \n",
    "keep it conversational in tone. It needs to be spoken out loud, so avoid literary flourishes that would only exist on paper. \n",
    "----- END ----- \n",
    "If the users answers the question in the response the evaluate it like above, and then ask to move on to the next question. \n",
    "For each question and answer repeat the same instructions.\"\"\""
   ]
  },
  {
   "cell_type": "code",
   "execution_count": 21,
   "metadata": {},
   "outputs": [
    {
     "data": {
      "text/markdown": [
       "[Q1] Can you walk me through your relevant work experience as a research analyst?\n",
       "\n",
       "<details>\n",
       "\n",
       "- id: `msg_01S1gYrMsFaD5nouZySSMm28`\n",
       "- content: `[{'citations': None, 'text': '[Q1] Can you walk me through your relevant work experience as a research analyst?', 'type': 'text'}]`\n",
       "- model: `claude-3-haiku-20240307`\n",
       "- role: `assistant`\n",
       "- stop_reason: `end_turn`\n",
       "- stop_sequence: `None`\n",
       "- type: `message`\n",
       "- usage: `{'cache_creation_input_tokens': 0, 'cache_read_input_tokens': 0, 'input_tokens': 755, 'output_tokens': 21}`\n",
       "\n",
       "</details>"
      ],
      "text/plain": [
       "Message(id='msg_01S1gYrMsFaD5nouZySSMm28', content=[TextBlock(citations=None, text='[Q1] Can you walk me through your relevant work experience as a research analyst?', type='text')], model='claude-3-haiku-20240307', role='assistant', stop_reason='end_turn', stop_sequence=None, type='message', usage=In: 755; Out: 21; Cache create: 0; Cache read: 0; Total: 776)"
      ]
     },
     "execution_count": 21,
     "metadata": {},
     "output_type": "execute_result"
    }
   ],
   "source": [
    "chat(INTERVIEW_INSTRUCTIONS)"
   ]
  },
  {
   "cell_type": "code",
   "execution_count": 22,
   "metadata": {},
   "outputs": [
    {
     "data": {
      "text/markdown": [
       "----- ANSWER EVAL -----\n",
       "\n",
       "**GOOD**:\n",
       "1. Provided a high-level overview of relevant work experience as a research analyst.\n",
       "2. Conveyed confidence in handling challenging situations.\n",
       "\n",
       "**BAD**:\n",
       "1. The response is quite vague and lacks specific details about the candidate's work experience.\n",
       "2. The language used is informal and does not reflect the professionalism expected for a senior-level position.\n",
       "3. The answer does not demonstrate the depth of knowledge and expertise required for a senior research analyst role.\n",
       "\n",
       "[RESPONSE METRICS]\n",
       "{\n",
       "  \"Linguistic Clarity\": 3.0,\n",
       "  \"Confidence\": 5.0,\n",
       "  \"Technical Expertise\": 2.0,\n",
       "  \"Strategic Thinking\": 2.0,\n",
       "  \"Impact Demonstration\": 2.0,\n",
       "  \"Industry Understanding\": 2.0\n",
       "}\n",
       "\n",
       "----- REWRITTEN -----\n",
       "\n",
       "**As a senior research analyst, I have extensive experience in conducting in-depth market research, data analysis, and providing strategic insights to support key business decisions.** During my time at [Previous Employer], I led a team of analysts in a comprehensive study of the competitive landscape within our industry. This involved gathering and synthesizing data from multiple sources, including industry reports, customer surveys, and internal sales data. \n",
       "\n",
       "**I was able to identify emerging trends and pain points that our clients were facing, which allowed us to develop targeted solutions that delivered significant value.** For example, I spearheaded a project to analyze customer churn patterns, which led to the implementation of a proactive customer retention program that improved our client retention rate by 15% over the course of a year.\n",
       "\n",
       "**Throughout my career, I have honed my skills in leveraging advanced data analysis tools and techniques to uncover meaningful insights that drive business growth.** I am proficient in statistical modeling, data visualization, and presenting complex findings to both technical and non-technical stakeholders in a clear and compelling manner. **My ability to translate data into actionable recommendations has been instrumental in helping my previous employers make informed, data-driven decisions.**\n",
       "\n",
       "----- END -----\n",
       "\n",
       "[Q2] How do you stay up-to-date with the latest industry trends and developments?\n",
       "\n",
       "<details>\n",
       "\n",
       "- id: `msg_01P7hvJ9Tr7kUUCVhzTwGiWL`\n",
       "- content: `[{'citations': None, 'text': '----- ANSWER EVAL -----\\n\\n**GOOD**:\\n1. Provided a high-level overview of relevant work experience as a research analyst.\\n2. Conveyed confidence in handling challenging situations.\\n\\n**BAD**:\\n1. The response is quite vague and lacks specific details about the candidate\\'s work experience.\\n2. The language used is informal and does not reflect the professionalism expected for a senior-level position.\\n3. The answer does not demonstrate the depth of knowledge and expertise required for a senior research analyst role.\\n\\n[RESPONSE METRICS]\\n{\\n  \"Linguistic Clarity\": 3.0,\\n  \"Confidence\": 5.0,\\n  \"Technical Expertise\": 2.0,\\n  \"Strategic Thinking\": 2.0,\\n  \"Impact Demonstration\": 2.0,\\n  \"Industry Understanding\": 2.0\\n}\\n\\n----- REWRITTEN -----\\n\\n**As a senior research analyst, I have extensive experience in conducting in-depth market research, data analysis, and providing strategic insights to support key business decisions.** During my time at [Previous Employer], I led a team of analysts in a comprehensive study of the competitive landscape within our industry. This involved gathering and synthesizing data from multiple sources, including industry reports, customer surveys, and internal sales data. \\n\\n**I was able to identify emerging trends and pain points that our clients were facing, which allowed us to develop targeted solutions that delivered significant value.** For example, I spearheaded a project to analyze customer churn patterns, which led to the implementation of a proactive customer retention program that improved our client retention rate by 15% over the course of a year.\\n\\n**Throughout my career, I have honed my skills in leveraging advanced data analysis tools and techniques to uncover meaningful insights that drive business growth.** I am proficient in statistical modeling, data visualization, and presenting complex findings to both technical and non-technical stakeholders in a clear and compelling manner. **My ability to translate data into actionable recommendations has been instrumental in helping my previous employers make informed, data-driven decisions.**\\n\\n----- END -----\\n\\n[Q2] How do you stay up-to-date with the latest industry trends and developments?', 'type': 'text'}]`\n",
       "- model: `claude-3-haiku-20240307`\n",
       "- role: `assistant`\n",
       "- stop_reason: `end_turn`\n",
       "- stop_sequence: `None`\n",
       "- type: `message`\n",
       "- usage: `{'cache_creation_input_tokens': 0, 'cache_read_input_tokens': 0, 'input_tokens': 816, 'output_tokens': 488}`\n",
       "\n",
       "</details>"
      ],
      "text/plain": [
       "Message(id='msg_01P7hvJ9Tr7kUUCVhzTwGiWL', content=[TextBlock(citations=None, text='----- ANSWER EVAL -----\\n\\n**GOOD**:\\n1. Provided a high-level overview of relevant work experience as a research analyst.\\n2. Conveyed confidence in handling challenging situations.\\n\\n**BAD**:\\n1. The response is quite vague and lacks specific details about the candidate\\'s work experience.\\n2. The language used is informal and does not reflect the professionalism expected for a senior-level position.\\n3. The answer does not demonstrate the depth of knowledge and expertise required for a senior research analyst role.\\n\\n[RESPONSE METRICS]\\n{\\n  \"Linguistic Clarity\": 3.0,\\n  \"Confidence\": 5.0,\\n  \"Technical Expertise\": 2.0,\\n  \"Strategic Thinking\": 2.0,\\n  \"Impact Demonstration\": 2.0,\\n  \"Industry Understanding\": 2.0\\n}\\n\\n----- REWRITTEN -----\\n\\n**As a senior research analyst, I have extensive experience in conducting in-depth market research, data analysis, and providing strategic insights to support key business decisions.** During my time at [Previous Employer], I led a team of analysts in a comprehensive study of the competitive landscape within our industry. This involved gathering and synthesizing data from multiple sources, including industry reports, customer surveys, and internal sales data. \\n\\n**I was able to identify emerging trends and pain points that our clients were facing, which allowed us to develop targeted solutions that delivered significant value.** For example, I spearheaded a project to analyze customer churn patterns, which led to the implementation of a proactive customer retention program that improved our client retention rate by 15% over the course of a year.\\n\\n**Throughout my career, I have honed my skills in leveraging advanced data analysis tools and techniques to uncover meaningful insights that drive business growth.** I am proficient in statistical modeling, data visualization, and presenting complex findings to both technical and non-technical stakeholders in a clear and compelling manner. **My ability to translate data into actionable recommendations has been instrumental in helping my previous employers make informed, data-driven decisions.**\\n\\n----- END -----\\n\\n[Q2] How do you stay up-to-date with the latest industry trends and developments?', type='text')], model='claude-3-haiku-20240307', role='assistant', stop_reason='end_turn', stop_sequence=None, type='message', usage=In: 816; Out: 488; Cache create: 0; Cache read: 0; Total: 1304)"
      ]
     },
     "execution_count": 22,
     "metadata": {},
     "output_type": "execute_result"
    }
   ],
   "source": [
    "user_reply = \"Yeah, when I was working as a research analyst, it was pretty tight. Lots of people asked me some pretty hard questions and I, you know, I just crushed it\"\n",
    "c = chat(user_reply)\n",
    "c"
   ]
  },
  {
   "cell_type": "markdown",
   "metadata": {},
   "source": [
    "# Test Mechanic – Inline `Gradio UI`"
   ]
  },
  {
   "cell_type": "code",
   "execution_count": 43,
   "metadata": {},
   "outputs": [
    {
     "data": {
      "text/plain": [
       "'----- ANSWER EVAL -----\\n\\n**GOOD**:\\n1. Provided a high-level overview of relevant work experience as a research analyst.\\n2. Conveyed confidence in handling challenging situations.\\n\\n**BAD**:\\n1. The response is quite vague and lacks specific details about the candidate\\'s work experience.\\n2. The language used is informal and does not reflect the professionalism expected for a senior-level position.\\n3. The answer does not demonstrate the depth of knowledge and expertise required for a senior research analyst role.\\n\\n[RESPONSE METRICS]\\n{\\n  \"Linguistic Clarity\": 3.0,\\n  \"Confidence\": 5.0,\\n  \"Technical Expertise\": 2.0,\\n  \"Strategic Thinking\": 2.0,\\n  \"Impact Demonstration\": 2.0,\\n  \"Industry Understanding\": 2.0\\n}\\n\\n----- REWRITTEN -----\\n\\n**As a senior research analyst, I have extensive experience in conducting in-depth market research, data analysis, and providing strategic insights to support key business decisions.** During my time at [Previous Employer], I led a team of analysts in a comprehensive study of the competitive landscape within our industry. This involved gathering and synthesizing data from multiple sources, including industry reports, customer surveys, and internal sales data. \\n\\n**I was able to identify emerging trends and pain points that our clients were facing, which allowed us to develop targeted solutions that delivered significant value.** For example, I spearheaded a project to analyze customer churn patterns, which led to the implementation of a proactive customer retention program that improved our client retention rate by 15% over the course of a year.\\n\\n**Throughout my career, I have honed my skills in leveraging advanced data analysis tools and techniques to uncover meaningful insights that drive business growth.** I am proficient in statistical modeling, data visualization, and presenting complex findings to both technical and non-technical stakeholders in a clear and compelling manner. **My ability to translate data into actionable recommendations has been instrumental in helping my previous employers make informed, data-driven decisions.**\\n\\n----- END -----\\n\\n[Q2] How do you stay up-to-date with the latest industry trends and developments?'"
      ]
     },
     "execution_count": 43,
     "metadata": {},
     "output_type": "execute_result"
    }
   ],
   "source": [
    "# access claudette messages\n",
    "c.content[0].text"
   ]
  },
  {
   "cell_type": "code",
   "execution_count": 55,
   "metadata": {},
   "outputs": [
    {
     "name": "stdout",
     "output_type": "stream",
     "text": [
      "\n",
      "Chosen model: claude-3-haiku-20240307\n"
     ]
    },
    {
     "name": "stderr",
     "output_type": "stream",
     "text": [
      "d:\\ProgramData\\Anaconda3.9\\envs\\wingman\\Lib\\site-packages\\gradio\\components\\chatbot.py:291: UserWarning: The 'tuples' format for chatbot messages is deprecated and will be removed in a future version of Gradio. Please set type='messages' instead, which uses openai-style 'role' and 'content' keys.\n",
      "  warnings.warn(\n"
     ]
    },
    {
     "name": "stdout",
     "output_type": "stream",
     "text": [
      "* Running on local URL:  http://127.0.0.1:7876\n",
      "\n",
      "To create a public link, set `share=True` in `launch()`.\n"
     ]
    },
    {
     "data": {
      "text/html": [
       "<div><iframe src=\"http://127.0.0.1:7876/\" width=\"100%\" height=\"500\" allow=\"autoplay; camera; microphone; clipboard-read; clipboard-write;\" frameborder=\"0\" allowfullscreen></iframe></div>"
      ],
      "text/plain": [
       "<IPython.core.display.HTML object>"
      ]
     },
     "metadata": {},
     "output_type": "display_data"
    },
    {
     "data": {
      "text/plain": []
     },
     "execution_count": 55,
     "metadata": {},
     "output_type": "execute_result"
    },
    {
     "name": "stdout",
     "output_type": "stream",
     "text": [
      "Messages received so far: Hello Neo.. let's begin.\n"
     ]
    }
   ],
   "source": [
    "import gradio as gr\n",
    "\n",
    "system_prompt = \"\"\"You are a helpful and concise assistant.\"\"\"\n",
    "model = claudette.models[3]\n",
    "print(f'\\nChosen model: {model}')\n",
    "chat = claudette.Chat(model, sp=system_prompt)\n",
    "\n",
    "def respond(user_message, history):\n",
    "    print(\"Messages received so far:\", user_message)  # Print to see outside gradio\n",
    "    c = chat(user_message)\n",
    "    return c.content[0].text \n",
    "\n",
    "chatbot = gr.ChatInterface(\n",
    "    fn=respond,\n",
    "    examples=[\"Hello Neo.. let's begin.\"],\n",
    "    theme=\"default\"\n",
    ")\n",
    "\n",
    "chatbot.launch(inline=True) "
   ]
  },
  {
   "cell_type": "code",
   "execution_count": null,
   "metadata": {},
   "outputs": [
    {
     "data": {
      "text/markdown": [
       "----- ANSWER EVAL -----\n",
       "\n",
       "**GOOD**:\n",
       "1. Provided a high-level overview of relevant work experience as a research analyst.\n",
       "2. Conveyed confidence in handling challenging situations.\n",
       "\n",
       "**BAD**:\n",
       "1. The response is quite vague and lacks specific details about the candidate's work experience.\n",
       "2. The language used is informal and does not reflect the professionalism expected for a senior-level position.\n",
       "3. The answer does not demonstrate the depth of knowledge and expertise required for a senior research analyst role.\n",
       "\n",
       "[RESPONSE METRICS]\n",
       "{\n",
       "  \"Linguistic Clarity\": 3.0,\n",
       "  \"Confidence\": 5.0,\n",
       "  \"Technical Expertise\": 2.0,\n",
       "  \"Strategic Thinking\": 2.0,\n",
       "  \"Impact Demonstration\": 2.0,\n",
       "  \"Industry Understanding\": 2.0\n",
       "}\n",
       "\n",
       "----- REWRITTEN -----\n",
       "\n",
       "**As a senior research analyst, I have extensive experience in conducting in-depth market research, data analysis, and providing strategic insights to support key business decisions.** During my time at [Previous Employer], I led a team of analysts in a comprehensive study of the competitive landscape within our industry. This involved gathering and synthesizing data from multiple sources, including industry reports, customer surveys, and internal sales data. \n",
       "\n",
       "**I was able to identify emerging trends and pain points that our clients were facing, which allowed us to develop a targeted product strategy that ultimately drove a 15% increase in revenue over the course of two years.** In addition, I have a proven track record of presenting complex research findings to both technical and non-technical stakeholders in a clear and compelling manner. I am highly proficient in using a variety of data analysis tools and techniques, such as SQL, Python, and Tableau, to ensure the accuracy and reliability of my research.\n",
       "\n",
       "**Throughout my career, I have consistently demonstrated the ability to juggle multiple projects simultaneously while maintaining a keen eye for detail and a focus on delivering high-quality, actionable insights.** I am passionate about staying up-to-date with the latest industry trends and developments, and I actively participate in professional associations and attend relevant conferences to expand my knowledge and network.\n",
       "\n",
       "<details>\n",
       "\n",
       "- id: `msg_01QuqGjPid8zJDx4tGh6tYNe`\n",
       "- content: `[{'citations': None, 'text': '----- ANSWER EVAL -----\\n\\n**GOOD**:\\n1. Provided a high-level overview of relevant work experience as a research analyst.\\n2. Conveyed confidence in handling challenging situations.\\n\\n**BAD**:\\n1. The response is quite vague and lacks specific details about the candidate\\'s work experience.\\n2. The language used is informal and does not reflect the professionalism expected for a senior-level position.\\n3. The answer does not demonstrate the depth of knowledge and expertise required for a senior research analyst role.\\n\\n[RESPONSE METRICS]\\n{\\n  \"Linguistic Clarity\": 3.0,\\n  \"Confidence\": 5.0,\\n  \"Technical Expertise\": 2.0,\\n  \"Strategic Thinking\": 2.0,\\n  \"Impact Demonstration\": 2.0,\\n  \"Industry Understanding\": 2.0\\n}\\n\\n----- REWRITTEN -----\\n\\n**As a senior research analyst, I have extensive experience in conducting in-depth market research, data analysis, and providing strategic insights to support key business decisions.** During my time at [Previous Employer], I led a team of analysts in a comprehensive study of the competitive landscape within our industry. This involved gathering and synthesizing data from multiple sources, including industry reports, customer surveys, and internal sales data. \\n\\n**I was able to identify emerging trends and pain points that our clients were facing, which allowed us to develop a targeted product strategy that ultimately drove a 15% increase in revenue over the course of two years.** In addition, I have a proven track record of presenting complex research findings to both technical and non-technical stakeholders in a clear and compelling manner. I am highly proficient in using a variety of data analysis tools and techniques, such as SQL, Python, and Tableau, to ensure the accuracy and reliability of my research.\\n\\n**Throughout my career, I have consistently demonstrated the ability to juggle multiple projects simultaneously while maintaining a keen eye for detail and a focus on delivering high-quality, actionable insights.** I am passionate about staying up-to-date with the latest industry trends and developments, and I actively participate in professional associations and attend relevant conferences to expand my knowledge and network.', 'type': 'text'}]`\n",
       "- model: `claude-3-haiku-20240307`\n",
       "- role: `assistant`\n",
       "- stop_reason: `end_turn`\n",
       "- stop_sequence: `None`\n",
       "- type: `message`\n",
       "- usage: `{'cache_creation_input_tokens': 0, 'cache_read_input_tokens': 0, 'input_tokens': 816, 'output_tokens': 480}`\n",
       "\n",
       "</details>"
      ],
      "text/plain": [
       "Message(id='msg_01QuqGjPid8zJDx4tGh6tYNe', content=[TextBlock(citations=None, text='----- ANSWER EVAL -----\\n\\n**GOOD**:\\n1. Provided a high-level overview of relevant work experience as a research analyst.\\n2. Conveyed confidence in handling challenging situations.\\n\\n**BAD**:\\n1. The response is quite vague and lacks specific details about the candidate\\'s work experience.\\n2. The language used is informal and does not reflect the professionalism expected for a senior-level position.\\n3. The answer does not demonstrate the depth of knowledge and expertise required for a senior research analyst role.\\n\\n[RESPONSE METRICS]\\n{\\n  \"Linguistic Clarity\": 3.0,\\n  \"Confidence\": 5.0,\\n  \"Technical Expertise\": 2.0,\\n  \"Strategic Thinking\": 2.0,\\n  \"Impact Demonstration\": 2.0,\\n  \"Industry Understanding\": 2.0\\n}\\n\\n----- REWRITTEN -----\\n\\n**As a senior research analyst, I have extensive experience in conducting in-depth market research, data analysis, and providing strategic insights to support key business decisions.** During my time at [Previous Employer], I led a team of analysts in a comprehensive study of the competitive landscape within our industry. This involved gathering and synthesizing data from multiple sources, including industry reports, customer surveys, and internal sales data. \\n\\n**I was able to identify emerging trends and pain points that our clients were facing, which allowed us to develop a targeted product strategy that ultimately drove a 15% increase in revenue over the course of two years.** In addition, I have a proven track record of presenting complex research findings to both technical and non-technical stakeholders in a clear and compelling manner. I am highly proficient in using a variety of data analysis tools and techniques, such as SQL, Python, and Tableau, to ensure the accuracy and reliability of my research.\\n\\n**Throughout my career, I have consistently demonstrated the ability to juggle multiple projects simultaneously while maintaining a keen eye for detail and a focus on delivering high-quality, actionable insights.** I am passionate about staying up-to-date with the latest industry trends and developments, and I actively participate in professional associations and attend relevant conferences to expand my knowledge and network.', type='text')], model='claude-3-haiku-20240307', role='assistant', stop_reason='end_turn', stop_sequence=None, type='message', usage=In: 816; Out: 480; Cache create: 0; Cache read: 0; Total: 1296)"
      ]
     },
     "metadata": {},
     "output_type": "display_data"
    }
   ],
   "source": []
  },
  {
   "cell_type": "code",
   "execution_count": 54,
   "metadata": {},
   "outputs": [],
   "source": [
    "#| hide\n",
    "import nbdev; nbdev.nbdev_export()"
   ]
  },
  {
   "cell_type": "code",
   "execution_count": null,
   "metadata": {},
   "outputs": [],
   "source": []
  }
 ],
 "metadata": {
  "kernelspec": {
   "display_name": "wingman",
   "language": "python",
   "name": "python3"
  },
  "language_info": {
   "codemirror_mode": {
    "name": "ipython",
    "version": 3
   },
   "file_extension": ".py",
   "mimetype": "text/x-python",
   "name": "python",
   "nbconvert_exporter": "python",
   "pygments_lexer": "ipython3",
   "version": "3.11.11"
  }
 },
 "nbformat": 4,
 "nbformat_minor": 4
}
