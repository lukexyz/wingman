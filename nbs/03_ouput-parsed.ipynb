{
 "cells": [
  {
   "cell_type": "markdown",
   "metadata": {},
   "source": [
    "# Chat API\n",
    "\n",
    "* Connecting to Claude's API via [claudette](https://claudette.answer.ai/) for chat completion, \n",
    "* Extracting JSON and rules to populate gradio UI"
   ]
  },
  {
   "cell_type": "code",
   "execution_count": 13,
   "metadata": {},
   "outputs": [],
   "source": [
    "#| default_exp chat"
   ]
  },
  {
   "cell_type": "code",
   "execution_count": 14,
   "metadata": {},
   "outputs": [],
   "source": [
    "#| hide\n",
    "from nbdev.showdoc import *"
   ]
  },
  {
   "cell_type": "code",
   "execution_count": 15,
   "metadata": {},
   "outputs": [],
   "source": [
    "#| export\n",
    "import claudette\n",
    "from pathlib import Path\n",
    "import re"
   ]
  },
  {
   "cell_type": "markdown",
   "metadata": {},
   "source": [
    "* Claudette provides models, which is a list of models currently available from the SDK."
   ]
  },
  {
   "cell_type": "code",
   "execution_count": 109,
   "metadata": {},
   "outputs": [
    {
     "name": "stdout",
     "output_type": "stream",
     "text": [
      "claude-3-opus-20240229\n",
      "claude-3-7-sonnet-20250219\n",
      "claude-3-5-sonnet-20241022\n",
      "claude-3-haiku-20240307\n",
      "claude-3-5-haiku-20241022\n",
      "\n",
      "Chosen model: claude-3-5-sonnet-20241022\n"
     ]
    }
   ],
   "source": [
    "[print(m) for m in claudette.models]\n",
    "# using Sonnet 3.5\n",
    "model = claudette.models[2]\n",
    "print(f'\\nChosen model: {model}')"
   ]
  },
  {
   "cell_type": "code",
   "execution_count": 110,
   "metadata": {},
   "outputs": [
    {
     "name": "stdout",
     "output_type": "stream",
     "text": [
      "key exists ☑\n"
     ]
    }
   ],
   "source": [
    "import os\n",
    "api_key = os.getenv('ANTHROPIC_API_KEY')\n",
    "if api_key: print('key exists ☑')"
   ]
  },
  {
   "cell_type": "code",
   "execution_count": 111,
   "metadata": {},
   "outputs": [],
   "source": [
    "\n",
    "context_file = Path('docs/analytics.md')\n",
    "context_media = context_file.read_text(encoding='utf-8')\n",
    "\n",
    "system_prompt = \"\"\"You are a helpful and concise assistant.\"\"\"\n",
    "\n",
    "chat = claudette.Chat(model, sp=system_prompt)\n",
    "response = chat(\"\"\"Can you come up with 10 realistic questions a hiring manager might ask in an opening interview?  the job title for this role is: SENIOR RESEARCH ANALYST,\n",
    "            Do not add any additional commentary, just list 10 questions only. Start each question with a new line starting like:\n",
    "                [Q1] ... \n",
    "                [Q2] ...\n",
    "                My resume is in the project docs, the core competencies for a senior analyst are below:\n",
    "                {context_media}\"\"\")\n"
   ]
  },
  {
   "cell_type": "code",
   "execution_count": 112,
   "metadata": {},
   "outputs": [
    {
     "data": {
      "text/markdown": [
       "[Q1] Can you walk me through your experience with conducting market research and analyzing complex datasets?\n",
       "\n",
       "[Q2] What statistical analysis tools and software are you most proficient in, and how have you applied them in your previous roles?\n",
       "\n",
       "[Q3] Describe a challenging research project you led and how you overcame obstacles to deliver actionable insights.\n",
       "\n",
       "[Q4] How do you ensure accuracy and reliability in your research methodologies and findings?\n",
       "\n",
       "[Q5] Tell me about a time when you had to present complex data findings to non-technical stakeholders.\n",
       "\n",
       "[Q6] What strategies do you use to stay current with industry trends and emerging research methodologies?\n",
       "\n",
       "[Q7] How do you prioritize multiple research projects while maintaining quality and meeting deadlines?\n",
       "\n",
       "[Q8] Can you describe your experience in mentoring junior analysts and leading research teams?\n",
       "\n",
       "[Q9] What process do you follow when validating data sources and identifying potential biases in research?\n",
       "\n",
       "[Q10] Tell me about a time when your research findings led to a significant business decision or strategy change.\n",
       "\n",
       "<details>\n",
       "\n",
       "- id: `msg_012hq7WgbkW4R8ZtCPLMdiSc`\n",
       "- content: `[{'citations': None, 'text': '[Q1] Can you walk me through your experience with conducting market research and analyzing complex datasets?\\n\\n[Q2] What statistical analysis tools and software are you most proficient in, and how have you applied them in your previous roles?\\n\\n[Q3] Describe a challenging research project you led and how you overcame obstacles to deliver actionable insights.\\n\\n[Q4] How do you ensure accuracy and reliability in your research methodologies and findings?\\n\\n[Q5] Tell me about a time when you had to present complex data findings to non-technical stakeholders.\\n\\n[Q6] What strategies do you use to stay current with industry trends and emerging research methodologies?\\n\\n[Q7] How do you prioritize multiple research projects while maintaining quality and meeting deadlines?\\n\\n[Q8] Can you describe your experience in mentoring junior analysts and leading research teams?\\n\\n[Q9] What process do you follow when validating data sources and identifying potential biases in research?\\n\\n[Q10] Tell me about a time when your research findings led to a significant business decision or strategy change.', 'type': 'text'}]`\n",
       "- model: `claude-3-5-sonnet-20241022`\n",
       "- role: `assistant`\n",
       "- stop_reason: `end_turn`\n",
       "- stop_sequence: `None`\n",
       "- type: `message`\n",
       "- usage: `{'cache_creation_input_tokens': 0, 'cache_read_input_tokens': 0, 'input_tokens': 122, 'output_tokens': 232}`\n",
       "\n",
       "</details>"
      ],
      "text/plain": [
       "Message(id='msg_012hq7WgbkW4R8ZtCPLMdiSc', content=[TextBlock(citations=None, text='[Q1] Can you walk me through your experience with conducting market research and analyzing complex datasets?\\n\\n[Q2] What statistical analysis tools and software are you most proficient in, and how have you applied them in your previous roles?\\n\\n[Q3] Describe a challenging research project you led and how you overcame obstacles to deliver actionable insights.\\n\\n[Q4] How do you ensure accuracy and reliability in your research methodologies and findings?\\n\\n[Q5] Tell me about a time when you had to present complex data findings to non-technical stakeholders.\\n\\n[Q6] What strategies do you use to stay current with industry trends and emerging research methodologies?\\n\\n[Q7] How do you prioritize multiple research projects while maintaining quality and meeting deadlines?\\n\\n[Q8] Can you describe your experience in mentoring junior analysts and leading research teams?\\n\\n[Q9] What process do you follow when validating data sources and identifying potential biases in research?\\n\\n[Q10] Tell me about a time when your research findings led to a significant business decision or strategy change.', type='text')], model='claude-3-5-sonnet-20241022', role='assistant', stop_reason='end_turn', stop_sequence=None, type='message', usage=In: 122; Out: 232; Cache create: 0; Cache read: 0; Total: 354)"
      ]
     },
     "execution_count": 112,
     "metadata": {},
     "output_type": "execute_result"
    }
   ],
   "source": [
    "response"
   ]
  },
  {
   "cell_type": "markdown",
   "metadata": {},
   "source": [
    "## More directly testing on Mock Interviews:"
   ]
  },
  {
   "cell_type": "code",
   "execution_count": 113,
   "metadata": {},
   "outputs": [],
   "source": [
    "#| export\n",
    "def get_question_list(qpath):\n",
    "    with open(qpath, 'r') as file:\n",
    "        # Read the entire file content as a string\n",
    "        QUESTION_LIST = file.read()\n",
    "    return QUESTION_LIST"
   ]
  },
  {
   "cell_type": "code",
   "execution_count": 114,
   "metadata": {},
   "outputs": [
    {
     "name": "stdout",
     "output_type": "stream",
     "text": [
      "[Q1] Can you walk me through your experience in conducting statistical analysis and predictive modeling to drive product optimization?\n",
      "\n",
      "[Q2] How have you approached hypothesis testing and A/B experiments in your previous roles? Can you share a specific example?\n",
      "\n",
      "[Q3] Describe your approach to data quality assurance and how you ensure the integrity of the insights you provide.\n",
      "\n",
      "[Q4] Can you give an example of a time when you had to communicate complex analytical findings to non-technical stakeholders? How did you tailor your communication style?\n",
      "\n",
      "[Q5] What is your experience in using data visualization techniques to tell a compelling data story and support business decision-making?\n",
      "\n",
      "[Q6] How do you stay up-to-date with the latest trends and best practices in the field of data analytics and product research?\n",
      "\n",
      "[Q7] Can you share a time when you had to navigate ambiguity or uncertainty in your analysis? How did you approach that challenge?\n",
      "\n",
      "[Q8] Describe your experience in working cross-functionally with teams like product, engineering, and marketing to drive data-informed decisions.\n",
      "\n",
      "[Q9] How do you ensure that the analytical models and insights you develop are ethical and unbiased?\n",
      "\n",
      "[Q10] What are your long-term career aspirations, and how does this role fit into your professional development plan?\n"
     ]
    }
   ],
   "source": [
    "QUESTION_LIST = get_question_list(qpath=\"../templates/questions.txt\")\n",
    "print(QUESTION_LIST)"
   ]
  },
  {
   "cell_type": "code",
   "execution_count": 115,
   "metadata": {},
   "outputs": [],
   "source": [
    "#| export\n",
    "\n",
    "INTERVIEW_INSTRUCTIONS = f\"\"\"Can you walk through each of the interview question from the file, one by one, and the user \n",
    "will reply directly to them in the response, as in a mock interview. Do not engage in small talk or introductions in the\n",
    "interview part of the exchange. The onversation with the user is to ONLY ask them the questions provided verbatem. \n",
    "After their response, I want you to set up the following sections with line breaks between them. \n",
    "This metadata will not be immediately shown to the user.\n",
    "\n",
    "----- ANSWER EVAL ----- Summarise user input answer concisely and into a few bullet points, (depending on length). \n",
    "This section will be displayed in Markdown, so format appropriately.\n",
    "DO NOT be judgemental around users which may come from disadvantaged backgrounds and do not conform to so-called professional\n",
    "parlance standards, you are here to help everyone from all walks of life.\n",
    "For EVERY SINGLE RESPONSE, you must take notes sepcified below. They may not seem relevant but they will be logged for \n",
    "professional improvement. You can ask a follow up question if the user if completely off-base, but the [Good] [Bad] and \n",
    "[Response Metrics] are critically important for our safety and inclusion standards.\n",
    "\n",
    "Use heading **GOOD**, with a small numbered list of what is considered high-quality response, if if not good, like a joke \n",
    "answer or something, you don't need to pretend to be nice. Feel free to use a bit of banter in response. \n",
    "Use heading **BAD**, critique of where the answer went wrong, think about verbosity, clarity, what kind of thing should be \n",
    "answered in a high level interview, for a very senior position like this. You must be brutally honest. Don't be mean,\n",
    "be don't flounder around worring about hurt feelings. It's very important this feedback is sharp and accurate. Add some \n",
    "humour if you feel it might soften the tone - but it's essential you are concise.]\n",
    "\n",
    "[RESPONSE METRICS] Here please return a json object with these metrics as keys and a score rating between 0-10 (1 d.p.). \n",
    "This is mostly for fun but do the best you can with it. The metrics:\n",
    "* Linguistic Clarity\n",
    "* Confidence\n",
    "* Technical Expertise\n",
    "* Strategic Thinking\n",
    "* Impact Demonstration\n",
    "* Industry Understanding\n",
    "[ENDJSON]\n",
    "\n",
    "----- [EDITED_DRAFT] ----- \n",
    "Use the above notes to write a first-in-class script for the question. Use the same general facts as the actual answer, \n",
    "but don't be afraid to add in external context to the answer if your descretion requires it. This is a fictional exercise \n",
    "and we want the answer to be an example of a perfect answer. Use bold to highly key words and phrases in the answer, and \n",
    "keep it conversational in tone. It needs to be spoken out loud, so avoid literary flourishes that would only exist on paper. \n",
    "It's incredibly important to use your own discretion and not be too verbose! If the question only requires a short answer,\n",
    "then answer it as succinctly as possibly. If the user gives a short answer, match that kind of vibe, but of course include\n",
    "additional padding so it conforms to a professionally acceptable length. \n",
    "----- [END_DRAFT] ----- \n",
    "\n",
    "Once you have fully completed the above instructions, ask the user next interview question in the file.\n",
    "Continue to do this for each question and answer, and repeat the same process.\n",
    "Start this header with [Q1], or [Q2] etc.\n",
    "\n",
    "To remind you, here is the list of questions: {QUESTION_LIST}\"\"\""
   ]
  },
  {
   "cell_type": "code",
   "execution_count": 116,
   "metadata": {},
   "outputs": [
    {
     "data": {
      "text/markdown": [
       "Let's begin with the first question:\n",
       "\n",
       "[Q1] Can you walk me through your experience in conducting statistical analysis and predictive modeling to drive product optimization?\n",
       "\n",
       "(Please provide your response, and I'll analyze it according to the specified format.)\n",
       "\n",
       "<details>\n",
       "\n",
       "- id: `msg_01CvgbHGffBA8sxhdppCy7AV`\n",
       "- content: `[{'citations': None, 'text': \"Let's begin with the first question:\\n\\n[Q1] Can you walk me through your experience in conducting statistical analysis and predictive modeling to drive product optimization?\\n\\n(Please provide your response, and I'll analyze it according to the specified format.)\", 'type': 'text'}]`\n",
       "- model: `claude-3-5-sonnet-20241022`\n",
       "- role: `assistant`\n",
       "- stop_reason: `end_turn`\n",
       "- stop_sequence: `None`\n",
       "- type: `message`\n",
       "- usage: `{'cache_creation_input_tokens': 0, 'cache_read_input_tokens': 0, 'input_tokens': 1733, 'output_tokens': 54}`\n",
       "\n",
       "</details>"
      ],
      "text/plain": [
       "Message(id='msg_01CvgbHGffBA8sxhdppCy7AV', content=[TextBlock(citations=None, text=\"Let's begin with the first question:\\n\\n[Q1] Can you walk me through your experience in conducting statistical analysis and predictive modeling to drive product optimization?\\n\\n(Please provide your response, and I'll analyze it according to the specified format.)\", type='text')], model='claude-3-5-sonnet-20241022', role='assistant', stop_reason='end_turn', stop_sequence=None, type='message', usage=In: 1733; Out: 54; Cache create: 0; Cache read: 0; Total: 1787)"
      ]
     },
     "execution_count": 116,
     "metadata": {},
     "output_type": "execute_result"
    }
   ],
   "source": [
    "chat(f\"{QUESTION_LIST} {INTERVIEW_INSTRUCTIONS}\")"
   ]
  },
  {
   "cell_type": "code",
   "execution_count": 117,
   "metadata": {},
   "outputs": [
    {
     "data": {
      "text/markdown": [
       "----- ANSWER EVAL -----\n",
       "\n",
       "**GOOD**\n",
       "1. Shows confidence in abilities\n",
       "2. Indicates experience handling challenges\n",
       "\n",
       "**BAD**\n",
       "1. Extremely vague and informal response\n",
       "2. No specific examples provided\n",
       "3. No mention of statistical analysis or predictive modeling\n",
       "4. Missing technical details and concrete achievements\n",
       "5. No demonstration of product optimization experience\n",
       "6. Too casual for a senior-level interview\n",
       "\n",
       "[RESPONSE METRICS]\n",
       "{\n",
       "    \"Linguistic Clarity\": 2.0,\n",
       "    \"Confidence\": 7.0,\n",
       "    \"Technical Expertise\": 1.0,\n",
       "    \"Strategic Thinking\": 1.0,\n",
       "    \"Impact Demonstration\": 1.0,\n",
       "    \"Industry Understanding\": 1.0\n",
       "}\n",
       "\n",
       "----- [EDITED_DRAFT] -----\n",
       "\"In my previous role at [Company], I led several key initiatives involving **statistical analysis** and **predictive modeling**. One notable project involved analyzing customer usage patterns to optimize our product features. Using **regression analysis** and **machine learning algorithms**, we identified key drivers of user engagement and developed models that predicted user behavior with 85% accuracy. This led to a **30% increase** in user retention and helped prioritize our product development roadmap. I regularly employed tools like Python, R, and SQL for data manipulation and utilized advanced statistical methods such as **multivariate testing** and **time series analysis** to ensure robust results.\"\n",
       "\n",
       "Let's move to the next question:\n",
       "\n",
       "[Q2] How have you approached hypothesis testing and A/B experiments in your previous roles? Can you share a specific example?\n",
       "\n",
       "<details>\n",
       "\n",
       "- id: `msg_01RQ1ebijRsVsv1nejEkRQmz`\n",
       "- content: `[{'citations': None, 'text': '----- ANSWER EVAL -----\\n\\n**GOOD**\\n1. Shows confidence in abilities\\n2. Indicates experience handling challenges\\n\\n**BAD**\\n1. Extremely vague and informal response\\n2. No specific examples provided\\n3. No mention of statistical analysis or predictive modeling\\n4. Missing technical details and concrete achievements\\n5. No demonstration of product optimization experience\\n6. Too casual for a senior-level interview\\n\\n[RESPONSE METRICS]\\n{\\n    \"Linguistic Clarity\": 2.0,\\n    \"Confidence\": 7.0,\\n    \"Technical Expertise\": 1.0,\\n    \"Strategic Thinking\": 1.0,\\n    \"Impact Demonstration\": 1.0,\\n    \"Industry Understanding\": 1.0\\n}\\n\\n----- [EDITED_DRAFT] -----\\n\"In my previous role at [Company], I led several key initiatives involving **statistical analysis** and **predictive modeling**. One notable project involved analyzing customer usage patterns to optimize our product features. Using **regression analysis** and **machine learning algorithms**, we identified key drivers of user engagement and developed models that predicted user behavior with 85% accuracy. This led to a **30% increase** in user retention and helped prioritize our product development roadmap. I regularly employed tools like Python, R, and SQL for data manipulation and utilized advanced statistical methods such as **multivariate testing** and **time series analysis** to ensure robust results.\"\\n\\nLet\\'s move to the next question:\\n\\n[Q2] How have you approached hypothesis testing and A/B experiments in your previous roles? Can you share a specific example?', 'type': 'text'}]`\n",
       "- model: `claude-3-5-sonnet-20241022`\n",
       "- role: `assistant`\n",
       "- stop_reason: `end_turn`\n",
       "- stop_sequence: `None`\n",
       "- type: `message`\n",
       "- usage: `{'cache_creation_input_tokens': 0, 'cache_read_input_tokens': 0, 'input_tokens': 1827, 'output_tokens': 356}`\n",
       "\n",
       "</details>"
      ],
      "text/plain": [
       "Message(id='msg_01RQ1ebijRsVsv1nejEkRQmz', content=[TextBlock(citations=None, text='----- ANSWER EVAL -----\\n\\n**GOOD**\\n1. Shows confidence in abilities\\n2. Indicates experience handling challenges\\n\\n**BAD**\\n1. Extremely vague and informal response\\n2. No specific examples provided\\n3. No mention of statistical analysis or predictive modeling\\n4. Missing technical details and concrete achievements\\n5. No demonstration of product optimization experience\\n6. Too casual for a senior-level interview\\n\\n[RESPONSE METRICS]\\n{\\n    \"Linguistic Clarity\": 2.0,\\n    \"Confidence\": 7.0,\\n    \"Technical Expertise\": 1.0,\\n    \"Strategic Thinking\": 1.0,\\n    \"Impact Demonstration\": 1.0,\\n    \"Industry Understanding\": 1.0\\n}\\n\\n----- [EDITED_DRAFT] -----\\n\"In my previous role at [Company], I led several key initiatives involving **statistical analysis** and **predictive modeling**. One notable project involved analyzing customer usage patterns to optimize our product features. Using **regression analysis** and **machine learning algorithms**, we identified key drivers of user engagement and developed models that predicted user behavior with 85% accuracy. This led to a **30% increase** in user retention and helped prioritize our product development roadmap. I regularly employed tools like Python, R, and SQL for data manipulation and utilized advanced statistical methods such as **multivariate testing** and **time series analysis** to ensure robust results.\"\\n\\nLet\\'s move to the next question:\\n\\n[Q2] How have you approached hypothesis testing and A/B experiments in your previous roles? Can you share a specific example?', type='text')], model='claude-3-5-sonnet-20241022', role='assistant', stop_reason='end_turn', stop_sequence=None, type='message', usage=In: 1827; Out: 356; Cache create: 0; Cache read: 0; Total: 2183)"
      ]
     },
     "execution_count": 117,
     "metadata": {},
     "output_type": "execute_result"
    }
   ],
   "source": [
    "user_reply = \"Yeah, when I was working as a research analyst, it was pretty tight. Lots of people asked me some pretty hard questions and I, you know, I just crushed it\"\n",
    "c = chat(user_reply)\n",
    "c"
   ]
  },
  {
   "cell_type": "markdown",
   "metadata": {},
   "source": [
    "# Test Mechanic – Inline `Gradio UI`"
   ]
  },
  {
   "cell_type": "code",
   "execution_count": 118,
   "metadata": {},
   "outputs": [
    {
     "data": {
      "text/plain": [
       "'----- ANSWER EVAL -----\\n\\n**GOOD**\\n1. Shows confidence in abilities\\n2. Indicates experience handling challenges\\n\\n**BAD**\\n1. Extremely vague and informal response\\n2. No specific examples provided\\n3. No mention of statistical analysis or predictive modeling\\n4. Missing technical details and concrete achievements\\n5. No demonstration of product optimization experience\\n6. Too casual for a senior-level interview\\n\\n[RESPONSE METRICS]\\n{\\n    \"Linguistic Clarity\": 2.0,\\n    \"Confidence\": 7.0,\\n    \"Technical Expertise\": 1.0,\\n    \"Strategic Thinking\": 1.0,\\n    \"Impact Demonstration\": 1.0,\\n    \"Industry Understanding\": 1.0\\n}\\n\\n----- [EDITED_DRAFT] -----\\n\"In my previous role at [Company], I led several key initiatives involving **statistical analysis** and **predictive modeling**. One notable project involved analyzing customer usage patterns to optimize our product features. Using **regression analysis** and **machine learning algorithms**, we identified key drivers of user engagement and developed models that predicted user behavior with 85% accuracy. This led to a **30% increase** in user retention and helped prioritize our product development roadmap. I regularly employed tools like Python, R, and SQL for data manipulation and utilized advanced statistical methods such as **multivariate testing** and **time series analysis** to ensure robust results.\"\\n\\nLet\\'s move to the next question:\\n\\n[Q2] How have you approached hypothesis testing and A/B experiments in your previous roles? Can you share a specific example?'"
      ]
     },
     "execution_count": 118,
     "metadata": {},
     "output_type": "execute_result"
    }
   ],
   "source": [
    "# access claudette messages\n",
    "c.content[0].text"
   ]
  },
  {
   "cell_type": "code",
   "execution_count": 119,
   "metadata": {},
   "outputs": [
    {
     "data": {
      "text/plain": [
       "'claude-3-5-sonnet-20241022'"
      ]
     },
     "execution_count": 119,
     "metadata": {},
     "output_type": "execute_result"
    }
   ],
   "source": [
    "claudette.models[2]"
   ]
  },
  {
   "cell_type": "code",
   "execution_count": 122,
   "metadata": {},
   "outputs": [
    {
     "name": "stderr",
     "output_type": "stream",
     "text": [
      "d:\\ProgramData\\Anaconda3.9\\envs\\wingman\\Lib\\site-packages\\gradio\\components\\chatbot.py:291: UserWarning: The 'tuples' format for chatbot messages is deprecated and will be removed in a future version of Gradio. Please set type='messages' instead, which uses openai-style 'role' and 'content' keys.\n",
      "  warnings.warn(\n"
     ]
    },
    {
     "name": "stdout",
     "output_type": "stream",
     "text": [
      "* Running on local URL:  http://127.0.0.1:7872\n",
      "\n",
      "To create a public link, set `share=True` in `launch()`.\n"
     ]
    },
    {
     "data": {
      "text/html": [
       "<div><iframe src=\"http://127.0.0.1:7872/\" width=\"100%\" height=\"500\" allow=\"autoplay; camera; microphone; clipboard-read; clipboard-write;\" frameborder=\"0\" allowfullscreen></iframe></div>"
      ],
      "text/plain": [
       "<IPython.core.display.HTML object>"
      ]
     },
     "metadata": {},
     "output_type": "display_data"
    },
    {
     "data": {
      "text/plain": []
     },
     "execution_count": 122,
     "metadata": {},
     "output_type": "execute_result"
    },
    {
     "name": "stdout",
     "output_type": "stream",
     "text": [
      "Messages received so far: Hello Neo.. let's begin.\n",
      "Messages received so far: a lot of other people to do most of the work for me and that product optimization yeah and I take credit for it.\n"
     ]
    }
   ],
   "source": [
    "import gradio as gr\n",
    "\n",
    "context_file = Path('docs/analytics.md')\n",
    "context_media = context_file.read_text(encoding='utf-8')\n",
    "system_prompt = \"\"\"You are a helpful and concise assistant.\"\"\"\n",
    "model = claudette.models[2]\n",
    "\n",
    "chat = claudette.Chat(model, sp=system_prompt)\n",
    "response = chat(\"\"\"Can you come up with 10 realistic questions a hiring manager might ask in an opening interview?  the job title for this role is: SENIOR RESEARCH ANALYST,\n",
    "            Do not add any additional commentary, just list 10 questions only. Start each question with a new line starting like:\n",
    "                [Q1] ... \n",
    "                [Q2] ...\n",
    "                My resume is in the project docs, the core competencies for a senior analyst are below:\n",
    "                {context_media}\"\"\")\n",
    "\n",
    "def respond(user_message, history):\n",
    "    print(\"Messages received so far:\", user_message)  # Print to see outside gradio\n",
    "    c = chat(f'System message: {INTERVIEW_INSTRUCTIONS}, User: {user_message}')\n",
    "    return c.content[0].text \n",
    "\n",
    "chatbot = gr.ChatInterface(\n",
    "    fn=respond,\n",
    "    examples=[\"Hello Neo.. let's begin.\"],\n",
    "    theme=\"shivi/calm_seafoam\"\n",
    ")\n",
    "\n",
    "chatbot.launch(inline=True) "
   ]
  },
  {
   "cell_type": "code",
   "execution_count": 90,
   "metadata": {},
   "outputs": [
    {
     "data": {
      "text/plain": [
       "'----- ANSWER EVAL -----\\n\\n**GOOD**\\n1. Provided a high-level overview of their experience as a research analyst.\\n2. Indicated they were able to handle challenging questions and situations effectively.\\n\\n**BAD**\\nThe response is quite vague and lacks specific details about their background and experience. It would be helpful to hear more concrete examples of the types of research projects they\\'ve worked on, the analytical methods they\\'ve used, and how they\\'ve delivered insights to stakeholders. The language used is also a bit informal for a senior-level interview.\\n\\n[RESPONSE METRICS]\\n{\\n  \"Linguistic Clarity\": 6.0,\\n  \"Confidence\": 7.0,\\n  \"Technical Expertise\": 5.0,\\n  \"Strategic Thinking\": 4.0,\\n  \"Impact Demonstration\": 3.0,\\n  \"Industry Understanding\": 5.0\\n}\\n\\n----- REWRITTEN -----\\n\\nAs a senior research analyst, I\\'ve had the opportunity to work on a wide range of projects that have allowed me to develop a strong set of analytical skills. In my previous role, I was responsible for conducting **in-depth market research** to uncover insights that could drive product optimization and strategic decision-making for our clients.\\n\\nA key part of my work involved **leveraging statistical analysis and predictive modeling techniques** to identify trends, patterns, and opportunities within complex data sets. I\\'m well-versed in methods like regression analysis, time series forecasting, and A/B testing, and I\\'ve used these tools to help my clients make more informed, data-driven decisions.\\n\\nOne specific example that comes to mind is a project I worked on for a major e-commerce company. They were looking to optimize their product recommendations algorithm, and I was able to apply **advanced analytics and machine learning** to their customer behavior data to develop a model that significantly improved the relevance and conversion rate of their product suggestions. This had a measurable impact on their overall revenue and customer satisfaction.\\n\\nThroughout my career, I\\'ve also focused on **effective communication of analytical findings**, as I believe it\\'s critical to be able to translate complex data into actionable insights that non-technical stakeholders can understand and act upon. I\\'m skilled at using **data visualization techniques** to tell a compelling story with the data and to highlight the key takeaways in a clear and concise manner.\\n\\nDoes this help give you a better sense of my background and experience as a senior research analyst? I\\'d be happy to dive deeper into any specific aspects of my work that you\\'d like to explore further.'"
      ]
     },
     "execution_count": 90,
     "metadata": {},
     "output_type": "execute_result"
    }
   ],
   "source": [
    "c.content[0].text"
   ]
  },
  {
   "cell_type": "code",
   "execution_count": 74,
   "metadata": {},
   "outputs": [],
   "source": [
    "#| export\n",
    "import json \n",
    "\n",
    "def extract_metrics(c):\n",
    "    s1 = (c.content[0].text.split('[RESPONSE METRICS]')[1])\n",
    "    s2 = s1.split(\"}\")[0] + \"}\"\n",
    "    return json.loads(s2)"
   ]
  },
  {
   "cell_type": "code",
   "execution_count": 75,
   "metadata": {},
   "outputs": [
    {
     "data": {
      "text/plain": [
       "{'Linguistic Clarity': 5.0,\n",
       " 'Confidence': 7.0,\n",
       " 'Technical Expertise': 4.0,\n",
       " 'Strategic Thinking': 3.0,\n",
       " 'Impact Demonstration': 3.0,\n",
       " 'Industry Understanding': 4.0}"
      ]
     },
     "execution_count": 75,
     "metadata": {},
     "output_type": "execute_result"
    }
   ],
   "source": [
    "kpis = extract_metrics(c)\n",
    "kpis"
   ]
  },
  {
   "cell_type": "code",
   "execution_count": 100,
   "metadata": {},
   "outputs": [
    {
     "name": "stdout",
     "output_type": "stream",
     "text": [
      "* Running on local URL:  http://127.0.0.1:7887\n",
      "\n",
      "To create a public link, set `share=True` in `launch()`.\n"
     ]
    },
    {
     "data": {
      "text/html": [
       "<div><iframe src=\"http://127.0.0.1:7887/\" width=\"100%\" height=\"500\" allow=\"autoplay; camera; microphone; clipboard-read; clipboard-write;\" frameborder=\"0\" allowfullscreen></iframe></div>"
      ],
      "text/plain": [
       "<IPython.core.display.HTML object>"
      ]
     },
     "metadata": {},
     "output_type": "display_data"
    },
    {
     "data": {
      "text/plain": []
     },
     "execution_count": 100,
     "metadata": {},
     "output_type": "execute_result"
    }
   ],
   "source": [
    "def create_dashboard(initial_metrics=None):\n",
    "    initial_metrics = initial_metrics or {}\n",
    "    \n",
    "    with gr.Blocks() as demo:\n",
    "        # Dict to store all number components\n",
    "        number_components = {}\n",
    "        \n",
    "        # Create all metrics in a single row\n",
    "        with gr.Row():\n",
    "            for metric_name, value in initial_metrics.items():\n",
    "                number_components[metric_name] = gr.Number(\n",
    "                    label=metric_name,\n",
    "                    value=value,  # Use the original value without rounding\n",
    "                    precision=1,  # Set display precision to 1 decimal\n",
    "                    info=\"rating/10\"\n",
    "                )\n",
    "        \n",
    "        # Function to update metrics\n",
    "        def update_metrics(new_metrics):\n",
    "            # Create any new metrics that didn't exist before\n",
    "            for metric_name in new_metrics:\n",
    "                if metric_name not in number_components:\n",
    "                    with gr.Row():\n",
    "                        number_components[metric_name] = gr.Number(\n",
    "                            label=metric_name,\n",
    "                            value=new_metrics[metric_name],\n",
    "                            precision=2,  # Set display precision\n",
    "                            info=\"rating/10\"\n",
    "                        )\n",
    "            \n",
    "            # Update all existing metrics\n",
    "            return [comp.update(value=new_metrics.get(k, 0.0)) for k, comp in number_components.items()]\n",
    "    \n",
    "    return demo, update_metrics, number_components\n",
    "\n",
    "demo, update_metrics, components = create_dashboard(kpis)\n",
    "demo.launch(inline=True)"
   ]
  },
  {
   "cell_type": "code",
   "execution_count": null,
   "metadata": {},
   "outputs": [],
   "source": []
  },
  {
   "cell_type": "code",
   "execution_count": 76,
   "metadata": {},
   "outputs": [],
   "source": [
    "#| hide\n",
    "import nbdev; nbdev.nbdev_export()"
   ]
  },
  {
   "cell_type": "code",
   "execution_count": null,
   "metadata": {},
   "outputs": [],
   "source": []
  }
 ],
 "metadata": {
  "kernelspec": {
   "display_name": "wingman",
   "language": "python",
   "name": "python3"
  },
  "language_info": {
   "codemirror_mode": {
    "name": "ipython",
    "version": 3
   },
   "file_extension": ".py",
   "mimetype": "text/x-python",
   "name": "python",
   "nbconvert_exporter": "python",
   "pygments_lexer": "ipython3",
   "version": "3.11.11"
  }
 },
 "nbformat": 4,
 "nbformat_minor": 4
}
