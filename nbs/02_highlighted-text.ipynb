{
 "cells": [
  {
   "cell_type": "markdown",
   "metadata": {},
   "source": [
    "# Highlightedtext from `gradio`\n",
    "* Connecting to Claude's API via [claudette](https://claudette.answer.ai/) and attempted to parse out the results to automatically format them with the gradio highlightedtext."
   ]
  },
  {
   "cell_type": "code",
   "execution_count": 1,
   "metadata": {},
   "outputs": [],
   "source": [
    "#| default_exp chat"
   ]
  },
  {
   "cell_type": "code",
   "execution_count": 2,
   "metadata": {},
   "outputs": [],
   "source": [
    "#| hide\n",
    "from nbdev.showdoc import *"
   ]
  },
  {
   "cell_type": "code",
   "execution_count": 3,
   "metadata": {},
   "outputs": [],
   "source": [
    "#| export\n",
    "import claudette\n",
    "from pathlib import Path"
   ]
  },
  {
   "cell_type": "markdown",
   "metadata": {},
   "source": [
    "* Claudette provides models, which is a list of models currently available from the SDK."
   ]
  },
  {
   "cell_type": "code",
   "execution_count": 4,
   "metadata": {},
   "outputs": [
    {
     "data": {
      "text/plain": [
       "['claude-3-opus-20240229',\n",
       " 'claude-3-7-sonnet-20250219',\n",
       " 'claude-3-5-sonnet-20241022',\n",
       " 'claude-3-haiku-20240307',\n",
       " 'claude-3-5-haiku-20241022']"
      ]
     },
     "execution_count": 4,
     "metadata": {},
     "output_type": "execute_result"
    }
   ],
   "source": [
    "claudette.models"
   ]
  },
  {
   "cell_type": "code",
   "execution_count": 5,
   "metadata": {},
   "outputs": [
    {
     "data": {
      "text/plain": [
       "'claude-3-haiku-20240307'"
      ]
     },
     "execution_count": 5,
     "metadata": {},
     "output_type": "execute_result"
    }
   ],
   "source": [
    "# using Sonnet 3.5\n",
    "model = claudette.models[3]\n",
    "model"
   ]
  },
  {
   "cell_type": "code",
   "execution_count": 6,
   "metadata": {},
   "outputs": [
    {
     "name": "stdout",
     "output_type": "stream",
     "text": [
      "key exists ☑\n"
     ]
    }
   ],
   "source": [
    "import os\n",
    "api_key = os.getenv('ANTHROPIC_API_KEY')\n",
    "if api_key: print('key exists ☑')"
   ]
  },
  {
   "cell_type": "code",
   "execution_count": 7,
   "metadata": {},
   "outputs": [
    {
     "data": {
      "text/markdown": [
       "The climate in the UK during March is typically:\n",
       "\n",
       "- Temperatures: Average daily highs around 10-12°C (50-54°F), with overnight lows around 3-5°C (37-41°F).\n",
       "\n",
       "- Weather: A mix of sunny spells and showers. Rainfall is moderate, with around 50-70mm on average across the UK.\n",
       "\n",
       "- Wind: Breezy conditions are common, with average wind speeds around 10-15 mph.\n",
       "\n",
       "- Daylight: The days get noticeably longer through March, with around 11-12 hours of daylight by the end of the month.\n",
       "\n",
       "Overall, March marks the transition from winter to spring in the UK. The weather can still be quite cool and unsettled, but there are often some milder, sunnier days mixed in as well. It's a time when the first signs of spring start to appear, with buds and flowers beginning to bloom.\n",
       "\n",
       "<details>\n",
       "\n",
       "- id: `msg_01LcyEh2YAE2tVPx8TdvEhBY`\n",
       "- content: `[{'citations': None, 'text': \"The climate in the UK during March is typically:\\n\\n- Temperatures: Average daily highs around 10-12°C (50-54°F), with overnight lows around 3-5°C (37-41°F).\\n\\n- Weather: A mix of sunny spells and showers. Rainfall is moderate, with around 50-70mm on average across the UK.\\n\\n- Wind: Breezy conditions are common, with average wind speeds around 10-15 mph.\\n\\n- Daylight: The days get noticeably longer through March, with around 11-12 hours of daylight by the end of the month.\\n\\nOverall, March marks the transition from winter to spring in the UK. The weather can still be quite cool and unsettled, but there are often some milder, sunnier days mixed in as well. It's a time when the first signs of spring start to appear, with buds and flowers beginning to bloom.\", 'type': 'text'}]`\n",
       "- model: `claude-3-haiku-20240307`\n",
       "- role: `assistant`\n",
       "- stop_reason: `end_turn`\n",
       "- stop_sequence: `None`\n",
       "- type: `message`\n",
       "- usage: `{'cache_creation_input_tokens': 0, 'cache_read_input_tokens': 0, 'input_tokens': 27, 'output_tokens': 210}`\n",
       "\n",
       "</details>"
      ],
      "text/plain": [
       "Message(id='msg_01LcyEh2YAE2tVPx8TdvEhBY', content=[TextBlock(citations=None, text=\"The climate in the UK during March is typically:\\n\\n- Temperatures: Average daily highs around 10-12°C (50-54°F), with overnight lows around 3-5°C (37-41°F).\\n\\n- Weather: A mix of sunny spells and showers. Rainfall is moderate, with around 50-70mm on average across the UK.\\n\\n- Wind: Breezy conditions are common, with average wind speeds around 10-15 mph.\\n\\n- Daylight: The days get noticeably longer through March, with around 11-12 hours of daylight by the end of the month.\\n\\nOverall, March marks the transition from winter to spring in the UK. The weather can still be quite cool and unsettled, but there are often some milder, sunnier days mixed in as well. It's a time when the first signs of spring start to appear, with buds and flowers beginning to bloom.\", type='text')], model='claude-3-haiku-20240307', role='assistant', stop_reason='end_turn', stop_sequence=None, type='message', usage=In: 27; Out: 210; Cache create: 0; Cache read: 0; Total: 237)"
      ]
     },
     "execution_count": 7,
     "metadata": {},
     "output_type": "execute_result"
    }
   ],
   "source": [
    "system_prompt = \"\"\"You are a helpful and concise assistant.\"\"\"\n",
    "chat = claudette.Chat(model, sp=system_prompt)\n",
    "chat(\"What's the climate like in March in the UK?\")"
   ]
  },
  {
   "cell_type": "code",
   "execution_count": null,
   "metadata": {},
   "outputs": [],
   "source": []
  },
  {
   "cell_type": "code",
   "execution_count": null,
   "metadata": {},
   "outputs": [
    {
     "name": "stdout",
     "output_type": "stream",
     "text": [
      "* Running on local URL:  http://127.0.0.1:7869\n",
      "\n",
      "To create a public link, set `share=True` in `launch()`.\n"
     ]
    },
    {
     "data": {
      "text/html": [
       "<div><iframe src=\"http://127.0.0.1:7869/\" width=\"100%\" height=\"500\" allow=\"autoplay; camera; microphone; clipboard-read; clipboard-write;\" frameborder=\"0\" allowfullscreen></iframe></div>"
      ],
      "text/plain": [
       "<IPython.core.display.HTML object>"
      ]
     },
     "metadata": {},
     "output_type": "display_data"
    },
    {
     "data": {
      "text/plain": []
     },
     "execution_count": 1,
     "metadata": {},
     "output_type": "execute_result"
    },
    {
     "ename": "",
     "evalue": "",
     "output_type": "error",
     "traceback": [
      "\u001b[1;31mThe Kernel crashed while executing code in the current cell or a previous cell. \n",
      "\u001b[1;31mPlease review the code in the cell(s) to identify a possible cause of the failure. \n",
      "\u001b[1;31mClick <a href='https://aka.ms/vscodeJupyterKernelCrash'>here</a> for more info. \n",
      "\u001b[1;31mView Jupyter <a href='command:jupyter.viewOutput'>log</a> for further details."
     ]
    }
   ],
   "source": [
    "import gradio as gr \n",
    "\n",
    "def highlight_multiple_phrases(word_color_pairs):\n",
    "    quote = \"Be the change you wish to see in the world\"  # Our sample quote\n",
    "    result = [(word, None) for word in quote.split()]  # Start with no highlights\n",
    "    \n",
    "    for word_to_find, color in word_color_pairs:\n",
    "        if word_to_find.strip():  # Only process non-empty searches\n",
    "            for i, (word, _) in enumerate(result):\n",
    "                if word_to_find.lower() in word.lower():\n",
    "                    result[i] = (word, color)\n",
    "                    \n",
    "    return result\n",
    "\n",
    "with gr.Blocks() as demo:\n",
    "    gr.HTML(\"\"\"\n",
    "        <div style=\"margin-bottom: 1em;\">\n",
    "            <h3 style=\"\n",
    "                display: inline-block;\n",
    "                background: rgba(255, 255, 0, 0.3);\n",
    "                padding: 0.2em 0.4em;\n",
    "                border-radius: 0.8em;\n",
    "            \">Quote Highlighter</h3>\n",
    "        </div>\n",
    "    \"\"\")\n",
    "    \n",
    "with gr.Blocks() as demo:\n",
    "    with gr.Tab(\"Lion\"):\n",
    "        gr.Image(\"lion.jpg\")\n",
    "        gr.Button(\"New Lion\")\n",
    "    with gr.Tab(\"Tiger\"):\n",
    "        gr.Image(\"tiger.jpg\")\n",
    "        gr.Button(\"New Tiger\")\n",
    "\n",
    "    output = gr.HighlightedText(\n",
    "        show_legend=False,\n",
    "        value=highlight_multiple_phrases([]),  # Initialize with unhighlighted quote\n",
    "        color_map={\n",
    "            \"yellow\": \"yellow\",\n",
    "            \"lightblue\": \"lightblue\",\n",
    "            \"lightgreen\": \"lightgreen\",\n",
    "            \"pink\": \"pink\"\n",
    "        }\n",
    "    )\n",
    "    \n",
    "    with gr.Row():\n",
    "        with gr.Column():\n",
    "            gr.Markdown(\"Word to Highlight\")\n",
    "            word_inputs = []\n",
    "            for i in range(3):\n",
    "                word = gr.Textbox(show_label=False, placeholder=\"Enter word\")\n",
    "                word_inputs.append(word)\n",
    "                \n",
    "        with gr.Column():\n",
    "            gr.Markdown(\"Color\")\n",
    "            color_inputs = []\n",
    "            for i in range(3):\n",
    "                color = gr.Dropdown(\n",
    "                    choices=[\"yellow\", \"lightblue\", \"lightgreen\", \"pink\"],\n",
    "                    value=\"yellow\",\n",
    "                    show_label=False\n",
    "                )\n",
    "                color_inputs.append(color)\n",
    "    \n",
    "    def update_highlights(*inputs):\n",
    "        word_color_pairs = list(zip(inputs[:len(word_inputs)], inputs[len(word_inputs):]))\n",
    "        return highlight_multiple_phrases(word_color_pairs)\n",
    "    \n",
    "    # Connect all inputs to the output\n",
    "    all_inputs = word_inputs + color_inputs\n",
    "    for inp in all_inputs:\n",
    "        inp.change(\n",
    "            update_highlights, \n",
    "            inputs=all_inputs,\n",
    "            outputs=[output]\n",
    "        )\n",
    "\n",
    "demo.launch(inline=True, share=False)"
   ]
  },
  {
   "cell_type": "code",
   "execution_count": null,
   "metadata": {},
   "outputs": [],
   "source": []
  },
  {
   "cell_type": "code",
   "execution_count": null,
   "metadata": {},
   "outputs": [],
   "source": []
  },
  {
   "cell_type": "code",
   "execution_count": 23,
   "metadata": {},
   "outputs": [],
   "source": [
    "#| hide\n",
    "import nbdev; nbdev.nbdev_export()"
   ]
  },
  {
   "cell_type": "code",
   "execution_count": null,
   "metadata": {},
   "outputs": [],
   "source": []
  }
 ],
 "metadata": {
  "kernelspec": {
   "display_name": "wingman",
   "language": "python",
   "name": "python3"
  },
  "language_info": {
   "codemirror_mode": {
    "name": "ipython",
    "version": 3
   },
   "file_extension": ".py",
   "mimetype": "text/x-python",
   "name": "python",
   "nbconvert_exporter": "python",
   "pygments_lexer": "ipython3",
   "version": "3.11.11"
  }
 },
 "nbformat": 4,
 "nbformat_minor": 4
}
