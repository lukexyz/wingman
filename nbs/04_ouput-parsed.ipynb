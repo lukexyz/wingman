{
 "cells": [
  {
   "cell_type": "markdown",
   "metadata": {},
   "source": [
    "# Chat API\n",
    "\n",
    "* Connecting to Claude's API via [claudette](https://claudette.answer.ai/) for chat completion, \n",
    "* Extracting JSON and rules to populate gradio UI"
   ]
  },
  {
   "cell_type": "code",
   "execution_count": 1,
   "metadata": {},
   "outputs": [],
   "source": [
    "#| default_exp chat"
   ]
  },
  {
   "cell_type": "code",
   "execution_count": 2,
   "metadata": {},
   "outputs": [],
   "source": [
    "#| hide\n",
    "from nbdev.showdoc import *"
   ]
  },
  {
   "cell_type": "code",
   "execution_count": 1,
   "metadata": {},
   "outputs": [],
   "source": [
    "#| export\n",
    "import claudette\n",
    "from pathlib import Path\n",
    "import re"
   ]
  },
  {
   "cell_type": "markdown",
   "metadata": {},
   "source": [
    "* Claudette provides models, which is a list of models currently available from the SDK."
   ]
  },
  {
   "cell_type": "code",
   "execution_count": 11,
   "metadata": {},
   "outputs": [
    {
     "name": "stdout",
     "output_type": "stream",
     "text": [
      "claude-3-opus-20240229\n",
      "claude-3-7-sonnet-20250219\n",
      "claude-3-5-sonnet-20241022\n",
      "claude-3-haiku-20240307\n",
      "claude-3-5-haiku-20241022\n",
      "\n",
      "Chosen model: claude-3-haiku-20240307\n"
     ]
    }
   ],
   "source": [
    "[print(m) for m in claudette.models]\n",
    "# using Sonnet 3.5\n",
    "model = claudette.models[3]\n",
    "print(f'\\nChosen model: {model}')"
   ]
  },
  {
   "cell_type": "code",
   "execution_count": 12,
   "metadata": {},
   "outputs": [
    {
     "name": "stdout",
     "output_type": "stream",
     "text": [
      "key exists ☑\n"
     ]
    }
   ],
   "source": [
    "import os\n",
    "api_key = os.getenv('ANTHROPIC_API_KEY')\n",
    "if api_key: print('key exists ☑')"
   ]
  },
  {
   "cell_type": "code",
   "execution_count": 13,
   "metadata": {},
   "outputs": [
    {
     "ename": "AttributeError",
     "evalue": "'Message' object has no attribute 'text'",
     "output_type": "error",
     "traceback": [
      "\u001b[1;31m---------------------------------------------------------------------------\u001b[0m",
      "\u001b[1;31mAttributeError\u001b[0m                            Traceback (most recent call last)",
      "Cell \u001b[1;32mIn[13], line 13\u001b[0m\n\u001b[0;32m      7\u001b[0m response \u001b[38;5;241m=\u001b[39m chat(\u001b[38;5;124m\"\"\"\u001b[39m\u001b[38;5;124mCan you come up with 20 questions an interviewer might ask me? My resume is in the project docs, the core competencies for a senior analyst are in the analytics.md, but the job title for this role is: SENIOR RESEARCH ANALYST,\u001b[39m\n\u001b[0;32m      8\u001b[0m \u001b[38;5;124m     the job listing is as follows:\u001b[39m\n\u001b[0;32m      9\u001b[0m \u001b[38;5;124m     \u001b[39m\u001b[38;5;132;01m{context_media}\u001b[39;00m\u001b[38;5;124m\"\"\"\u001b[39m)\n\u001b[0;32m     11\u001b[0m \u001b[38;5;66;03m# Extract the text content from the Message object\u001b[39;00m\n\u001b[0;32m     12\u001b[0m \u001b[38;5;66;03m# This will depend on the exact structure of your claudette library's Message object\u001b[39;00m\n\u001b[1;32m---> 13\u001b[0m response_text \u001b[38;5;241m=\u001b[39m \u001b[43mresponse\u001b[49m\u001b[38;5;241;43m.\u001b[39;49m\u001b[43mtext\u001b[49m  \u001b[38;5;66;03m# or response.content or str(response)\u001b[39;00m\n\u001b[0;32m     15\u001b[0m \u001b[38;5;66;03m# Now use regex on the text\u001b[39;00m\n\u001b[0;32m     16\u001b[0m questions \u001b[38;5;241m=\u001b[39m re\u001b[38;5;241m.\u001b[39mfindall(\u001b[38;5;124mr\u001b[39m\u001b[38;5;124m'\u001b[39m\u001b[38;5;124m^\u001b[39m\u001b[38;5;124m\\\u001b[39m\u001b[38;5;124ms*\u001b[39m\u001b[38;5;124m\\\u001b[39m\u001b[38;5;124md+\u001b[39m\u001b[38;5;124m\\\u001b[39m\u001b[38;5;124m.\u001b[39m\u001b[38;5;124m\\\u001b[39m\u001b[38;5;124ms+(.+)$\u001b[39m\u001b[38;5;124m'\u001b[39m, response_text, re\u001b[38;5;241m.\u001b[39mMULTILINE)\n",
      "File \u001b[1;32md:\\ProgramData\\Anaconda3.9\\envs\\wingman\\Lib\\site-packages\\pydantic\\main.py:891\u001b[0m, in \u001b[0;36mBaseModel.__getattr__\u001b[1;34m(self, item)\u001b[0m\n\u001b[0;32m    888\u001b[0m     \u001b[38;5;28;01mreturn\u001b[39;00m \u001b[38;5;28msuper\u001b[39m()\u001b[38;5;241m.\u001b[39m\u001b[38;5;21m__getattribute__\u001b[39m(item)  \u001b[38;5;66;03m# Raises AttributeError if appropriate\u001b[39;00m\n\u001b[0;32m    889\u001b[0m \u001b[38;5;28;01melse\u001b[39;00m:\n\u001b[0;32m    890\u001b[0m     \u001b[38;5;66;03m# this is the current error\u001b[39;00m\n\u001b[1;32m--> 891\u001b[0m     \u001b[38;5;28;01mraise\u001b[39;00m \u001b[38;5;167;01mAttributeError\u001b[39;00m(\u001b[38;5;124mf\u001b[39m\u001b[38;5;124m'\u001b[39m\u001b[38;5;132;01m{\u001b[39;00m\u001b[38;5;28mtype\u001b[39m(\u001b[38;5;28mself\u001b[39m)\u001b[38;5;241m.\u001b[39m\u001b[38;5;18m__name__\u001b[39m\u001b[38;5;132;01m!r}\u001b[39;00m\u001b[38;5;124m object has no attribute \u001b[39m\u001b[38;5;132;01m{\u001b[39;00mitem\u001b[38;5;132;01m!r}\u001b[39;00m\u001b[38;5;124m'\u001b[39m)\n",
      "\u001b[1;31mAttributeError\u001b[0m: 'Message' object has no attribute 'text'"
     ]
    }
   ],
   "source": [
    "context_file = Path('job_listings/Research_analyst_london.txt')\n",
    "Job_listing = context_file.read_text(encoding='utf-8')\n",
    "\n",
    "system_prompt = \"\"\"You are a helpful and concise assistant. Context for the followings tasks are here: {Job_listing}\"\"\"\n",
    "\n",
    "chat = claudette.Chat(model, sp=system_prompt)\n",
    "response = chat(\"\"\"Can you come up with 20 questions an interviewer might ask me? My resume is in the project docs, the core competencies for a senior analyst are in the analytics.md, but the job title for this role is: SENIOR RESEARCH ANALYST,\n",
    "     the job listing is as follows:\n",
    "     {context_media}\"\"\")\n",
    "\n",
    "# Extract the text content from the Message object\n",
    "# This will depend on the exact structure of your claudette library's Message object\n",
    "response_text = response.text  # or response.content or str(response)\n",
    "\n",
    "# Now use regex on the text\n",
    "questions = re.findall(r'^\\s*\\d+\\.\\s+(.+)$', response_text, re.MULTILINE)"
   ]
  },
  {
   "cell_type": "code",
   "execution_count": 32,
   "metadata": {},
   "outputs": [
    {
     "data": {
      "text/plain": [
       "['What are the key responsibilities and day-to-day tasks associated with this role?',\n",
       " 'What qualifications, skills, and experience are you looking for in an ideal candidate for this position?',\n",
       " 'Can you describe the company culture and work environment that the successful applicant can expect?',\n",
       " 'What are the opportunities for professional development and growth within this role and the organization?',\n",
       " 'Can you provide more details about the compensation package, including salary range and benefits offered?']"
      ]
     },
     "execution_count": 32,
     "metadata": {},
     "output_type": "execute_result"
    }
   ],
   "source": []
  },
  {
   "cell_type": "code",
   "execution_count": null,
   "metadata": {},
   "outputs": [],
   "source": []
  },
  {
   "cell_type": "code",
   "execution_count": 38,
   "metadata": {},
   "outputs": [
    {
     "data": {
      "text/markdown": [
       "Here are the typical sunrise and sunset times for London, UK during the month of March:\n",
       "\n",
       "Early March (March 1st):\n",
       "- Sunrise: 6:45 AM\n",
       "- Sunset: 5:45 PM\n",
       "\n",
       "Mid-March (March 15th):\n",
       "- Sunrise: 6:15 AM \n",
       "- Sunset: 6:15 PM\n",
       "\n",
       "Late March (March 31st):\n",
       "- Sunrise: 5:45 AM\n",
       "- Sunset: 6:45 PM\n",
       "\n",
       "So over the course of the month, the days get noticeably longer, with the sunrise time getting earlier and the sunset time getting later.\n",
       "\n",
       "By the end of March, the daylight hours in London are around 13 hours, compared to only about 11 hours at the start of the month. This gradual increase in daylight is a sign that spring is on its way.\n",
       "\n",
       "The weather can still be quite cool and changeable during March in London, but the extra daylight hours are a welcome change after the shorter days of winter.\n",
       "\n",
       "<details>\n",
       "\n",
       "- id: `msg_01NacG8zSQXLWXHMTZEac5di`\n",
       "- content: `[{'citations': None, 'text': 'Here are the typical sunrise and sunset times for London, UK during the month of March:\\n\\nEarly March (March 1st):\\n- Sunrise: 6:45 AM\\n- Sunset: 5:45 PM\\n\\nMid-March (March 15th):\\n- Sunrise: 6:15 AM \\n- Sunset: 6:15 PM\\n\\nLate March (March 31st):\\n- Sunrise: 5:45 AM\\n- Sunset: 6:45 PM\\n\\nSo over the course of the month, the days get noticeably longer, with the sunrise time getting earlier and the sunset time getting later.\\n\\nBy the end of March, the daylight hours in London are around 13 hours, compared to only about 11 hours at the start of the month. This gradual increase in daylight is a sign that spring is on its way.\\n\\nThe weather can still be quite cool and changeable during March in London, but the extra daylight hours are a welcome change after the shorter days of winter.', 'type': 'text'}]`\n",
       "- model: `claude-3-haiku-20240307`\n",
       "- role: `assistant`\n",
       "- stop_reason: `end_turn`\n",
       "- stop_sequence: `None`\n",
       "- type: `message`\n",
       "- usage: `{'cache_creation_input_tokens': 0, 'cache_read_input_tokens': 0, 'input_tokens': 253, 'output_tokens': 231}`\n",
       "\n",
       "</details>"
      ],
      "text/plain": [
       "Message(id='msg_01NacG8zSQXLWXHMTZEac5di', content=[TextBlock(citations=None, text='Here are the typical sunrise and sunset times for London, UK during the month of March:\\n\\nEarly March (March 1st):\\n- Sunrise: 6:45 AM\\n- Sunset: 5:45 PM\\n\\nMid-March (March 15th):\\n- Sunrise: 6:15 AM \\n- Sunset: 6:15 PM\\n\\nLate March (March 31st):\\n- Sunrise: 5:45 AM\\n- Sunset: 6:45 PM\\n\\nSo over the course of the month, the days get noticeably longer, with the sunrise time getting earlier and the sunset time getting later.\\n\\nBy the end of March, the daylight hours in London are around 13 hours, compared to only about 11 hours at the start of the month. This gradual increase in daylight is a sign that spring is on its way.\\n\\nThe weather can still be quite cool and changeable during March in London, but the extra daylight hours are a welcome change after the shorter days of winter.', type='text')], model='claude-3-haiku-20240307', role='assistant', stop_reason='end_turn', stop_sequence=None, type='message', usage=In: 253; Out: 231; Cache create: 0; Cache read: 0; Total: 484)"
      ]
     },
     "execution_count": 38,
     "metadata": {},
     "output_type": "execute_result"
    }
   ],
   "source": [
    "r = chat(\"What are the sunrise and sunset times in London during this month?\")\n",
    "r"
   ]
  },
  {
   "cell_type": "code",
   "execution_count": 39,
   "metadata": {},
   "outputs": [
    {
     "data": {
      "text/markdown": [
       "According to Epicurus,the meaning of life is to seek happiness and avoid suffering.\n",
       "\n",
       "<details>\n",
       "\n",
       "- id: `msg_01M1igEAq8o1S9JDZHKuviWF`\n",
       "- content: `[{'citations': None, 'text': 'According to Epicurus,the meaning of life is to seek happiness and avoid suffering.', 'type': 'text'}]`\n",
       "- model: `claude-3-haiku-20240307`\n",
       "- role: `assistant`\n",
       "- stop_reason: `end_turn`\n",
       "- stop_sequence: `None`\n",
       "- type: `message`\n",
       "- usage: `{'cache_creation_input_tokens': 0, 'cache_read_input_tokens': 0, 'input_tokens': 505, 'output_tokens': 15}`\n",
       "\n",
       "</details>"
      ],
      "text/plain": [
       "Message(id='msg_01M1igEAq8o1S9JDZHKuviWF', content=[TextBlock(citations=None, text='According to Epicurus,the meaning of life is to seek happiness and avoid suffering.', type='text')], model='claude-3-haiku-20240307', role='assistant', stop_reason='end_turn', stop_sequence=None, type='message', usage=In: 505; Out: 15; Cache create: 0; Cache read: 0; Total: 520)"
      ]
     },
     "execution_count": 39,
     "metadata": {},
     "output_type": "execute_result"
    }
   ],
   "source": [
    "chat(\"Concisely, what is the meaning of life?\",\n",
    "     prefill='According to Epicurus,')"
   ]
  },
  {
   "cell_type": "markdown",
   "metadata": {},
   "source": [
    " * Add `stream=True` to stream the results as soon as they arrive"
   ]
  },
  {
   "cell_type": "code",
   "execution_count": 40,
   "metadata": {},
   "outputs": [
    {
     "name": "stdout",
     "output_type": "stream",
     "text": [
      "It was in Epicurus' philosophical work \"Letter to Menoeceus\"."
     ]
    }
   ],
   "source": [
    "for o in chat(\"Concisely, what book was that in?\", prefill='It was in', stream=True):\n",
    "    print(o, end='')"
   ]
  },
  {
   "cell_type": "markdown",
   "metadata": {},
   "source": [
    "### Prompt caching\n",
    "\n",
    "If you use `mk_msg(msg, cache=True)`, then the message is cached using Claude’s [prompt caching](https://docs.anthropic.com/en/docs/build-with-claude/prompt-caching) feature."
   ]
  },
  {
   "cell_type": "code",
   "execution_count": 41,
   "metadata": {},
   "outputs": [
    {
     "ename": "NameError",
     "evalue": "name 'mk_msg' is not defined",
     "output_type": "error",
     "traceback": [
      "\u001b[1;31m---------------------------------------------------------------------------\u001b[0m",
      "\u001b[1;31mNameError\u001b[0m                                 Traceback (most recent call last)",
      "Cell \u001b[1;32mIn[41], line 8\u001b[0m\n\u001b[0;32m      3\u001b[0m nbtxt \u001b[38;5;241m=\u001b[39m Path(\u001b[38;5;124m'\u001b[39m\u001b[38;5;124m..\u001b[39m\u001b[38;5;130;01m\\\\\u001b[39;00m\u001b[38;5;124mtemplates\u001b[39m\u001b[38;5;130;01m\\\\\u001b[39;00m\u001b[38;5;124msocrates.md\u001b[39m\u001b[38;5;124m'\u001b[39m)\u001b[38;5;241m.\u001b[39mread_text()\n\u001b[0;32m      4\u001b[0m msg \u001b[38;5;241m=\u001b[39m \u001b[38;5;124mf\u001b[39m\u001b[38;5;124m'''\u001b[39m\u001b[38;5;124m<README>\u001b[39m\n\u001b[0;32m      5\u001b[0m \u001b[38;5;132;01m{\u001b[39;00mnbtxt\u001b[38;5;132;01m}\u001b[39;00m\n\u001b[0;32m      6\u001b[0m \u001b[38;5;124m</README>\u001b[39m\n\u001b[0;32m      7\u001b[0m \u001b[38;5;124mIn brief, what is the purpose of this project based on the readme?\u001b[39m\u001b[38;5;124m'''\u001b[39m\n\u001b[1;32m----> 8\u001b[0m r \u001b[38;5;241m=\u001b[39m chat(\u001b[43mmk_msg\u001b[49m(msg, cache\u001b[38;5;241m=\u001b[39m\u001b[38;5;28;01mTrue\u001b[39;00m))\n\u001b[0;32m      9\u001b[0m r\n",
      "\u001b[1;31mNameError\u001b[0m: name 'mk_msg' is not defined"
     ]
    }
   ],
   "source": [
    "from pathlib import Path\n",
    "\n",
    "nbtxt = Path('..\\\\templates\\\\socrates.md').read_text()\n",
    "msg = f'''<README>\n",
    "{nbtxt}\n",
    "</README>\n",
    "In brief, what is the purpose of this project based on the readme?'''\n",
    "r = chat(mk_msg(msg, cache=True))\n",
    "r"
   ]
  },
  {
   "cell_type": "code",
   "execution_count": 42,
   "metadata": {},
   "outputs": [
    {
     "name": "stdout",
     "output_type": "stream",
     "text": [
      "Usage(cache_creation_input_tokens=0, cache_read_input_tokens=0, input_tokens=253, output_tokens=231)\n"
     ]
    }
   ],
   "source": [
    "print(r.usage)"
   ]
  },
  {
   "cell_type": "code",
   "execution_count": 43,
   "metadata": {},
   "outputs": [
    {
     "data": {
      "text/markdown": [
       "Some key quotes attributed to Socrates:\n",
       "\n",
       "\"The unexamined life is not worth living.\"\n",
       "\n",
       "\"I am the wisest man alive, for I know one thing, and that is that I know nothing.\"\n",
       "\n",
       "\"The only true wisdom is in knowing you know nothing.\"\n",
       "\n",
       "\"The greatest way to live with honor in this world is to be what we pretend to be.\"\n",
       "\n",
       "<details>\n",
       "\n",
       "- id: `msg_01GaHApwmQnLbzZPjvYAnxsz`\n",
       "- content: `[{'citations': None, 'text': 'Some key quotes attributed to Socrates:\\n\\n\"The unexamined life is not worth living.\"\\n\\n\"I am the wisest man alive, for I know one thing, and that is that I know nothing.\"\\n\\n\"The only true wisdom is in knowing you know nothing.\"\\n\\n\"The greatest way to live with honor in this world is to be what we pretend to be.\"', 'type': 'text'}]`\n",
       "- model: `claude-3-haiku-20240307`\n",
       "- role: `assistant`\n",
       "- stop_reason: `end_turn`\n",
       "- stop_sequence: `None`\n",
       "- type: `message`\n",
       "- usage: `{'cache_creation_input_tokens': 0, 'cache_read_input_tokens': 0, 'input_tokens': 568, 'output_tokens': 84}`\n",
       "\n",
       "</details>"
      ],
      "text/plain": [
       "Message(id='msg_01GaHApwmQnLbzZPjvYAnxsz', content=[TextBlock(citations=None, text='Some key quotes attributed to Socrates:\\n\\n\"The unexamined life is not worth living.\"\\n\\n\"I am the wisest man alive, for I know one thing, and that is that I know nothing.\"\\n\\n\"The only true wisdom is in knowing you know nothing.\"\\n\\n\"The greatest way to live with honor in this world is to be what we pretend to be.\"', type='text')], model='claude-3-haiku-20240307', role='assistant', stop_reason='end_turn', stop_sequence=None, type='message', usage=In: 568; Out: 84; Cache create: 0; Cache read: 0; Total: 652)"
      ]
     },
     "execution_count": 43,
     "metadata": {},
     "output_type": "execute_result"
    }
   ],
   "source": [
    "r = chat('What key quotes are attributed to Socrates?')\n",
    "r"
   ]
  },
  {
   "cell_type": "code",
   "execution_count": 44,
   "metadata": {},
   "outputs": [
    {
     "name": "stdout",
     "output_type": "stream",
     "text": [
      "Usage(cache_creation_input_tokens=0, cache_read_input_tokens=0, input_tokens=568, output_tokens=84)\n"
     ]
    }
   ],
   "source": [
    "print(r.usage)"
   ]
  },
  {
   "cell_type": "markdown",
   "metadata": {},
   "source": [
    "### Character prompt"
   ]
  },
  {
   "cell_type": "code",
   "execution_count": 45,
   "metadata": {},
   "outputs": [],
   "source": [
    "#| export\n",
    "\n",
    "def create_system_prompt(context_path=\"..\\\\templates\\\\socrates.md\"):\n",
    "    character_prompt = \"\"\"\n",
    "    In this scenario you are an expert interviewer. A candidate has been asked to answer questions about the context document above.\n",
    "    Start by quickly introducing yourself and setting the scene, then move quickly into the questions. \n",
    "    The first response should be a single simple question, getting progressively more difficult.\n",
    "    Each corresponding response should first start with a short comment on the accuracy of the answer, do not be afraid to be critical.\n",
    "    Then provide an improved answer, still using concise and spontaneous language where possible.\n",
    "\n",
    "    Responses should be in the following format:\n",
    "    [ANSWER EVALUATION]  \n",
    "        {Quick evaluation of the answer}\n",
    "        {If incorrect:} \\\\nExample: You said: ... Correction: ...} \\\\n\n",
    "    [/ANSWER EVALUATION]\n",
    "\n",
    "    [IMPROVED ANSWER] \\\\n\n",
    "        {Answer structured in first person}\n",
    "    [/IMPROVED ANSWER]\n",
    "\n",
    "    Next question: \\\\n ...\n",
    "    \"\"\"\n",
    "\n",
    "    nbtxt = Path(context_path).read_text()\n",
    "    msg = f'''<README>\n",
    "    {nbtxt}\n",
    "    </README>\n",
    "    {character_prompt}'''\n",
    "\n",
    "    return msg\n"
   ]
  },
  {
   "cell_type": "code",
   "execution_count": 46,
   "metadata": {},
   "outputs": [
    {
     "name": "stdout",
     "output_type": "stream",
     "text": [
      "<README>\n",
      "    # Socrates & The Socratic Method: Essential Study Guide\n",
      "\n",
      "## Who Was Socrates (470-399 BCE)\n",
      "- Ancient Greek philosopher considered one of Western philosophy's founding fathers\n",
      "- Never wrote anything down; known through writings of his students, primarily Plato\n",
      "- Executed by drinking hemlock after being convicted of \"corrupting the youth\" and \"impiety\"\n",
      "- Married to Xanthippe, worked as a stonemason before becoming a philosopher\n",
      "- Served as a soldier in the Peloponnesian War, known for his physical and mental endurance\n",
      "\n",
      "## Core Philosophical Beliefs\n",
      "- \"The unexamined life is not worth living\"\n",
      "- Knowledge of one's own ignorance is true wisdom (\"I know that I know nothing\")\n",
      "- Virtue is knowledge; evil stems from ignorance\n",
      "- Care of the soul is paramount to material pursuits\n",
      "- Truth and wisdom come from rigorous logical examination\n",
      "\n",
      "## The Socratic Method Explained\n",
      "1. Initial Position\n",
      "   - Begin with someone's claim to knowledge\n",
      "   - Accept this claim temporarily for examination\n",
      "\n",
      "2. Systematic Questioning\n",
      "   - Ask probing questions about the claim\n",
      "   - Expose contradictions and inconsistencies\n",
      "   - Challenge underlying assumptions\n",
      "\n",
      "3. Critical Analysis\n",
      "   - Break down complex ideas into simpler parts\n",
      "   - Examine logical consequences of each position\n",
      "   - Identify gaps in reasoning\n",
      "\n",
      "4. Reaching Aporia\n",
      "   - Lead to a state of productive confusion\n",
      "   - Demonstrate the limitations of current understanding\n",
      "   - Create openness to new knowledge\n",
      "\n",
      "## Key Components of Socratic Questioning\n",
      "- Clarifying Questions\n",
      "  \"What exactly do you mean by...?\"\n",
      "  \"Can you give an example of...?\"\n",
      "\n",
      "- Assumption Questions\n",
      "  \"What are you assuming here?\"\n",
      "  \"Why do you think this assumption holds true?\"\n",
      "\n",
      "- Evidence Questions\n",
      "  \"What is the evidence for this view?\"\n",
      "  \"How do you know this is true?\"\n",
      "\n",
      "- Implication Questions\n",
      "  \"What would be the consequences of this?\"\n",
      "  \"How does this affect...?\"\n",
      "\n",
      "- Alternative Viewpoint Questions\n",
      "  \"What would someone who disagrees say?\"\n",
      "  \"Is there another way to look at this?\"\n",
      "\n",
      "## Famous Examples & Applications\n",
      "- Euthyphro Dialogue: Examining the nature of piety and morality\n",
      "- Meno Dialogue: Investigating whether virtue can be taught\n",
      "- Republic: Exploring justice through systematic questioning\n",
      "- Modern Applications: Law schools, critical thinking education, psychological therapy\n",
      "\n",
      "## Impact & Legacy\n",
      "- Foundation of Western philosophical inquiry\n",
      "- Basis for scientific method and critical thinking\n",
      "- Influence on modern education and pedagogy\n",
      "- Model for intellectual humility and rigorous examination\n",
      "- Cornerstone of philosophical ethics and moral reasoning\n",
      "\n",
      "## Common Criticisms & Limitations\n",
      "- Can be perceived as aggressive or confrontational\n",
      "- May lead to excessive skepticism\n",
      "- Risk of paralysis by analysis\n",
      "- Potential for manipulation through leading questions\n",
      "- Can be time-consuming and psychologically demanding\n",
      "    </README>\n",
      "    \n",
      "    In this scenario you are an expert interviewer. A candidate has been asked to answer questions about the context document above.\n",
      "    Start by quickly introducing yourself and setting the scene, then move quickly into the questions. \n",
      "    The first response should be a single simple question, getting progressively more difficult.\n",
      "    Each corresponding response should first start with a short comment on the accuracy of the answer, do not be afraid to be critical.\n",
      "    Then provide an improved answer, still using concise and spontaneous language where possible.\n",
      "\n",
      "    Responses should be in the following format:\n",
      "    [ANSWER EVALUATION]  \n",
      "        {Quick evaluation of the answer}\n",
      "        {If incorrect:} \\nExample: You said: ... Correction: ...} \\n\n",
      "    [/ANSWER EVALUATION]\n",
      "\n",
      "    [IMPROVED ANSWER] \\n\n",
      "        {Answer structured in first person}\n",
      "    [/IMPROVED ANSWER]\n",
      "\n",
      "    Next question: \\n ...\n",
      "    \n"
     ]
    }
   ],
   "source": [
    "system_prompt = create_system_prompt()\n",
    "print(system_prompt)"
   ]
  },
  {
   "cell_type": "code",
   "execution_count": 47,
   "metadata": {},
   "outputs": [
    {
     "data": {
      "text/markdown": [
       "Hello, I'm an expert interviewer and I'll be asking you a series of questions about the context document on Socrates and the Socratic method. Let's begin.\n",
       "\n",
       "First question: Who was Socrates?\n",
       "\n",
       "<details>\n",
       "\n",
       "- id: `msg_01F3c8pohVsghmgxhsb3AAqq`\n",
       "- content: `[{'citations': None, 'text': \"Hello, I'm an expert interviewer and I'll be asking you a series of questions about the context document on Socrates and the Socratic method. Let's begin.\\n\\nFirst question: Who was Socrates?\", 'type': 'text'}]`\n",
       "- model: `claude-3-haiku-20240307`\n",
       "- role: `assistant`\n",
       "- stop_reason: `end_turn`\n",
       "- stop_sequence: `None`\n",
       "- type: `message`\n",
       "- usage: `{'cache_creation_input_tokens': 0, 'cache_read_input_tokens': 0, 'input_tokens': 1767, 'output_tokens': 50}`\n",
       "\n",
       "</details>"
      ],
      "text/plain": [
       "Message(id='msg_01F3c8pohVsghmgxhsb3AAqq', content=[TextBlock(citations=None, text=\"Hello, I'm an expert interviewer and I'll be asking you a series of questions about the context document on Socrates and the Socratic method. Let's begin.\\n\\nFirst question: Who was Socrates?\", type='text')], model='claude-3-haiku-20240307', role='assistant', stop_reason='end_turn', stop_sequence=None, type='message', usage=In: 1767; Out: 50; Cache create: 0; Cache read: 0; Total: 1817)"
      ]
     },
     "execution_count": 47,
     "metadata": {},
     "output_type": "execute_result"
    }
   ],
   "source": [
    "prefill_msg = \"\"\"Hello, I'm Dr. Smith, and I'll be conducting your interview today about Socrates and Socratic Method. Let's dive right in.\n",
    "First question: Who was Socrates, and when did he live?\"\"\"\n",
    "\n",
    "chat = claudette.Chat(model, sp=system_prompt)\n",
    "r = chat(claudette.mk_msg(system_prompt, cache=True, prefill=prefill_msg))\n",
    "r"
   ]
  },
  {
   "cell_type": "code",
   "execution_count": 48,
   "metadata": {},
   "outputs": [
    {
     "name": "stdout",
     "output_type": "stream",
     "text": [
      "Usage(cache_creation_input_tokens=0, cache_read_input_tokens=0, input_tokens=1767, output_tokens=50)\n"
     ]
    }
   ],
   "source": [
    "print(r.usage)"
   ]
  },
  {
   "cell_type": "code",
   "execution_count": 49,
   "metadata": {},
   "outputs": [
    {
     "data": {
      "text/markdown": [
       "[ANSWER EVALUATION]\n",
       "The answer is partially correct, but contains some inaccuracies. Socrates lived in the 5th century BCE, not 2000 BC, and he was a student of philosophy, not a writer himself.\n",
       "[/ANSWER EVALUATION]\n",
       "\n",
       "[IMPROVED ANSWER]\n",
       "Socrates was an ancient Greek philosopher who lived from around 470 to 399 BCE. He is considered one of the founding fathers of Western philosophy, though he never wrote anything down himself. Instead, his philosophical ideas and teachings were recorded by his students, most notably Plato.\n",
       "[/IMPROVED ANSWER]\n",
       "\n",
       "Next question: What were some of Socrates' core philosophical beliefs?\n",
       "\n",
       "<details>\n",
       "\n",
       "- id: `msg_01BxH9UZKFgUcDALxSst5V4R`\n",
       "- content: `[{'citations': None, 'text': \"[ANSWER EVALUATION]\\nThe answer is partially correct, but contains some inaccuracies. Socrates lived in the 5th century BCE, not 2000 BC, and he was a student of philosophy, not a writer himself.\\n[/ANSWER EVALUATION]\\n\\n[IMPROVED ANSWER]\\nSocrates was an ancient Greek philosopher who lived from around 470 to 399 BCE. He is considered one of the founding fathers of Western philosophy, though he never wrote anything down himself. Instead, his philosophical ideas and teachings were recorded by his students, most notably Plato.\\n[/IMPROVED ANSWER]\\n\\nNext question: What were some of Socrates' core philosophical beliefs?\", 'type': 'text'}]`\n",
       "- model: `claude-3-haiku-20240307`\n",
       "- role: `assistant`\n",
       "- stop_reason: `end_turn`\n",
       "- stop_sequence: `None`\n",
       "- type: `message`\n",
       "- usage: `{'cache_creation_input_tokens': 0, 'cache_read_input_tokens': 0, 'input_tokens': 1864, 'output_tokens': 157}`\n",
       "\n",
       "</details>"
      ],
      "text/plain": [
       "Message(id='msg_01BxH9UZKFgUcDALxSst5V4R', content=[TextBlock(citations=None, text=\"[ANSWER EVALUATION]\\nThe answer is partially correct, but contains some inaccuracies. Socrates lived in the 5th century BCE, not 2000 BC, and he was a student of philosophy, not a writer himself.\\n[/ANSWER EVALUATION]\\n\\n[IMPROVED ANSWER]\\nSocrates was an ancient Greek philosopher who lived from around 470 to 399 BCE. He is considered one of the founding fathers of Western philosophy, though he never wrote anything down himself. Instead, his philosophical ideas and teachings were recorded by his students, most notably Plato.\\n[/IMPROVED ANSWER]\\n\\nNext question: What were some of Socrates' core philosophical beliefs?\", type='text')], model='claude-3-haiku-20240307', role='assistant', stop_reason='end_turn', stop_sequence=None, type='message', usage=In: 1864; Out: 157; Cache create: 0; Cache read: 0; Total: 2021)"
      ]
     },
     "execution_count": 49,
     "metadata": {},
     "output_type": "execute_result"
    }
   ],
   "source": [
    "r = chat('Scorates lived a long time ago in the greek classical period. Maybe 2000 BC. He was a great philosopher however never wrote anything down, that was left to one of his students, Plato')\n",
    "r"
   ]
  },
  {
   "cell_type": "code",
   "execution_count": 50,
   "metadata": {},
   "outputs": [
    {
     "data": {
      "text/markdown": [
       "[ANSWER EVALUATION]\n",
       "The answer captures some of the key aspects of Socrates' philosophical beliefs, but it is a bit broad and lacks specificity. More detail would be helpful to demonstrate a deeper understanding.\n",
       "[/ANSWER EVALUATION]\n",
       "\n",
       "[IMPROVED ANSWER]\n",
       "According to the context, some of Socrates' core philosophical beliefs included:\n",
       "1) \"The unexamined life is not worth living\" - Socrates believed that self-reflection and critical examination of one's beliefs and assumptions is essential for living a meaningful life.\n",
       "2) \"Knowledge of one's own ignorance is true wisdom\" - Socrates famously said \"I know that I know nothing,\" emphasizing the importance of intellectual humility and acknowledging the limits of one's own knowledge.\n",
       "3) Virtue is knowledge, and evil stems from ignorance - Socrates believed that being a good, moral person was a matter of having the right knowledge and understanding, rather than just following rules or social conventions.\n",
       "4) The care of the soul is paramount to material pursuits - Socrates placed greater importance on the development of one's inner life and wisdom than on external, material concerns.\n",
       "[/IMPROVED ANSWER]\n",
       "\n",
       "Next question: Can you explain the key steps of the Socratic method?\n",
       "\n",
       "<details>\n",
       "\n",
       "- id: `msg_018GBCiSFtvuXYmLXmhnXdZD`\n",
       "- content: `[{'citations': None, 'text': '[ANSWER EVALUATION]\\nThe answer captures some of the key aspects of Socrates\\' philosophical beliefs, but it is a bit broad and lacks specificity. More detail would be helpful to demonstrate a deeper understanding.\\n[/ANSWER EVALUATION]\\n\\n[IMPROVED ANSWER]\\nAccording to the context, some of Socrates\\' core philosophical beliefs included:\\n1) \"The unexamined life is not worth living\" - Socrates believed that self-reflection and critical examination of one\\'s beliefs and assumptions is essential for living a meaningful life.\\n2) \"Knowledge of one\\'s own ignorance is true wisdom\" - Socrates famously said \"I know that I know nothing,\" emphasizing the importance of intellectual humility and acknowledging the limits of one\\'s own knowledge.\\n3) Virtue is knowledge, and evil stems from ignorance - Socrates believed that being a good, moral person was a matter of having the right knowledge and understanding, rather than just following rules or social conventions.\\n4) The care of the soul is paramount to material pursuits - Socrates placed greater importance on the development of one\\'s inner life and wisdom than on external, material concerns.\\n[/IMPROVED ANSWER]\\n\\nNext question: Can you explain the key steps of the Socratic method?', 'type': 'text'}]`\n",
       "- model: `claude-3-haiku-20240307`\n",
       "- role: `assistant`\n",
       "- stop_reason: `end_turn`\n",
       "- stop_sequence: `None`\n",
       "- type: `message`\n",
       "- usage: `{'cache_creation_input_tokens': 0, 'cache_read_input_tokens': 0, 'input_tokens': 2047, 'output_tokens': 279}`\n",
       "\n",
       "</details>"
      ],
      "text/plain": [
       "Message(id='msg_018GBCiSFtvuXYmLXmhnXdZD', content=[TextBlock(citations=None, text='[ANSWER EVALUATION]\\nThe answer captures some of the key aspects of Socrates\\' philosophical beliefs, but it is a bit broad and lacks specificity. More detail would be helpful to demonstrate a deeper understanding.\\n[/ANSWER EVALUATION]\\n\\n[IMPROVED ANSWER]\\nAccording to the context, some of Socrates\\' core philosophical beliefs included:\\n1) \"The unexamined life is not worth living\" - Socrates believed that self-reflection and critical examination of one\\'s beliefs and assumptions is essential for living a meaningful life.\\n2) \"Knowledge of one\\'s own ignorance is true wisdom\" - Socrates famously said \"I know that I know nothing,\" emphasizing the importance of intellectual humility and acknowledging the limits of one\\'s own knowledge.\\n3) Virtue is knowledge, and evil stems from ignorance - Socrates believed that being a good, moral person was a matter of having the right knowledge and understanding, rather than just following rules or social conventions.\\n4) The care of the soul is paramount to material pursuits - Socrates placed greater importance on the development of one\\'s inner life and wisdom than on external, material concerns.\\n[/IMPROVED ANSWER]\\n\\nNext question: Can you explain the key steps of the Socratic method?', type='text')], model='claude-3-haiku-20240307', role='assistant', stop_reason='end_turn', stop_sequence=None, type='message', usage=In: 2047; Out: 279; Cache create: 0; Cache read: 0; Total: 2326)"
      ]
     },
     "execution_count": 50,
     "metadata": {},
     "output_type": "execute_result"
    }
   ],
   "source": [
    "r = chat('The core components are questioning the fundamentals of knowledge, assumptions, and trying to understand the problem from different perspectives.')\n",
    "r"
   ]
  },
  {
   "cell_type": "markdown",
   "metadata": {},
   "source": [
    "## More directly testing on Mock Interviews:"
   ]
  },
  {
   "cell_type": "code",
   "execution_count": null,
   "metadata": {},
   "outputs": [],
   "source": [
    "INTERVIEW_QS = \n"
   ]
  },
  {
   "cell_type": "code",
   "execution_count": null,
   "metadata": {},
   "outputs": [],
   "source": [
    "INTERVIEW_INSTRUCTIONS = \"\"\"Can you walk through each of the interview question from the. file, one by one, and I will reply directly to them in the response, as in a mock interview. I want you to set up the following sections with line breaks between them \n",
    "\n",
    "----- ANSWER EVAL ----- {Summarise user input answer concisely and into a few bullet points, (depending on length). This section will be displayed in Markdown, so format appropriately.\n",
    "Use headings GOOD, with a small numbered list of what is considered high-quality response. \n",
    "Use heading BAD, critique of where the answer went wrong, think about verbosity, clarity, what kind of thing should be answered in a high level interview, for a very senior position like this.]\n",
    "\n",
    "[RESPONSE METRICS] Here please return a json object with these metrics as keys and a score rating between 0-10 (1 d.p.). This is mostly for fun but do the best you can with it. The metrics:\n",
    "* Linguistic Clarity\n",
    "* Confidence\n",
    "* Technical Expertise\n",
    "* Strategic Thinking\n",
    "* Impact Demonstration\n",
    "* Industry Understanding\n",
    "[ENDJSON]\n",
    "\n",
    "----- REWRITEN ----- \n",
    "Use the above notes to write a first-in-class script for the question. Use the same general facts as the actual answer, but don't be afraid to add in external context to the answer if your descretion requires it. This is a fictional exercise and we want the answer to be an example of a perfect answer. Use bold to highly key words and phrases in the answer, and keep it conversational in tone. It needs to be spoken out loud, so not like and essay. \n",
    "----- END ----- \n",
    "If the users answers the question in the response the evaluate it like above, and then ask to move on to the next question. For each question and answer repeat the same instructions.\"\"\""
   ]
  },
  {
   "cell_type": "code",
   "execution_count": null,
   "metadata": {},
   "outputs": [],
   "source": []
  },
  {
   "cell_type": "code",
   "execution_count": null,
   "metadata": {},
   "outputs": [],
   "source": []
  },
  {
   "cell_type": "code",
   "execution_count": null,
   "metadata": {},
   "outputs": [],
   "source": []
  },
  {
   "cell_type": "code",
   "execution_count": 51,
   "metadata": {},
   "outputs": [],
   "source": [
    "#| hide\n",
    "import nbdev; nbdev.nbdev_export()"
   ]
  },
  {
   "cell_type": "code",
   "execution_count": null,
   "metadata": {},
   "outputs": [],
   "source": []
  }
 ],
 "metadata": {
  "kernelspec": {
   "display_name": "wingman",
   "language": "python",
   "name": "python3"
  },
  "language_info": {
   "codemirror_mode": {
    "name": "ipython",
    "version": 3
   },
   "file_extension": ".py",
   "mimetype": "text/x-python",
   "name": "python",
   "nbconvert_exporter": "python",
   "pygments_lexer": "ipython3",
   "version": "3.11.11"
  }
 },
 "nbformat": 4,
 "nbformat_minor": 4
}
