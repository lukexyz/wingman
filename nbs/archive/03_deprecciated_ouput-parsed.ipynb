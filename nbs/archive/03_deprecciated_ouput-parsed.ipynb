{
 "cells": [
  {
   "cell_type": "markdown",
   "metadata": {},
   "source": [
    "# Chat API\n",
    "\n",
    "* Connecting to Claude's API via [claudette](https://claudette.answer.ai/) for chat completion, \n",
    "* Extracting JSON and rules to populate gradio UI"
   ]
  },
  {
   "cell_type": "code",
   "execution_count": 1,
   "metadata": {},
   "outputs": [],
   "source": [
    "#| default_exp chat"
   ]
  },
  {
   "cell_type": "code",
   "execution_count": 14,
   "metadata": {},
   "outputs": [],
   "source": [
    "#| hide\n",
    "from nbdev.showdoc import *"
   ]
  },
  {
   "cell_type": "code",
   "execution_count": 15,
   "metadata": {},
   "outputs": [],
   "source": [
    "#| export\n",
    "import claudette\n",
    "from pathlib import Path\n",
    "import re"
   ]
  },
  {
   "cell_type": "markdown",
   "metadata": {},
   "source": [
    "* Claudette provides models, which is a list of models currently available from the SDK."
   ]
  },
  {
   "cell_type": "code",
   "execution_count": 16,
   "metadata": {},
   "outputs": [
    {
     "name": "stdout",
     "output_type": "stream",
     "text": [
      "claude-3-opus-20240229\n",
      "claude-3-7-sonnet-20250219\n",
      "claude-3-5-sonnet-20241022\n",
      "claude-3-haiku-20240307\n",
      "claude-3-5-haiku-20241022\n",
      "\n",
      "Chosen model: claude-3-haiku-20240307\n"
     ]
    }
   ],
   "source": [
    "[print(m) for m in claudette.models]\n",
    "# using Sonnet 3.5\n",
    "model = claudette.models[3]\n",
    "print(f'\\nChosen model: {model}')"
   ]
  },
  {
   "cell_type": "code",
   "execution_count": 17,
   "metadata": {},
   "outputs": [
    {
     "name": "stdout",
     "output_type": "stream",
     "text": [
      "key exists ☑\n"
     ]
    }
   ],
   "source": [
    "import os\n",
    "api_key = os.getenv('ANTHROPIC_API_KEY')\n",
    "if api_key: print('key exists ☑')"
   ]
  },
  {
   "cell_type": "code",
   "execution_count": 45,
   "metadata": {},
   "outputs": [
    {
     "data": {
      "text/markdown": [
       "[Q1] Can you walk me through your relevant work experience as a research analyst?\n",
       "\n",
       "[Q2] How do you stay up-to-date with the latest industry trends and developments?\n",
       "\n",
       "[Q3] Can you describe a challenging research project you've worked on and how you approached it?\n",
       "\n",
       "[Q4] What data analysis tools and techniques are you most proficient in?\n",
       "\n",
       "[Q5] How do you ensure the accuracy and reliability of your research findings?\n",
       "\n",
       "[Q6] Can you share an example of a time when you had to present complex research to a non-technical audience?\n",
       "\n",
       "[Q7] How do you prioritize and manage multiple research projects simultaneously?\n",
       "\n",
       "[Q8] What do you consider to be the most important qualities for a successful senior research analyst?\n",
       "\n",
       "[Q9] How do you collaborate with cross-functional teams to gather and synthesize information?\n",
       "\n",
       "[Q10] Can you describe your experience in using data visualization techniques to communicate research insights?\n",
       "\n",
       "<details>\n",
       "\n",
       "- id: `msg_01NrwmTSrBCVfQXF9uMy12Zg`\n",
       "- content: `[{'citations': None, 'text': \"[Q1] Can you walk me through your relevant work experience as a research analyst?\\n\\n[Q2] How do you stay up-to-date with the latest industry trends and developments?\\n\\n[Q3] Can you describe a challenging research project you've worked on and how you approached it?\\n\\n[Q4] What data analysis tools and techniques are you most proficient in?\\n\\n[Q5] How do you ensure the accuracy and reliability of your research findings?\\n\\n[Q6] Can you share an example of a time when you had to present complex research to a non-technical audience?\\n\\n[Q7] How do you prioritize and manage multiple research projects simultaneously?\\n\\n[Q8] What do you consider to be the most important qualities for a successful senior research analyst?\\n\\n[Q9] How do you collaborate with cross-functional teams to gather and synthesize information?\\n\\n[Q10] Can you describe your experience in using data visualization techniques to communicate research insights?\", 'type': 'text'}]`\n",
       "- model: `claude-3-haiku-20240307`\n",
       "- role: `assistant`\n",
       "- stop_reason: `end_turn`\n",
       "- stop_sequence: `None`\n",
       "- type: `message`\n",
       "- usage: `{'cache_creation_input_tokens': 0, 'cache_read_input_tokens': 0, 'input_tokens': 122, 'output_tokens': 208}`\n",
       "\n",
       "</details>"
      ],
      "text/plain": [
       "Message(id='msg_01NrwmTSrBCVfQXF9uMy12Zg', content=[TextBlock(citations=None, text=\"[Q1] Can you walk me through your relevant work experience as a research analyst?\\n\\n[Q2] How do you stay up-to-date with the latest industry trends and developments?\\n\\n[Q3] Can you describe a challenging research project you've worked on and how you approached it?\\n\\n[Q4] What data analysis tools and techniques are you most proficient in?\\n\\n[Q5] How do you ensure the accuracy and reliability of your research findings?\\n\\n[Q6] Can you share an example of a time when you had to present complex research to a non-technical audience?\\n\\n[Q7] How do you prioritize and manage multiple research projects simultaneously?\\n\\n[Q8] What do you consider to be the most important qualities for a successful senior research analyst?\\n\\n[Q9] How do you collaborate with cross-functional teams to gather and synthesize information?\\n\\n[Q10] Can you describe your experience in using data visualization techniques to communicate research insights?\", type='text')], model='claude-3-haiku-20240307', role='assistant', stop_reason='end_turn', stop_sequence=None, type='message', usage=In: 122; Out: 208; Cache create: 0; Cache read: 0; Total: 330)"
      ]
     },
     "execution_count": 45,
     "metadata": {},
     "output_type": "execute_result"
    }
   ],
   "source": [
    "context_file = Path('docs/analytics.md')\n",
    "context_media = context_file.read_text(encoding='utf-8')\n",
    "\n",
    "system_prompt = \"\"\"You are a helpful and concise assistant.\"\"\"\n",
    "\n",
    "chat = claudette.Chat(model, sp=system_prompt)\n",
    "response = chat(\"\"\"Can you come up with 10 realistic questions a hiring manager might ask in an opening interview?  the job title for this role is: SENIOR RESEARCH ANALYST,\n",
    "               Do not add any additional commentary, just list 10 questions only. Start each question with a new line starting like:\n",
    "                [Q1] ... \n",
    "                [Q2] ...\n",
    "                My resume is in the project docs, the core competencies for a senior analyst are below:\n",
    "                {context_media}\"\"\")\n",
    "\n",
    "response"
   ]
  },
  {
   "cell_type": "code",
   "execution_count": 46,
   "metadata": {},
   "outputs": [
    {
     "data": {
      "text/plain": [
       "[]"
      ]
     },
     "execution_count": 46,
     "metadata": {},
     "output_type": "execute_result"
    }
   ],
   "source": [
    "response_text = response.content[0].text  \n",
    "questions = re.findall(r'^\\s*\\d+\\.\\s+(.+)$', response_text, re.MULTILINE)\n",
    "questions"
   ]
  },
  {
   "cell_type": "code",
   "execution_count": 42,
   "metadata": {},
   "outputs": [
    {
     "data": {
      "text/plain": [
       "'Can you walk me through your experience as a senior research analyst?'"
      ]
     },
     "execution_count": 42,
     "metadata": {},
     "output_type": "execute_result"
    }
   ],
   "source": [
    "q1 = questions[0]\n",
    "q1"
   ]
  },
  {
   "cell_type": "markdown",
   "metadata": {},
   "source": [
    "## More directly testing on Mock Interviews:"
   ]
  },
  {
   "cell_type": "code",
   "execution_count": 47,
   "metadata": {},
   "outputs": [],
   "source": [
    "INTERVIEW_QS = response\n"
   ]
  },
  {
   "cell_type": "code",
   "execution_count": 48,
   "metadata": {},
   "outputs": [],
   "source": [
    "INTERVIEW_INSTRUCTIONS = \"\"\"Can you walk through each of the interview question from the. file, one by one, and I \n",
    "will reply directly to them in the response, as in a mock interview. I want you to set up the following sections \n",
    "with line breaks between them \n",
    "\n",
    "----- ANSWER EVAL ----- {Summarise user input answer concisely and into a few bullet points, (depending on length). \n",
    "This section will be displayed in Markdown, so format appropriately.\n",
    "Use headings GOOD, with a small numbered list of what is considered high-quality response. \n",
    "Use heading BAD, critique of where the answer went wrong, think about verbosity, clarity, what kind of thing should be \n",
    "answered in a high level interview, for a very senior position like this.]\n",
    "\n",
    "[RESPONSE METRICS] Here please return a json object with these metrics as keys and a score rating between 0-10 (1 d.p.). \n",
    "This is mostly for fun but do the best you can with it. The metrics:\n",
    "* Linguistic Clarity\n",
    "* Confidence\n",
    "* Technical Expertise\n",
    "* Strategic Thinking\n",
    "* Impact Demonstration\n",
    "* Industry Understanding\n",
    "[ENDJSON]\n",
    "\n",
    "----- REWRITEN ----- \n",
    "Use the above notes to write a first-in-class script for the question. Use the same general facts as the actual answer, \n",
    "but don't be afraid to add in external context to the answer if your descretion requires it. This is a fictional exercise \n",
    "and we want the answer to be an example of a perfect answer. Use bold to highly key words and phrases in the answer, and \n",
    "keep it conversational in tone. It needs to be spoken out loud, so not like and essay. \n",
    "----- END ----- \n",
    "If the users answers the question in the response the evaluate it like above, and then ask to move on to the next question. \n",
    "For each question and answer repeat the same instructions.\"\"\""
   ]
  },
  {
   "cell_type": "code",
   "execution_count": 50,
   "metadata": {},
   "outputs": [
    {
     "data": {
      "text/markdown": [
       "[Q1] Can you walk me through your relevant work experience as a research analyst?\n",
       "\n",
       "<details>\n",
       "\n",
       "- id: `msg_01VH1TznMT2qRNb1pSPX7ZZD`\n",
       "- content: `[{'citations': None, 'text': '[Q1] Can you walk me through your relevant work experience as a research analyst?', 'type': 'text'}]`\n",
       "- model: `claude-3-haiku-20240307`\n",
       "- role: `assistant`\n",
       "- stop_reason: `end_turn`\n",
       "- stop_sequence: `None`\n",
       "- type: `message`\n",
       "- usage: `{'cache_creation_input_tokens': 0, 'cache_read_input_tokens': 0, 'input_tokens': 766, 'output_tokens': 21}`\n",
       "\n",
       "</details>"
      ],
      "text/plain": [
       "Message(id='msg_01VH1TznMT2qRNb1pSPX7ZZD', content=[TextBlock(citations=None, text='[Q1] Can you walk me through your relevant work experience as a research analyst?', type='text')], model='claude-3-haiku-20240307', role='assistant', stop_reason='end_turn', stop_sequence=None, type='message', usage=In: 766; Out: 21; Cache create: 0; Cache read: 0; Total: 787)"
      ]
     },
     "execution_count": 50,
     "metadata": {},
     "output_type": "execute_result"
    }
   ],
   "source": [
    "chat(INTERVIEW_INSTRUCTIONS)"
   ]
  },
  {
   "cell_type": "code",
   "execution_count": 52,
   "metadata": {},
   "outputs": [
    {
     "data": {
      "text/markdown": [
       "----- ANSWER EVAL -----\n",
       "\n",
       "**GOOD**\n",
       "1. The response conveys a sense of confidence in handling challenging questions and tasks as a research analyst.\n",
       "\n",
       "**BAD**\n",
       "1. The language used is very informal and lacks the level of professionalism expected for a senior-level position.\n",
       "2. The response does not provide any specific details about the candidate's work experience, accomplishments, or the types of projects they have worked on.\n",
       "3. There is no demonstration of the candidate's technical expertise, strategic thinking, or industry understanding.\n",
       "\n",
       "[RESPONSE METRICS]\n",
       "{\n",
       "  \"Linguistic Clarity\": 2.0,\n",
       "  \"Confidence\": 4.0,\n",
       "  \"Technical Expertise\": 2.0,\n",
       "  \"Strategic Thinking\": 2.0,\n",
       "  \"Impact Demonstration\": 1.0,\n",
       "  \"Industry Understanding\": 2.0\n",
       "}\n",
       "\n",
       "----- REWRITTEN -----\n",
       "\n",
       "**As a senior research analyst, I've had the opportunity to work on a variety of complex projects that have allowed me to develop a deep understanding of the industry and hone my analytical skills.** One of the key projects I worked on was a comprehensive analysis of the competitive landscape in our target market. This involved gathering data from multiple sources, including industry reports, customer surveys, and competitor websites, and then synthesizing the information to identify key trends, challenges, and opportunities.\n",
       "\n",
       "**I was able to present my findings to the executive team in a clear and concise manner, which ultimately led to the development of a successful market entry strategy.** Throughout this process, I had to handle a number of challenging questions from stakeholders, and I was able to draw upon my strong technical expertise and strategic thinking to provide well-informed and impactful responses.\n",
       "\n",
       "**In addition to my technical skills, I've also developed strong communication and collaboration abilities, which have been essential in working with cross-functional teams to ensure that our research insights are effectively integrated into the decision-making process.** I believe these skills, combined with my deep industry knowledge and analytical capabilities, make me well-suited for a senior research analyst role.\n",
       "\n",
       "<details>\n",
       "\n",
       "- id: `msg_01WgYLhkodCiAsLx7xBZe5Fh`\n",
       "- content: `[{'citations': None, 'text': '----- ANSWER EVAL -----\\n\\n**GOOD**\\n1. The response conveys a sense of confidence in handling challenging questions and tasks as a research analyst.\\n\\n**BAD**\\n1. The language used is very informal and lacks the level of professionalism expected for a senior-level position.\\n2. The response does not provide any specific details about the candidate\\'s work experience, accomplishments, or the types of projects they have worked on.\\n3. There is no demonstration of the candidate\\'s technical expertise, strategic thinking, or industry understanding.\\n\\n[RESPONSE METRICS]\\n{\\n  \"Linguistic Clarity\": 2.0,\\n  \"Confidence\": 4.0,\\n  \"Technical Expertise\": 2.0,\\n  \"Strategic Thinking\": 2.0,\\n  \"Impact Demonstration\": 1.0,\\n  \"Industry Understanding\": 2.0\\n}\\n\\n----- REWRITTEN -----\\n\\n**As a senior research analyst, I\\'ve had the opportunity to work on a variety of complex projects that have allowed me to develop a deep understanding of the industry and hone my analytical skills.** One of the key projects I worked on was a comprehensive analysis of the competitive landscape in our target market. This involved gathering data from multiple sources, including industry reports, customer surveys, and competitor websites, and then synthesizing the information to identify key trends, challenges, and opportunities.\\n\\n**I was able to present my findings to the executive team in a clear and concise manner, which ultimately led to the development of a successful market entry strategy.** Throughout this process, I had to handle a number of challenging questions from stakeholders, and I was able to draw upon my strong technical expertise and strategic thinking to provide well-informed and impactful responses.\\n\\n**In addition to my technical skills, I\\'ve also developed strong communication and collaboration abilities, which have been essential in working with cross-functional teams to ensure that our research insights are effectively integrated into the decision-making process.** I believe these skills, combined with my deep industry knowledge and analytical capabilities, make me well-suited for a senior research analyst role.', 'type': 'text'}]`\n",
       "- model: `claude-3-haiku-20240307`\n",
       "- role: `assistant`\n",
       "- stop_reason: `end_turn`\n",
       "- stop_sequence: `None`\n",
       "- type: `message`\n",
       "- usage: `{'cache_creation_input_tokens': 0, 'cache_read_input_tokens': 0, 'input_tokens': 1345, 'output_tokens': 457}`\n",
       "\n",
       "</details>"
      ],
      "text/plain": [
       "Message(id='msg_01WgYLhkodCiAsLx7xBZe5Fh', content=[TextBlock(citations=None, text='----- ANSWER EVAL -----\\n\\n**GOOD**\\n1. The response conveys a sense of confidence in handling challenging questions and tasks as a research analyst.\\n\\n**BAD**\\n1. The language used is very informal and lacks the level of professionalism expected for a senior-level position.\\n2. The response does not provide any specific details about the candidate\\'s work experience, accomplishments, or the types of projects they have worked on.\\n3. There is no demonstration of the candidate\\'s technical expertise, strategic thinking, or industry understanding.\\n\\n[RESPONSE METRICS]\\n{\\n  \"Linguistic Clarity\": 2.0,\\n  \"Confidence\": 4.0,\\n  \"Technical Expertise\": 2.0,\\n  \"Strategic Thinking\": 2.0,\\n  \"Impact Demonstration\": 1.0,\\n  \"Industry Understanding\": 2.0\\n}\\n\\n----- REWRITTEN -----\\n\\n**As a senior research analyst, I\\'ve had the opportunity to work on a variety of complex projects that have allowed me to develop a deep understanding of the industry and hone my analytical skills.** One of the key projects I worked on was a comprehensive analysis of the competitive landscape in our target market. This involved gathering data from multiple sources, including industry reports, customer surveys, and competitor websites, and then synthesizing the information to identify key trends, challenges, and opportunities.\\n\\n**I was able to present my findings to the executive team in a clear and concise manner, which ultimately led to the development of a successful market entry strategy.** Throughout this process, I had to handle a number of challenging questions from stakeholders, and I was able to draw upon my strong technical expertise and strategic thinking to provide well-informed and impactful responses.\\n\\n**In addition to my technical skills, I\\'ve also developed strong communication and collaboration abilities, which have been essential in working with cross-functional teams to ensure that our research insights are effectively integrated into the decision-making process.** I believe these skills, combined with my deep industry knowledge and analytical capabilities, make me well-suited for a senior research analyst role.', type='text')], model='claude-3-haiku-20240307', role='assistant', stop_reason='end_turn', stop_sequence=None, type='message', usage=In: 1345; Out: 457; Cache create: 0; Cache read: 0; Total: 1802)"
      ]
     },
     "execution_count": 52,
     "metadata": {},
     "output_type": "execute_result"
    }
   ],
   "source": [
    "chat(\"Yeah, when I was working as a research analyst, it was pretty tight. Lots of people asked me some pretty hard questions and I, you know, I just crushed it\")"
   ]
  },
  {
   "cell_type": "markdown",
   "metadata": {},
   "source": [
    "# Gradio UI"
   ]
  },
  {
   "cell_type": "code",
   "execution_count": 60,
   "metadata": {},
   "outputs": [
    {
     "name": "stderr",
     "output_type": "stream",
     "text": [
      "d:\\ProgramData\\Anaconda3.9\\envs\\wingman\\Lib\\site-packages\\gradio\\components\\chatbot.py:291: UserWarning: The 'tuples' format for chatbot messages is deprecated and will be removed in a future version of Gradio. Please set type='messages' instead, which uses openai-style 'role' and 'content' keys.\n",
      "  warnings.warn(\n"
     ]
    },
    {
     "name": "stdout",
     "output_type": "stream",
     "text": [
      "* Running on local URL:  http://127.0.0.1:7868\n",
      "\n",
      "To create a public link, set `share=True` in `launch()`.\n"
     ]
    },
    {
     "data": {
      "text/html": [
       "<div><iframe src=\"http://127.0.0.1:7868/\" width=\"100%\" height=\"500\" allow=\"autoplay; camera; microphone; clipboard-read; clipboard-write;\" frameborder=\"0\" allowfullscreen></iframe></div>"
      ],
      "text/plain": [
       "<IPython.core.display.HTML object>"
      ]
     },
     "metadata": {},
     "output_type": "display_data"
    },
    {
     "data": {
      "text/plain": []
     },
     "execution_count": 60,
     "metadata": {},
     "output_type": "execute_result"
    },
    {
     "ename": "",
     "evalue": "",
     "output_type": "error",
     "traceback": [
      "\u001b[1;31mThe Kernel crashed while executing code in the current cell or a previous cell. \n",
      "\u001b[1;31mPlease review the code in the cell(s) to identify a possible cause of the failure. \n",
      "\u001b[1;31mClick <a href='https://aka.ms/vscodeJupyterKernelCrash'>here</a> for more info. \n",
      "\u001b[1;31mView Jupyter <a href='command:jupyter.viewOutput'>log</a> for further details."
     ]
    }
   ],
   "source": [
    "\n",
    "import gradio as gr\n",
    "\n",
    "def respond(message, history):\n",
    "    return chat(message)\n",
    "\n",
    "\n",
    "# Create a Gradio interface with the Chatbot component\n",
    "chatbot = gr.ChatInterface(\n",
    "    fn=respond,\n",
    "    examples=[\"Hello Neo.. let's begin.\"],\n",
    "    theme=\"default\"\n",
    ")\n",
    "\n",
    "# Launch the interface inline in the Jupyter notebook\n",
    "chatbot.launch(inline=True)  # The inline=True parameter is key for Jupyter integration"
   ]
  },
  {
   "cell_type": "code",
   "execution_count": 51,
   "metadata": {},
   "outputs": [],
   "source": [
    "#| hide\n",
    "import nbdev; nbdev.nbdev_export()"
   ]
  },
  {
   "cell_type": "code",
   "execution_count": null,
   "metadata": {},
   "outputs": [],
   "source": []
  }
 ],
 "metadata": {
  "kernelspec": {
   "display_name": "wingman",
   "language": "python",
   "name": "python3"
  },
  "language_info": {
   "codemirror_mode": {
    "name": "ipython",
    "version": 3
   },
   "file_extension": ".py",
   "mimetype": "text/x-python",
   "name": "python",
   "nbconvert_exporter": "python",
   "pygments_lexer": "ipython3",
   "version": "3.11.11"
  }
 },
 "nbformat": 4,
 "nbformat_minor": 4
}
